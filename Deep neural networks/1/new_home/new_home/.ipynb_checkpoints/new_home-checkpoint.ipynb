{
 "cells": [
  {
   "cell_type": "markdown",
   "metadata": {
    "id": "tE57GLIXf5Bq"
   },
   "source": [
    "<h1 dir=rtl align=center style=\"line-height:200%;font-family:vazir;color:#0099cc\">\n",
    "<font face=\"vazir\" color=\"#0099cc\">\n",
    "خونه جدید‌؟\n",
    "</font>\n",
    "</h1>\n",
    "\n",
    "<p dir=rtl style=\"direction: rtl; text-align: justify; line-height:200%; font-family:vazir; font-size:medium\">\n",
    "<font face=\"vazir\">\n",
    "در این تمرین می‌خواهیم به‌صورت عملی با نحوه‌ی پیاده‌سازی یک شبکه‌ی عصبی عمیق در <code>keras</code> آشنا شویم. کار خود را با خوانش داده‌ها و تحلیل اکتشافی آن شروع کرده، سپس با استفاده از پیش‌پردازش‌های مختلف، داده‌ها را به‌شکلی که مناسب استفاده در یک مدل یادگیری عمیق باشد آماده می‌کنیم و در نهایت به ساخت و آموزش یک شبکه‌ی عصبی می‌پردازیم. مجموعه‌داده‌ای که از آن استفاده خواهیم کرد شامل اطلاعاتی مربوط به حیوانات خانگی است. هدف این مسئله این است که پیش‌بینی کنیم آیا یک حیوان خانگی برای خود خانه‌ی جدیدی پیدا می‌کند یا خیر.\n",
    "</font>\n",
    "</p>"
   ]
  },
  {
   "cell_type": "code",
   "execution_count": 1,
   "metadata": {
    "id": "4lddftZAf5Bv"
   },
   "outputs": [],
   "source": [
    "import numpy as np\n",
    "import pandas as pd"
   ]
  },
  {
   "cell_type": "code",
   "execution_count": 2,
   "metadata": {},
   "outputs": [],
   "source": [
    "import os\n",
    "os.environ[\"KERAS_BACKEND\"] = \"tensorflow\""
   ]
  },
  {
   "cell_type": "code",
   "execution_count": 3,
   "metadata": {
    "id": "KCk8pM0ofVvf"
   },
   "outputs": [
    {
     "name": "stdout",
     "output_type": "stream",
     "text": [
      "Keras version: 3.9.0\n"
     ]
    }
   ],
   "source": [
    "import keras\n",
    "print(\"Keras version:\", keras.__version__)"
   ]
  },
  {
   "cell_type": "markdown",
   "metadata": {
    "id": "v8smqKiD3189"
   },
   "source": [
    "<h2 dir=rtl align=right style=\"line-height:200%;font-family:vazir;color:#0099cc\">\n",
    "<font face=\"vazir\" color=\"#0099cc\">\n",
    "مجموعه‌داده\n",
    "</font>\n",
    "</h2>\n",
    "\n",
    "\n",
    "<p dir=rtl style=\"direction: rtl; text-align: justify; line-height:200%; font-family:vazir; font-size:medium\">\n",
    "<font face=\"vazir\">\n",
    "مشخصات ویژگی‌های مجموعه‌داده‌ای که در دسترس شما قرار گرفته در جداول زیر آمده است.\n",
    "ابتدا مجموعه‌داده‌ی آموزشی و آزمون را از دو فایل <code>csv</code> موجود در پوشه‌ی تمرین بخوانید.\n",
    "<br>\n",
    "    توجه داشته‌باشد در مجموعه‌داده‌ی آزمون، ستون <code>AdoptionSpeed</code> وجود ندارد، زیرا در ادامه از این ستون برای ساخت متغیر هدف مسئله استفاده خواهیم کرد.\n",
    "</font>\n",
    "</p>\n",
    "\n",
    "\n",
    "<center>\n",
    "<div dir=rtl style=\"direction: rtl;line-height:200%;font-family:vazir;font-size:medium\">\n",
    "<font face=\"vazir\" size=3>\n",
    "\n",
    "|ستون|توضیحات|\n",
    "|:------:|:---:|\n",
    "|<code>Type</code>| نوع حیوان|\n",
    "|<code>Age</code>| سن حیوان خانگی (به ماه) هنگام لیست شدن|\n",
    "|<code>Breed1</code>|نژاد اصلی حیوان خانگی|\n",
    "|<code>Gender</code>|جنسیت حیوان خانگی|\n",
    "|<code>Color1</code>|رنگ اصلی حیوان خانگی|\n",
    "|<code>Color2</code>|رنگ دوم حیوان خانگی (در صورت وجود)|\n",
    "|<code>MaturitySize</code>|اندازه|\n",
    "|<code>FurLength</code>|طول خز|\n",
    "|<code>Vaccinated</code>|وضعیت واکسینه شدن|\n",
    "|<code>Sterilized</code>|وضعیت انگل‌زدایی شدن|\n",
    "|<code>Health</code>|وضعیت سلامتی|\n",
    "|<code>Fee</code>|هزینه|\n",
    "|<code>Description</code>|توضیحات|\n",
    "|<code>PhotoAmt</code>|تعداد عکس بارگذاری شده|\n",
    "|<code>AdoptionSpeed</code>|سرعت پذیرش (توضیح این اعداد در ادامه آمده است)|\n",
    "\n",
    "<br>\n",
    "\n",
    "|توضیحات|سرعت پذیرش|\n",
    "|:------:|:---:|\n",
    "|حیوان خانگی در همان روزی که لیست شده به سرپرستی پذیرفته شد.|<code>0</code>|\n",
    "|\tحیوان خانگی بین ۱ تا ۷ روز (هفته اول) پس از لیست شدن به سرپرستی پذیرفته شد.|<code>1</code>|\n",
    "|حیوان خانگی بین ۸ تا ۳۰ روز (ماه اول) پس از لیست شدن به سرپرستی پذیرفته شد.|<code>2</code>|\n",
    "|حیوان خانگی بین ۳۱ تا ۹۰ روز (ماه دوم و سوم) پس از لیست شدن به سرپرستی پذیرفته شد.|<code>3</code>|\n",
    "|پس از ۱۰۰ روز لیست شدن، حیوان خانگی به سرپرستی پذیرفته نشد.|<code>4</code>|\n",
    "\n",
    "</font>\n",
    "</div>\n",
    "</center>"
   ]
  },
  {
   "cell_type": "code",
   "execution_count": 4,
   "metadata": {
    "id": "huIChr-93hDq"
   },
   "outputs": [],
   "source": [
    "# Load the train and test data\n",
    "train = pd.read_csv(\"./data/petfinder_train.csv\")\n",
    "test = pd.read_csv(\"./data/petfinder_test.csv\")"
   ]
  },
  {
   "cell_type": "code",
   "execution_count": 5,
   "metadata": {},
   "outputs": [
    {
     "data": {
      "text/plain": [
       "1000"
      ]
     },
     "execution_count": 5,
     "metadata": {},
     "output_type": "execute_result"
    }
   ],
   "source": [
    "len(test)"
   ]
  },
  {
   "cell_type": "code",
   "execution_count": 6,
   "metadata": {
    "id": "tBg8FlMEf5By"
   },
   "outputs": [
    {
     "data": {
      "text/html": [
       "<div>\n",
       "<style scoped>\n",
       "    .dataframe tbody tr th:only-of-type {\n",
       "        vertical-align: middle;\n",
       "    }\n",
       "\n",
       "    .dataframe tbody tr th {\n",
       "        vertical-align: top;\n",
       "    }\n",
       "\n",
       "    .dataframe thead th {\n",
       "        text-align: right;\n",
       "    }\n",
       "</style>\n",
       "<table border=\"1\" class=\"dataframe\">\n",
       "  <thead>\n",
       "    <tr style=\"text-align: right;\">\n",
       "      <th></th>\n",
       "      <th>Type</th>\n",
       "      <th>Age</th>\n",
       "      <th>Breed1</th>\n",
       "      <th>Gender</th>\n",
       "      <th>Color1</th>\n",
       "      <th>Color2</th>\n",
       "      <th>MaturitySize</th>\n",
       "      <th>FurLength</th>\n",
       "      <th>Vaccinated</th>\n",
       "      <th>Sterilized</th>\n",
       "      <th>Health</th>\n",
       "      <th>Fee</th>\n",
       "      <th>Description</th>\n",
       "      <th>PhotoAmt</th>\n",
       "      <th>AdoptionSpeed</th>\n",
       "    </tr>\n",
       "  </thead>\n",
       "  <tbody>\n",
       "    <tr>\n",
       "      <th>0</th>\n",
       "      <td>Cat</td>\n",
       "      <td>3</td>\n",
       "      <td>Tabby</td>\n",
       "      <td>Male</td>\n",
       "      <td>Black</td>\n",
       "      <td>White</td>\n",
       "      <td>Small</td>\n",
       "      <td>Short</td>\n",
       "      <td>No</td>\n",
       "      <td>No</td>\n",
       "      <td>Healthy</td>\n",
       "      <td>100</td>\n",
       "      <td>Nibble is a 3+ month old ball of cuteness. He ...</td>\n",
       "      <td>1</td>\n",
       "      <td>2</td>\n",
       "    </tr>\n",
       "    <tr>\n",
       "      <th>1</th>\n",
       "      <td>Cat</td>\n",
       "      <td>1</td>\n",
       "      <td>Domestic Medium Hair</td>\n",
       "      <td>Male</td>\n",
       "      <td>Black</td>\n",
       "      <td>Brown</td>\n",
       "      <td>Medium</td>\n",
       "      <td>Medium</td>\n",
       "      <td>Not Sure</td>\n",
       "      <td>Not Sure</td>\n",
       "      <td>Healthy</td>\n",
       "      <td>0</td>\n",
       "      <td>I just found it alone yesterday near my apartm...</td>\n",
       "      <td>2</td>\n",
       "      <td>0</td>\n",
       "    </tr>\n",
       "    <tr>\n",
       "      <th>2</th>\n",
       "      <td>Dog</td>\n",
       "      <td>1</td>\n",
       "      <td>Mixed Breed</td>\n",
       "      <td>Male</td>\n",
       "      <td>Brown</td>\n",
       "      <td>White</td>\n",
       "      <td>Medium</td>\n",
       "      <td>Medium</td>\n",
       "      <td>Yes</td>\n",
       "      <td>No</td>\n",
       "      <td>Healthy</td>\n",
       "      <td>0</td>\n",
       "      <td>Their pregnant mother was dumped by her irresp...</td>\n",
       "      <td>7</td>\n",
       "      <td>3</td>\n",
       "    </tr>\n",
       "    <tr>\n",
       "      <th>3</th>\n",
       "      <td>Dog</td>\n",
       "      <td>4</td>\n",
       "      <td>Mixed Breed</td>\n",
       "      <td>Female</td>\n",
       "      <td>Black</td>\n",
       "      <td>Brown</td>\n",
       "      <td>Medium</td>\n",
       "      <td>Short</td>\n",
       "      <td>Yes</td>\n",
       "      <td>No</td>\n",
       "      <td>Healthy</td>\n",
       "      <td>150</td>\n",
       "      <td>Good guard dog, very alert, active, obedience ...</td>\n",
       "      <td>8</td>\n",
       "      <td>2</td>\n",
       "    </tr>\n",
       "    <tr>\n",
       "      <th>4</th>\n",
       "      <td>Dog</td>\n",
       "      <td>1</td>\n",
       "      <td>Mixed Breed</td>\n",
       "      <td>Male</td>\n",
       "      <td>Black</td>\n",
       "      <td>No Color</td>\n",
       "      <td>Medium</td>\n",
       "      <td>Short</td>\n",
       "      <td>No</td>\n",
       "      <td>No</td>\n",
       "      <td>Healthy</td>\n",
       "      <td>0</td>\n",
       "      <td>This handsome yet cute boy is up for adoption....</td>\n",
       "      <td>3</td>\n",
       "      <td>2</td>\n",
       "    </tr>\n",
       "  </tbody>\n",
       "</table>\n",
       "</div>"
      ],
      "text/plain": [
       "  Type  Age                Breed1  Gender Color1    Color2 MaturitySize  \\\n",
       "0  Cat    3                 Tabby    Male  Black     White        Small   \n",
       "1  Cat    1  Domestic Medium Hair    Male  Black     Brown       Medium   \n",
       "2  Dog    1           Mixed Breed    Male  Brown     White       Medium   \n",
       "3  Dog    4           Mixed Breed  Female  Black     Brown       Medium   \n",
       "4  Dog    1           Mixed Breed    Male  Black  No Color       Medium   \n",
       "\n",
       "  FurLength Vaccinated Sterilized   Health  Fee  \\\n",
       "0     Short         No         No  Healthy  100   \n",
       "1    Medium   Not Sure   Not Sure  Healthy    0   \n",
       "2    Medium        Yes         No  Healthy    0   \n",
       "3     Short        Yes         No  Healthy  150   \n",
       "4     Short         No         No  Healthy    0   \n",
       "\n",
       "                                         Description  PhotoAmt  AdoptionSpeed  \n",
       "0  Nibble is a 3+ month old ball of cuteness. He ...         1              2  \n",
       "1  I just found it alone yesterday near my apartm...         2              0  \n",
       "2  Their pregnant mother was dumped by her irresp...         7              3  \n",
       "3  Good guard dog, very alert, active, obedience ...         8              2  \n",
       "4  This handsome yet cute boy is up for adoption....         3              2  "
      ]
     },
     "execution_count": 6,
     "metadata": {},
     "output_type": "execute_result"
    }
   ],
   "source": [
    "train.head()"
   ]
  },
  {
   "cell_type": "code",
   "execution_count": 7,
   "metadata": {
    "id": "nKP7FU753j_L"
   },
   "outputs": [
    {
     "name": "stdout",
     "output_type": "stream",
     "text": [
      "<class 'pandas.core.frame.DataFrame'>\n",
      "RangeIndex: 10537 entries, 0 to 10536\n",
      "Data columns (total 15 columns):\n",
      " #   Column         Non-Null Count  Dtype \n",
      "---  ------         --------------  ----- \n",
      " 0   Type           10537 non-null  object\n",
      " 1   Age            10537 non-null  int64 \n",
      " 2   Breed1         10537 non-null  object\n",
      " 3   Gender         10537 non-null  object\n",
      " 4   Color1         10537 non-null  object\n",
      " 5   Color2         10537 non-null  object\n",
      " 6   MaturitySize   10537 non-null  object\n",
      " 7   FurLength      10537 non-null  object\n",
      " 8   Vaccinated     10537 non-null  object\n",
      " 9   Sterilized     10537 non-null  object\n",
      " 10  Health         10537 non-null  object\n",
      " 11  Fee            10537 non-null  int64 \n",
      " 12  Description    10528 non-null  object\n",
      " 13  PhotoAmt       10537 non-null  int64 \n",
      " 14  AdoptionSpeed  10537 non-null  int64 \n",
      "dtypes: int64(4), object(11)\n",
      "memory usage: 1.2+ MB\n"
     ]
    }
   ],
   "source": [
    "train.info()"
   ]
  },
  {
   "cell_type": "markdown",
   "metadata": {
    "id": "Cww908ugf5By"
   },
   "source": [
    "<h2 dir=rtl align=right style=\"line-height:200%;font-family:vazir;color:#0099cc\">\n",
    "<font face=\"vazir\" color=\"#0099cc\">\n",
    "پیش‌پردازش داده‌ها\n",
    "</font>\n",
    "</h2>\n",
    "\n",
    "<p dir=rtl style=\"direction: rtl; text-align: justify; line-height:200%; font-family:vazir; font-size:medium\">\n",
    "<font face=\"vazir\">\n",
    "همان‌طور که می‌دانید قبل از ساخت و آموزش مدل، برای آن‌که داده‌ها مناسب ورودی دادن به مدل باشند معمولاً نیاز است تغیراتی را بر روی مجموعه‌داده اعمال کنیم. گام نخست در پیش‌پردازش داده‌ها، بررسی مقادیر گم‌شده در مجموعه‌داده است که طبق خروجی سلول قبل مشاهده کردیم در این مجموعه‌داده، داده‌ی گم‌شده نداریم، بنابراین به سراغ گام‌های بعدی می‌رویم.\n",
    "</font>\n",
    "</p>\n",
    "\n",
    "<p dir=rtl style=\"direction: rtl; text-align: justify; line-height:200%; font-family:vazir; font-size:medium\">\n",
    "<font face=\"vazir\">\n",
    "<span style=\"color:red\"><b>توجه:</b></span> جهت بررسی پیش‌پردازش انجام‌شده‌ بر روی مجموعه‌داده، دیتافرم <code>test</code> نیز مورد بررسی قرار خواهد گرفت، بنابراین لطفاً پیش‌پردازش یا تغییری بیشتر از آن‌چه از شما خواسته شده انجام ندهید.\n",
    "</font>\n",
    "</p>"
   ]
  },
  {
   "cell_type": "markdown",
   "metadata": {
    "id": "v8OjKTFygx2O"
   },
   "source": [
    "<p dir=rtl style=\"direction: rtl; text-align: justify; line-height:200%; font-family:vazir; font-size:medium\">\n",
    "    <ul dir=rtl style=\"direction: rtl; text-align: justify; line-height:200%; font-family:vazir; font-size:medium\">\n",
    "<font face=\"vazir\">\n",
    "همان‌طور که گفتیم هدف این مسئله، پیش‌بینی پذیرش یا عدم پذیرش حیوان خانگی است، بنابراین باید در مجموعه‌داده‌‌ها یک ستون جدید با اسم <code>Target</code> اضافه کنیم تا از آن به‌عنوان متغیر هدف مسئله استفاده کنیم. مقادیر این ستون تنها در صورتی <code>True</code> است که حیوان خانگی پذیرش شده باشد. در این مرحله با استفاده ستون <code>AdoptionSpeed</code> ستون <code>Target</code> را ایجاد کنید.\n",
    "<br>\n",
    "به‌عنوان راهنمایی می‌توانید از دستور <code>np.where</code> استفاده کنید. البته توجه کنید که راه‌های متنوعی برای انجام این کار وجود دارد.\n",
    "</font>\n",
    "</p>\n",
    "\n",
    "\n"
   ]
  },
  {
   "cell_type": "code",
   "execution_count": 8,
   "metadata": {
    "id": "byXI0LWzgxQR"
   },
   "outputs": [],
   "source": [
    "train['Target'] = np.where(train['AdoptionSpeed'] == 4, 0, 1)"
   ]
  },
  {
   "cell_type": "code",
   "execution_count": 9,
   "metadata": {},
   "outputs": [
    {
     "data": {
      "text/html": [
       "<div>\n",
       "<style scoped>\n",
       "    .dataframe tbody tr th:only-of-type {\n",
       "        vertical-align: middle;\n",
       "    }\n",
       "\n",
       "    .dataframe tbody tr th {\n",
       "        vertical-align: top;\n",
       "    }\n",
       "\n",
       "    .dataframe thead th {\n",
       "        text-align: right;\n",
       "    }\n",
       "</style>\n",
       "<table border=\"1\" class=\"dataframe\">\n",
       "  <thead>\n",
       "    <tr style=\"text-align: right;\">\n",
       "      <th></th>\n",
       "      <th>Type</th>\n",
       "      <th>Age</th>\n",
       "      <th>Breed1</th>\n",
       "      <th>Gender</th>\n",
       "      <th>Color1</th>\n",
       "      <th>Color2</th>\n",
       "      <th>MaturitySize</th>\n",
       "      <th>FurLength</th>\n",
       "      <th>Vaccinated</th>\n",
       "      <th>Sterilized</th>\n",
       "      <th>Health</th>\n",
       "      <th>Fee</th>\n",
       "      <th>Description</th>\n",
       "      <th>PhotoAmt</th>\n",
       "      <th>AdoptionSpeed</th>\n",
       "      <th>Target</th>\n",
       "    </tr>\n",
       "  </thead>\n",
       "  <tbody>\n",
       "    <tr>\n",
       "      <th>0</th>\n",
       "      <td>Cat</td>\n",
       "      <td>3</td>\n",
       "      <td>Tabby</td>\n",
       "      <td>Male</td>\n",
       "      <td>Black</td>\n",
       "      <td>White</td>\n",
       "      <td>Small</td>\n",
       "      <td>Short</td>\n",
       "      <td>No</td>\n",
       "      <td>No</td>\n",
       "      <td>Healthy</td>\n",
       "      <td>100</td>\n",
       "      <td>Nibble is a 3+ month old ball of cuteness. He ...</td>\n",
       "      <td>1</td>\n",
       "      <td>2</td>\n",
       "      <td>1</td>\n",
       "    </tr>\n",
       "    <tr>\n",
       "      <th>1</th>\n",
       "      <td>Cat</td>\n",
       "      <td>1</td>\n",
       "      <td>Domestic Medium Hair</td>\n",
       "      <td>Male</td>\n",
       "      <td>Black</td>\n",
       "      <td>Brown</td>\n",
       "      <td>Medium</td>\n",
       "      <td>Medium</td>\n",
       "      <td>Not Sure</td>\n",
       "      <td>Not Sure</td>\n",
       "      <td>Healthy</td>\n",
       "      <td>0</td>\n",
       "      <td>I just found it alone yesterday near my apartm...</td>\n",
       "      <td>2</td>\n",
       "      <td>0</td>\n",
       "      <td>1</td>\n",
       "    </tr>\n",
       "    <tr>\n",
       "      <th>2</th>\n",
       "      <td>Dog</td>\n",
       "      <td>1</td>\n",
       "      <td>Mixed Breed</td>\n",
       "      <td>Male</td>\n",
       "      <td>Brown</td>\n",
       "      <td>White</td>\n",
       "      <td>Medium</td>\n",
       "      <td>Medium</td>\n",
       "      <td>Yes</td>\n",
       "      <td>No</td>\n",
       "      <td>Healthy</td>\n",
       "      <td>0</td>\n",
       "      <td>Their pregnant mother was dumped by her irresp...</td>\n",
       "      <td>7</td>\n",
       "      <td>3</td>\n",
       "      <td>1</td>\n",
       "    </tr>\n",
       "    <tr>\n",
       "      <th>3</th>\n",
       "      <td>Dog</td>\n",
       "      <td>4</td>\n",
       "      <td>Mixed Breed</td>\n",
       "      <td>Female</td>\n",
       "      <td>Black</td>\n",
       "      <td>Brown</td>\n",
       "      <td>Medium</td>\n",
       "      <td>Short</td>\n",
       "      <td>Yes</td>\n",
       "      <td>No</td>\n",
       "      <td>Healthy</td>\n",
       "      <td>150</td>\n",
       "      <td>Good guard dog, very alert, active, obedience ...</td>\n",
       "      <td>8</td>\n",
       "      <td>2</td>\n",
       "      <td>1</td>\n",
       "    </tr>\n",
       "    <tr>\n",
       "      <th>4</th>\n",
       "      <td>Dog</td>\n",
       "      <td>1</td>\n",
       "      <td>Mixed Breed</td>\n",
       "      <td>Male</td>\n",
       "      <td>Black</td>\n",
       "      <td>No Color</td>\n",
       "      <td>Medium</td>\n",
       "      <td>Short</td>\n",
       "      <td>No</td>\n",
       "      <td>No</td>\n",
       "      <td>Healthy</td>\n",
       "      <td>0</td>\n",
       "      <td>This handsome yet cute boy is up for adoption....</td>\n",
       "      <td>3</td>\n",
       "      <td>2</td>\n",
       "      <td>1</td>\n",
       "    </tr>\n",
       "    <tr>\n",
       "      <th>5</th>\n",
       "      <td>Cat</td>\n",
       "      <td>3</td>\n",
       "      <td>Domestic Short Hair</td>\n",
       "      <td>Female</td>\n",
       "      <td>Cream</td>\n",
       "      <td>Gray</td>\n",
       "      <td>Medium</td>\n",
       "      <td>Short</td>\n",
       "      <td>No</td>\n",
       "      <td>No</td>\n",
       "      <td>Healthy</td>\n",
       "      <td>0</td>\n",
       "      <td>This is a stray kitten that came to my house. ...</td>\n",
       "      <td>2</td>\n",
       "      <td>2</td>\n",
       "      <td>1</td>\n",
       "    </tr>\n",
       "    <tr>\n",
       "      <th>6</th>\n",
       "      <td>Cat</td>\n",
       "      <td>12</td>\n",
       "      <td>Domestic Long Hair</td>\n",
       "      <td>Male</td>\n",
       "      <td>Black</td>\n",
       "      <td>No Color</td>\n",
       "      <td>Medium</td>\n",
       "      <td>Long</td>\n",
       "      <td>No</td>\n",
       "      <td>Not Sure</td>\n",
       "      <td>Healthy</td>\n",
       "      <td>300</td>\n",
       "      <td>anyone within the area of ipoh or taiping who ...</td>\n",
       "      <td>3</td>\n",
       "      <td>1</td>\n",
       "      <td>1</td>\n",
       "    </tr>\n",
       "    <tr>\n",
       "      <th>7</th>\n",
       "      <td>Cat</td>\n",
       "      <td>2</td>\n",
       "      <td>Domestic Medium Hair</td>\n",
       "      <td>Female</td>\n",
       "      <td>Gray</td>\n",
       "      <td>No Color</td>\n",
       "      <td>Medium</td>\n",
       "      <td>Medium</td>\n",
       "      <td>No</td>\n",
       "      <td>No</td>\n",
       "      <td>Healthy</td>\n",
       "      <td>0</td>\n",
       "      <td>healthy and active, feisty kitten found in nei...</td>\n",
       "      <td>6</td>\n",
       "      <td>1</td>\n",
       "      <td>1</td>\n",
       "    </tr>\n",
       "    <tr>\n",
       "      <th>8</th>\n",
       "      <td>Cat</td>\n",
       "      <td>12</td>\n",
       "      <td>Domestic Medium Hair</td>\n",
       "      <td>Female</td>\n",
       "      <td>Black</td>\n",
       "      <td>White</td>\n",
       "      <td>Medium</td>\n",
       "      <td>Medium</td>\n",
       "      <td>Not Sure</td>\n",
       "      <td>Not Sure</td>\n",
       "      <td>Healthy</td>\n",
       "      <td>0</td>\n",
       "      <td>Very manja and gentle stray cat found, we woul...</td>\n",
       "      <td>2</td>\n",
       "      <td>4</td>\n",
       "      <td>0</td>\n",
       "    </tr>\n",
       "    <tr>\n",
       "      <th>9</th>\n",
       "      <td>Dog</td>\n",
       "      <td>2</td>\n",
       "      <td>Mixed Breed</td>\n",
       "      <td>Male</td>\n",
       "      <td>Black</td>\n",
       "      <td>Brown</td>\n",
       "      <td>Medium</td>\n",
       "      <td>Short</td>\n",
       "      <td>No</td>\n",
       "      <td>No</td>\n",
       "      <td>Healthy</td>\n",
       "      <td>0</td>\n",
       "      <td>For serious adopter, please do sms or call for...</td>\n",
       "      <td>7</td>\n",
       "      <td>1</td>\n",
       "      <td>1</td>\n",
       "    </tr>\n",
       "    <tr>\n",
       "      <th>10</th>\n",
       "      <td>Cat</td>\n",
       "      <td>3</td>\n",
       "      <td>Domestic Long Hair</td>\n",
       "      <td>Female</td>\n",
       "      <td>Black</td>\n",
       "      <td>Brown</td>\n",
       "      <td>Large</td>\n",
       "      <td>Long</td>\n",
       "      <td>Yes</td>\n",
       "      <td>No</td>\n",
       "      <td>Healthy</td>\n",
       "      <td>50</td>\n",
       "      <td>Kali is a super playful kitten who is on the g...</td>\n",
       "      <td>2</td>\n",
       "      <td>1</td>\n",
       "      <td>1</td>\n",
       "    </tr>\n",
       "    <tr>\n",
       "      <th>11</th>\n",
       "      <td>Dog</td>\n",
       "      <td>2</td>\n",
       "      <td>Mixed Breed</td>\n",
       "      <td>Male</td>\n",
       "      <td>Brown</td>\n",
       "      <td>Cream</td>\n",
       "      <td>Medium</td>\n",
       "      <td>Long</td>\n",
       "      <td>Yes</td>\n",
       "      <td>No</td>\n",
       "      <td>Healthy</td>\n",
       "      <td>0</td>\n",
       "      <td>Peanut was an abused puppy until he was rescue...</td>\n",
       "      <td>1</td>\n",
       "      <td>2</td>\n",
       "      <td>1</td>\n",
       "    </tr>\n",
       "    <tr>\n",
       "      <th>12</th>\n",
       "      <td>Dog</td>\n",
       "      <td>3</td>\n",
       "      <td>Mixed Breed</td>\n",
       "      <td>Female</td>\n",
       "      <td>Brown</td>\n",
       "      <td>Cream</td>\n",
       "      <td>Medium</td>\n",
       "      <td>Medium</td>\n",
       "      <td>Not Sure</td>\n",
       "      <td>Not Sure</td>\n",
       "      <td>Healthy</td>\n",
       "      <td>0</td>\n",
       "      <td>Lost Dog Found (Bandar Menjalara, Kepong／Taman...</td>\n",
       "      <td>2</td>\n",
       "      <td>2</td>\n",
       "      <td>1</td>\n",
       "    </tr>\n",
       "    <tr>\n",
       "      <th>13</th>\n",
       "      <td>Dog</td>\n",
       "      <td>78</td>\n",
       "      <td>Terrier</td>\n",
       "      <td>Male</td>\n",
       "      <td>Black</td>\n",
       "      <td>White</td>\n",
       "      <td>Medium</td>\n",
       "      <td>Medium</td>\n",
       "      <td>Not Sure</td>\n",
       "      <td>Not Sure</td>\n",
       "      <td>Healthy</td>\n",
       "      <td>0</td>\n",
       "      <td>We moved out of our apartment to a landed home...</td>\n",
       "      <td>2</td>\n",
       "      <td>4</td>\n",
       "      <td>0</td>\n",
       "    </tr>\n",
       "    <tr>\n",
       "      <th>14</th>\n",
       "      <td>Cat</td>\n",
       "      <td>6</td>\n",
       "      <td>Domestic Short Hair</td>\n",
       "      <td>Female</td>\n",
       "      <td>Brown</td>\n",
       "      <td>No Color</td>\n",
       "      <td>Small</td>\n",
       "      <td>Short</td>\n",
       "      <td>Yes</td>\n",
       "      <td>Yes</td>\n",
       "      <td>Healthy</td>\n",
       "      <td>0</td>\n",
       "      <td>to be spayed on /12 adorable &amp; friendly</td>\n",
       "      <td>1</td>\n",
       "      <td>3</td>\n",
       "      <td>1</td>\n",
       "    </tr>\n",
       "    <tr>\n",
       "      <th>15</th>\n",
       "      <td>Dog</td>\n",
       "      <td>8</td>\n",
       "      <td>Mixed Breed</td>\n",
       "      <td>Female</td>\n",
       "      <td>Brown</td>\n",
       "      <td>No Color</td>\n",
       "      <td>Medium</td>\n",
       "      <td>Short</td>\n",
       "      <td>No</td>\n",
       "      <td>Yes</td>\n",
       "      <td>Healthy</td>\n",
       "      <td>10</td>\n",
       "      <td>shes active... she can obey wht command that u...</td>\n",
       "      <td>2</td>\n",
       "      <td>4</td>\n",
       "      <td>0</td>\n",
       "    </tr>\n",
       "    <tr>\n",
       "      <th>16</th>\n",
       "      <td>Dog</td>\n",
       "      <td>2</td>\n",
       "      <td>Mixed Breed</td>\n",
       "      <td>Female</td>\n",
       "      <td>Black</td>\n",
       "      <td>No Color</td>\n",
       "      <td>Medium</td>\n",
       "      <td>Short</td>\n",
       "      <td>No</td>\n",
       "      <td>No</td>\n",
       "      <td>Healthy</td>\n",
       "      <td>0</td>\n",
       "      <td>This cutie dumped by it's owner at the market ...</td>\n",
       "      <td>8</td>\n",
       "      <td>2</td>\n",
       "      <td>1</td>\n",
       "    </tr>\n",
       "    <tr>\n",
       "      <th>17</th>\n",
       "      <td>Dog</td>\n",
       "      <td>12</td>\n",
       "      <td>Mixed Breed</td>\n",
       "      <td>Female</td>\n",
       "      <td>Brown</td>\n",
       "      <td>White</td>\n",
       "      <td>Medium</td>\n",
       "      <td>Medium</td>\n",
       "      <td>No</td>\n",
       "      <td>Yes</td>\n",
       "      <td>Healthy</td>\n",
       "      <td>0</td>\n",
       "      <td>Godiva was rescued in Serdang residential area...</td>\n",
       "      <td>7</td>\n",
       "      <td>2</td>\n",
       "      <td>1</td>\n",
       "    </tr>\n",
       "    <tr>\n",
       "      <th>18</th>\n",
       "      <td>Dog</td>\n",
       "      <td>10</td>\n",
       "      <td>Mixed Breed</td>\n",
       "      <td>Female</td>\n",
       "      <td>Black</td>\n",
       "      <td>Brown</td>\n",
       "      <td>Medium</td>\n",
       "      <td>Medium</td>\n",
       "      <td>Yes</td>\n",
       "      <td>Yes</td>\n",
       "      <td>Healthy</td>\n",
       "      <td>0</td>\n",
       "      <td>Donut is a friendly doggie and very domesticat...</td>\n",
       "      <td>0</td>\n",
       "      <td>4</td>\n",
       "      <td>0</td>\n",
       "    </tr>\n",
       "    <tr>\n",
       "      <th>19</th>\n",
       "      <td>Cat</td>\n",
       "      <td>3</td>\n",
       "      <td>Domestic Short Hair</td>\n",
       "      <td>Male</td>\n",
       "      <td>Brown</td>\n",
       "      <td>White</td>\n",
       "      <td>Small</td>\n",
       "      <td>Short</td>\n",
       "      <td>No</td>\n",
       "      <td>No</td>\n",
       "      <td>Healthy</td>\n",
       "      <td>0</td>\n",
       "      <td>hello cikenets fans, i just wanna inform that ...</td>\n",
       "      <td>19</td>\n",
       "      <td>1</td>\n",
       "      <td>1</td>\n",
       "    </tr>\n",
       "  </tbody>\n",
       "</table>\n",
       "</div>"
      ],
      "text/plain": [
       "   Type  Age                Breed1  Gender Color1    Color2 MaturitySize  \\\n",
       "0   Cat    3                 Tabby    Male  Black     White        Small   \n",
       "1   Cat    1  Domestic Medium Hair    Male  Black     Brown       Medium   \n",
       "2   Dog    1           Mixed Breed    Male  Brown     White       Medium   \n",
       "3   Dog    4           Mixed Breed  Female  Black     Brown       Medium   \n",
       "4   Dog    1           Mixed Breed    Male  Black  No Color       Medium   \n",
       "5   Cat    3   Domestic Short Hair  Female  Cream      Gray       Medium   \n",
       "6   Cat   12    Domestic Long Hair    Male  Black  No Color       Medium   \n",
       "7   Cat    2  Domestic Medium Hair  Female   Gray  No Color       Medium   \n",
       "8   Cat   12  Domestic Medium Hair  Female  Black     White       Medium   \n",
       "9   Dog    2           Mixed Breed    Male  Black     Brown       Medium   \n",
       "10  Cat    3    Domestic Long Hair  Female  Black     Brown        Large   \n",
       "11  Dog    2           Mixed Breed    Male  Brown     Cream       Medium   \n",
       "12  Dog    3           Mixed Breed  Female  Brown     Cream       Medium   \n",
       "13  Dog   78               Terrier    Male  Black     White       Medium   \n",
       "14  Cat    6   Domestic Short Hair  Female  Brown  No Color        Small   \n",
       "15  Dog    8           Mixed Breed  Female  Brown  No Color       Medium   \n",
       "16  Dog    2           Mixed Breed  Female  Black  No Color       Medium   \n",
       "17  Dog   12           Mixed Breed  Female  Brown     White       Medium   \n",
       "18  Dog   10           Mixed Breed  Female  Black     Brown       Medium   \n",
       "19  Cat    3   Domestic Short Hair    Male  Brown     White        Small   \n",
       "\n",
       "   FurLength Vaccinated Sterilized   Health  Fee  \\\n",
       "0      Short         No         No  Healthy  100   \n",
       "1     Medium   Not Sure   Not Sure  Healthy    0   \n",
       "2     Medium        Yes         No  Healthy    0   \n",
       "3      Short        Yes         No  Healthy  150   \n",
       "4      Short         No         No  Healthy    0   \n",
       "5      Short         No         No  Healthy    0   \n",
       "6       Long         No   Not Sure  Healthy  300   \n",
       "7     Medium         No         No  Healthy    0   \n",
       "8     Medium   Not Sure   Not Sure  Healthy    0   \n",
       "9      Short         No         No  Healthy    0   \n",
       "10      Long        Yes         No  Healthy   50   \n",
       "11      Long        Yes         No  Healthy    0   \n",
       "12    Medium   Not Sure   Not Sure  Healthy    0   \n",
       "13    Medium   Not Sure   Not Sure  Healthy    0   \n",
       "14     Short        Yes        Yes  Healthy    0   \n",
       "15     Short         No        Yes  Healthy   10   \n",
       "16     Short         No         No  Healthy    0   \n",
       "17    Medium         No        Yes  Healthy    0   \n",
       "18    Medium        Yes        Yes  Healthy    0   \n",
       "19     Short         No         No  Healthy    0   \n",
       "\n",
       "                                          Description  PhotoAmt  \\\n",
       "0   Nibble is a 3+ month old ball of cuteness. He ...         1   \n",
       "1   I just found it alone yesterday near my apartm...         2   \n",
       "2   Their pregnant mother was dumped by her irresp...         7   \n",
       "3   Good guard dog, very alert, active, obedience ...         8   \n",
       "4   This handsome yet cute boy is up for adoption....         3   \n",
       "5   This is a stray kitten that came to my house. ...         2   \n",
       "6   anyone within the area of ipoh or taiping who ...         3   \n",
       "7   healthy and active, feisty kitten found in nei...         6   \n",
       "8   Very manja and gentle stray cat found, we woul...         2   \n",
       "9   For serious adopter, please do sms or call for...         7   \n",
       "10  Kali is a super playful kitten who is on the g...         2   \n",
       "11  Peanut was an abused puppy until he was rescue...         1   \n",
       "12  Lost Dog Found (Bandar Menjalara, Kepong／Taman...         2   \n",
       "13  We moved out of our apartment to a landed home...         2   \n",
       "14            to be spayed on /12 adorable & friendly         1   \n",
       "15  shes active... she can obey wht command that u...         2   \n",
       "16  This cutie dumped by it's owner at the market ...         8   \n",
       "17  Godiva was rescued in Serdang residential area...         7   \n",
       "18  Donut is a friendly doggie and very domesticat...         0   \n",
       "19  hello cikenets fans, i just wanna inform that ...        19   \n",
       "\n",
       "    AdoptionSpeed  Target  \n",
       "0               2       1  \n",
       "1               0       1  \n",
       "2               3       1  \n",
       "3               2       1  \n",
       "4               2       1  \n",
       "5               2       1  \n",
       "6               1       1  \n",
       "7               1       1  \n",
       "8               4       0  \n",
       "9               1       1  \n",
       "10              1       1  \n",
       "11              2       1  \n",
       "12              2       1  \n",
       "13              4       0  \n",
       "14              3       1  \n",
       "15              4       0  \n",
       "16              2       1  \n",
       "17              2       1  \n",
       "18              4       0  \n",
       "19              1       1  "
      ]
     },
     "execution_count": 9,
     "metadata": {},
     "output_type": "execute_result"
    }
   ],
   "source": [
    "train.head(20)"
   ]
  },
  {
   "cell_type": "markdown",
   "metadata": {
    "id": "J7JhI8C_Hlw_"
   },
   "source": [
    "<p dir=rtl style=\"direction: rtl; text-align: justify; line-height:200%; font-family:vazir; font-size:medium\">\n",
    "    <ul dir=rtl style=\"direction: rtl; text-align: justify; line-height:200%; font-family:vazir; font-size:medium\">\n",
    "<font face=\"vazir\">\n",
    "حال می‌توانیم ستون‌هایی که به آن‌ها نیاز نداریم را از دیتافریم حذف کنیم. با توجه به این‌که ستون <code>AdoptionSpeed</code> را به ستون <code>Target</code> تبدیل کردیم، این ستون را حذف می‌کنیم، همچنین در ستون <code>Description</code> اطلاعات متنی داریم که روش پردازش و کار با این نوع داده‌ها را در فصل‌های بعدی بررسی خواهیم کرد، بنابراین این ستون را نیز حذف می‌کنیم.\n",
    "</font>\n",
    "</p>\n",
    "\n"
   ]
  },
  {
   "cell_type": "code",
   "execution_count": 10,
   "metadata": {
    "id": "JwIXEWyQjImO"
   },
   "outputs": [],
   "source": [
    "train.drop(columns = [\"AdoptionSpeed\", \"Description\"], inplace = True) # TODO\n",
    "test.drop(columns = [\"Description\"], inplace = True) # TODO"
   ]
  },
  {
   "cell_type": "markdown",
   "metadata": {
    "id": "hzLtNrxpMnxd"
   },
   "source": [
    "<p dir=rtl style=\"direction: rtl; text-align: justify; line-height:200%; font-family:vazir; font-size:medium\">\n",
    "    <ul dir=rtl style=\"direction: rtl; text-align: justify; line-height:200%; font-family:vazir; font-size:medium\">\n",
    "<font face=\"vazir\">\n",
    "در گام بعد به‌سراغ ویژگی‌های دسته‌ای می‌رویم. ابتدا مجدد نگاهی به جزئیات دیتافریم بی‌اندازیم.\n",
    "</font>\n",
    "</p>\n",
    "\n"
   ]
  },
  {
   "cell_type": "code",
   "execution_count": 11,
   "metadata": {},
   "outputs": [
    {
     "data": {
      "text/plain": [
       "1000"
      ]
     },
     "execution_count": 11,
     "metadata": {},
     "output_type": "execute_result"
    }
   ],
   "source": [
    "len(test)"
   ]
  },
  {
   "cell_type": "code",
   "execution_count": 12,
   "metadata": {
    "id": "KB5V1APOf5B0"
   },
   "outputs": [
    {
     "name": "stdout",
     "output_type": "stream",
     "text": [
      "<class 'pandas.core.frame.DataFrame'>\n",
      "RangeIndex: 10537 entries, 0 to 10536\n",
      "Data columns (total 14 columns):\n",
      " #   Column        Non-Null Count  Dtype \n",
      "---  ------        --------------  ----- \n",
      " 0   Type          10537 non-null  object\n",
      " 1   Age           10537 non-null  int64 \n",
      " 2   Breed1        10537 non-null  object\n",
      " 3   Gender        10537 non-null  object\n",
      " 4   Color1        10537 non-null  object\n",
      " 5   Color2        10537 non-null  object\n",
      " 6   MaturitySize  10537 non-null  object\n",
      " 7   FurLength     10537 non-null  object\n",
      " 8   Vaccinated    10537 non-null  object\n",
      " 9   Sterilized    10537 non-null  object\n",
      " 10  Health        10537 non-null  object\n",
      " 11  Fee           10537 non-null  int64 \n",
      " 12  PhotoAmt      10537 non-null  int64 \n",
      " 13  Target        10537 non-null  int64 \n",
      "dtypes: int64(4), object(10)\n",
      "memory usage: 1.1+ MB\n"
     ]
    }
   ],
   "source": [
    "train.info()"
   ]
  },
  {
   "cell_type": "markdown",
   "metadata": {
    "id": "_k-o-we8f5B0"
   },
   "source": [
    "<p dir=rtl style=\"direction: rtl; text-align: justify; line-height:200%; font-family:vazir; font-size:medium\">\n",
    "    <ul dir=rtl style=\"direction: rtl; text-align: justify; line-height:200%; font-family:vazir; font-size:medium\">\n",
    "<font face=\"vazir\">\n",
    "در خروجی قطعه‌کد بالا می توان دید که ستون‌های\n",
    "   <code>Fee</code>، <code>PhotoAmt</code> و <code>Age</code> مقادیر عددی دارند و برای باقی ستون‌های مجموعه‌داده نیاز است، پیش‌پردازش لازم برای تبدیل آن‌ها به مقادیر عددی را انجام دهیم. پس به بررسی تعداد دسته‌های هر ویژگی و نوع آن‌ها می‌پردازیم\n",
    "</font>\n",
    "</p>\n"
   ]
  },
  {
   "cell_type": "code",
   "execution_count": 13,
   "metadata": {
    "id": "dx9Rzs0vf5B0"
   },
   "outputs": [
    {
     "name": "stdout",
     "output_type": "stream",
     "text": [
      "column: Type unique_values: 2\n",
      "column: Breed1 unique_values: 165\n",
      "column: Gender unique_values: 2\n",
      "column: Color1 unique_values: 7\n",
      "column: Color2 unique_values: 7\n",
      "column: MaturitySize unique_values: 3\n",
      "column: FurLength unique_values: 3\n",
      "column: Vaccinated unique_values: 3\n",
      "column: Sterilized unique_values: 3\n",
      "column: Health unique_values: 3\n"
     ]
    }
   ],
   "source": [
    "for column in [\"Type\", \"Breed1\", \"Gender\", \"Color1\", \"Color2\", \"MaturitySize\", \"FurLength\", \"Vaccinated\", \"Sterilized\", \"Health\"]:\n",
    "    print(\"column:\", column, \"unique_values:\", len(train[column].unique()))"
   ]
  },
  {
   "cell_type": "markdown",
   "metadata": {
    "id": "TGqvzHKWf5B0"
   },
   "source": [
    "<p dir=rtl style=\"direction: rtl; text-align: justify; line-height:200%; font-family:vazir; font-size:medium\">\n",
    "    <ul dir=rtl style=\"direction: rtl; text-align: justify; line-height:200%; font-family:vazir; font-size:medium\">\n",
    "<font face=\"vazir\">\n",
    " می‌دانیم ستون‌های <code>Health</code>، <code>FurLength</code> و <code>MaturitySize</code> از جنس متغیر‌های دسته‌ای ترتیبی هستند به این معنی که ترتیب خاصی بین مقادیر گروه‌ها وجود دارند. بنابراین می‌توانیم با استفاده از تابع <code>LabelEncoder</code> در کتابخانه‌ی <code>sklearn</code> به‌سادگی و بی‌دغدغه آن‌ها را به داده‌های عددی تبدیل کنیم.\n",
    "</font>\n",
    "</p>\n",
    "\n",
    "<p dir=rtl style=\"direction: rtl; text-align: justify; line-height:200%; font-family:vazir; font-size:medium\">\n",
    "<font face=\"vazir\">\n",
    "<span style=\"color:red\"><b>توجه:</b></span> پیش‌پردازش‌هایی که بر روی نمونه‌های اعتبارسنجی/آزمون اعمال می‌کنید باید طبق آمارها یا اطلاعاتی باشد که از روی نمونه‌های آموزشی به دست آمده است. به‌عنوان مثال اگر می‌خواهید مقادیر گم‌شده‌ی یک ویژگی را با میانگین آن ویژگی پُر کنید، باید از میانگینی که طبق نمونه‌های آموزشی محاسبه‌شده استفاده کنید. به همین دلیل، در کدگذاری نیز برای نمونه‌های اعتبارسنجی/آزمون باید از تابع <code dir=ltr>transform()</code> به‌جای <code dir=ltr>fit_transform()</code> استفاده کنید.\n",
    "</font>\n",
    "</p>"
   ]
  },
  {
   "cell_type": "code",
   "execution_count": 14,
   "metadata": {
    "id": "5KmcCLT_f5B1"
   },
   "outputs": [],
   "source": [
    "from sklearn.preprocessing import LabelEncoder\n",
    "\n",
    "le = LabelEncoder()\n",
    "\n",
    "train['MaturitySize'] = le.fit_transform(train['MaturitySize'])\n",
    "test['MaturitySize'] = le.transform(test['MaturitySize'])\n",
    "\n",
    "train['FurLength'] = le.fit_transform(train['FurLength'])\n",
    "test['FurLength'] = le.transform(test['FurLength'])\n",
    "\n",
    "train['Health'] = le.fit_transform(train['Health'])\n",
    "test['Health'] = le.transform(test['Health'])"
   ]
  },
  {
   "cell_type": "markdown",
   "metadata": {
    "id": "f9UgI8Vqf5B1"
   },
   "source": [
    "<p dir=rtl style=\"direction: rtl; text-align: justify; line-height:200%; font-family:vazir; font-size:medium\">\n",
    "    <ul dir=rtl style=\"direction: rtl; text-align: justify; line-height:200%; font-family:vazir; font-size:medium\">\n",
    "<font face=\"vazir\">\n",
    "اما ستون‌های <code>Type</code>، <code>Breed1</code>، <code>Gender</code>، <code>Color1</code> ،<code>Color2</code> <code>Vaccinated</code> و <code>Sterilized</code>  از جنس متغیر‌های دسته‌ای اسمی هستند، به این معنی که ترتیب خاصی بین مقادیر گروه‌ها وجود ندارد. بنابراین برای این ویژگی‌ها نمی‌توانیم از <code>LabelEncoder</code> استفاده کنیم، زیرا این نوع داده‌ها از نظر ترتیبی تفاوتی با یک‌دیگر ندارند و اگر به‌سادگی به هر کدام از این ویژگی‌ها یک عدد اختصاص دهیم آن‌گاه به‌نوعی بین آن‌ها ترتیب قائل شدیم که نادرست است. برای حل این مسئله از روش کدگذاری دودویی استفاده می‌کنیم، به این معنی که به‌طور مثال به ازای ستون <code>color1</code> که ۷ مقدار یکتا <code dir=ltr>['Black', 'Brown', 'Cream', 'Gray', 'Golden', 'White', 'Yellow']</code> را دارد ۳ ستون اضافه می‌کنیم زیرا در هر ستون می‌توانیم مقدار ۱ و ۰ داشته باشیم و برای این‌که ۷ دسته را پوشش دهیم حداقل به ۳ ستون نیاز داریم (<code dir=ltr>7 < 3^2</code>). حال به هرکدام از این دسته‌ها عددی اختصاص می‌دهیم و ستون‌های مربوط به کد دودویی آن عدد را پر می‌کنیم.\n",
    "<br>\n",
    "    تابع <code>BinaryEncoder</code> از کتابخانه‌ی <code>category_encoders</code> این عملیات را انجام می‌دهد.\n",
    "        <br>\n",
    "    توجه داشته باشید در ستون <code>Gender</code> و <code>Type</code> به علت این‌که فقط ۲ دسته داریم می‌توانیم با تابع <code>LabelEncoder</code> تبدیل را انجام دهیم.\n",
    "    </font>\n",
    "</p>"
   ]
  },
  {
   "cell_type": "code",
   "execution_count": null,
   "metadata": {},
   "outputs": [],
   "source": []
  },
  {
   "cell_type": "code",
   "execution_count": 15,
   "metadata": {
    "id": "bim0mQD9f5B1"
   },
   "outputs": [],
   "source": [
    "train['Type'] = le.fit_transform(train['Type'])\n",
    "test['Type'] = le.transform(test[\"Type\"])\n",
    "\n",
    "train['Gender'] = le.fit_transform(train['Gender'])\n",
    "test['Gender'] = le.transform(test['Gender'])"
   ]
  },
  {
   "cell_type": "code",
   "execution_count": 16,
   "metadata": {
    "id": "ei-Ms7Avf5B1"
   },
   "outputs": [],
   "source": [
    "import category_encoders as ce\n",
    "\n",
    "binary_encoder = ce.BinaryEncoder()\n",
    "\n",
    "train_binary_Breed1 = binary_encoder.fit_transform(train['Breed1'])\n",
    "test_binary_Breed1 = binary_encoder.transform(test['Breed1'])\n",
    "\n",
    "train_binary_Color1 = binary_encoder.fit_transform(train['Color1'])\n",
    "test_binary_Color1 = binary_encoder.transform(test['Color1'])\n",
    "\n",
    "train_binary_Color2 = binary_encoder.fit_transform(train['Color2'])\n",
    "test_binary_Color2 = binary_encoder.transform(test['Color2'])\n",
    "\n",
    "train_binary_Vaccinated = binary_encoder.fit_transform(train['Vaccinated'])\n",
    "test_binary_Vaccinated = binary_encoder.transform(test['Vaccinated'])\n",
    "\n",
    "train_binary_Sterilized = binary_encoder.fit_transform(train['Sterilized'])\n",
    "test_binary_Sterilized = binary_encoder.transform(test['Sterilized'])"
   ]
  },
  {
   "cell_type": "markdown",
   "metadata": {
    "id": "eGOwA1aif5B1"
   },
   "source": [
    "<p dir=rtl style=\"direction: rtl; text-align: justify; line-height:200%; font-family:vazir; font-size:medium\">\n",
    "    <ul dir=rtl style=\"direction: rtl; text-align: justify; line-height:200%; font-family:vazir; font-size:medium\">\n",
    "<font face=\"vazir\">\n",
    "حال ستون‌های ساخته شده برای هر متغیر را به مجموعه‌داده اصلی اضافه می‌کنیم و این ستون‌ها را حذف می‌کنیم.\n",
    "</font>\n",
    "</p>"
   ]
  },
  {
   "cell_type": "code",
   "execution_count": 17,
   "metadata": {
    "id": "0rQ9OgZsf5B2"
   },
   "outputs": [
    {
     "name": "stdout",
     "output_type": "stream",
     "text": [
      "<class 'pandas.core.frame.DataFrame'>\n",
      "RangeIndex: 10537 entries, 0 to 10536\n",
      "Data columns (total 27 columns):\n",
      " #   Column        Non-Null Count  Dtype\n",
      "---  ------        --------------  -----\n",
      " 0   Type          10537 non-null  int64\n",
      " 1   Age           10537 non-null  int64\n",
      " 2   Gender        10537 non-null  int64\n",
      " 3   MaturitySize  10537 non-null  int64\n",
      " 4   FurLength     10537 non-null  int64\n",
      " 5   Health        10537 non-null  int64\n",
      " 6   Fee           10537 non-null  int64\n",
      " 7   PhotoAmt      10537 non-null  int64\n",
      " 8   Target        10537 non-null  int64\n",
      " 9   Breed1_0      10537 non-null  int64\n",
      " 10  Breed1_1      10537 non-null  int64\n",
      " 11  Breed1_2      10537 non-null  int64\n",
      " 12  Breed1_3      10537 non-null  int64\n",
      " 13  Breed1_4      10537 non-null  int64\n",
      " 14  Breed1_5      10537 non-null  int64\n",
      " 15  Breed1_6      10537 non-null  int64\n",
      " 16  Breed1_7      10537 non-null  int64\n",
      " 17  Color1_0      10537 non-null  int64\n",
      " 18  Color1_1      10537 non-null  int64\n",
      " 19  Color1_2      10537 non-null  int64\n",
      " 20  Color2_0      10537 non-null  int64\n",
      " 21  Color2_1      10537 non-null  int64\n",
      " 22  Color2_2      10537 non-null  int64\n",
      " 23  Vaccinated_0  10537 non-null  int64\n",
      " 24  Vaccinated_1  10537 non-null  int64\n",
      " 25  Sterilized_0  10537 non-null  int64\n",
      " 26  Sterilized_1  10537 non-null  int64\n",
      "dtypes: int64(27)\n",
      "memory usage: 2.2 MB\n"
     ]
    }
   ],
   "source": [
    "train = pd.concat([train, train_binary_Breed1, train_binary_Color1, train_binary_Color2, train_binary_Vaccinated, train_binary_Sterilized], axis=1)\n",
    "columns = ['Breed1','Color1','Color2','Vaccinated','Sterilized']\n",
    "train.drop(columns = columns, inplace = True)\n",
    "\n",
    "test = pd.concat([test, test_binary_Breed1, test_binary_Color1, test_binary_Color2, test_binary_Vaccinated, test_binary_Sterilized], axis=1)\n",
    "columns = ['Breed1','Color1','Color2','Vaccinated','Sterilized']\n",
    "test.drop(columns = columns, inplace = True)\n",
    "\n",
    "train.info()"
   ]
  },
  {
   "cell_type": "code",
   "execution_count": 18,
   "metadata": {},
   "outputs": [
    {
     "data": {
      "text/html": [
       "<div>\n",
       "<style scoped>\n",
       "    .dataframe tbody tr th:only-of-type {\n",
       "        vertical-align: middle;\n",
       "    }\n",
       "\n",
       "    .dataframe tbody tr th {\n",
       "        vertical-align: top;\n",
       "    }\n",
       "\n",
       "    .dataframe thead th {\n",
       "        text-align: right;\n",
       "    }\n",
       "</style>\n",
       "<table border=\"1\" class=\"dataframe\">\n",
       "  <thead>\n",
       "    <tr style=\"text-align: right;\">\n",
       "      <th></th>\n",
       "      <th>Type</th>\n",
       "      <th>Age</th>\n",
       "      <th>Gender</th>\n",
       "      <th>MaturitySize</th>\n",
       "      <th>FurLength</th>\n",
       "      <th>Health</th>\n",
       "      <th>Fee</th>\n",
       "      <th>PhotoAmt</th>\n",
       "      <th>Target</th>\n",
       "      <th>Breed1_0</th>\n",
       "      <th>...</th>\n",
       "      <th>Color1_0</th>\n",
       "      <th>Color1_1</th>\n",
       "      <th>Color1_2</th>\n",
       "      <th>Color2_0</th>\n",
       "      <th>Color2_1</th>\n",
       "      <th>Color2_2</th>\n",
       "      <th>Vaccinated_0</th>\n",
       "      <th>Vaccinated_1</th>\n",
       "      <th>Sterilized_0</th>\n",
       "      <th>Sterilized_1</th>\n",
       "    </tr>\n",
       "  </thead>\n",
       "  <tbody>\n",
       "    <tr>\n",
       "      <th>0</th>\n",
       "      <td>0</td>\n",
       "      <td>3</td>\n",
       "      <td>1</td>\n",
       "      <td>2</td>\n",
       "      <td>2</td>\n",
       "      <td>0</td>\n",
       "      <td>100</td>\n",
       "      <td>1</td>\n",
       "      <td>1</td>\n",
       "      <td>0</td>\n",
       "      <td>...</td>\n",
       "      <td>0</td>\n",
       "      <td>0</td>\n",
       "      <td>1</td>\n",
       "      <td>0</td>\n",
       "      <td>0</td>\n",
       "      <td>1</td>\n",
       "      <td>0</td>\n",
       "      <td>1</td>\n",
       "      <td>0</td>\n",
       "      <td>1</td>\n",
       "    </tr>\n",
       "    <tr>\n",
       "      <th>1</th>\n",
       "      <td>0</td>\n",
       "      <td>1</td>\n",
       "      <td>1</td>\n",
       "      <td>1</td>\n",
       "      <td>1</td>\n",
       "      <td>0</td>\n",
       "      <td>0</td>\n",
       "      <td>2</td>\n",
       "      <td>1</td>\n",
       "      <td>0</td>\n",
       "      <td>...</td>\n",
       "      <td>0</td>\n",
       "      <td>0</td>\n",
       "      <td>1</td>\n",
       "      <td>0</td>\n",
       "      <td>1</td>\n",
       "      <td>0</td>\n",
       "      <td>1</td>\n",
       "      <td>0</td>\n",
       "      <td>1</td>\n",
       "      <td>0</td>\n",
       "    </tr>\n",
       "    <tr>\n",
       "      <th>2</th>\n",
       "      <td>1</td>\n",
       "      <td>1</td>\n",
       "      <td>1</td>\n",
       "      <td>1</td>\n",
       "      <td>1</td>\n",
       "      <td>0</td>\n",
       "      <td>0</td>\n",
       "      <td>7</td>\n",
       "      <td>1</td>\n",
       "      <td>0</td>\n",
       "      <td>...</td>\n",
       "      <td>0</td>\n",
       "      <td>1</td>\n",
       "      <td>0</td>\n",
       "      <td>0</td>\n",
       "      <td>0</td>\n",
       "      <td>1</td>\n",
       "      <td>1</td>\n",
       "      <td>1</td>\n",
       "      <td>0</td>\n",
       "      <td>1</td>\n",
       "    </tr>\n",
       "    <tr>\n",
       "      <th>3</th>\n",
       "      <td>1</td>\n",
       "      <td>4</td>\n",
       "      <td>0</td>\n",
       "      <td>1</td>\n",
       "      <td>2</td>\n",
       "      <td>0</td>\n",
       "      <td>150</td>\n",
       "      <td>8</td>\n",
       "      <td>1</td>\n",
       "      <td>0</td>\n",
       "      <td>...</td>\n",
       "      <td>0</td>\n",
       "      <td>0</td>\n",
       "      <td>1</td>\n",
       "      <td>0</td>\n",
       "      <td>1</td>\n",
       "      <td>0</td>\n",
       "      <td>1</td>\n",
       "      <td>1</td>\n",
       "      <td>0</td>\n",
       "      <td>1</td>\n",
       "    </tr>\n",
       "    <tr>\n",
       "      <th>4</th>\n",
       "      <td>1</td>\n",
       "      <td>1</td>\n",
       "      <td>1</td>\n",
       "      <td>1</td>\n",
       "      <td>2</td>\n",
       "      <td>0</td>\n",
       "      <td>0</td>\n",
       "      <td>3</td>\n",
       "      <td>1</td>\n",
       "      <td>0</td>\n",
       "      <td>...</td>\n",
       "      <td>0</td>\n",
       "      <td>0</td>\n",
       "      <td>1</td>\n",
       "      <td>0</td>\n",
       "      <td>1</td>\n",
       "      <td>1</td>\n",
       "      <td>0</td>\n",
       "      <td>1</td>\n",
       "      <td>0</td>\n",
       "      <td>1</td>\n",
       "    </tr>\n",
       "  </tbody>\n",
       "</table>\n",
       "<p>5 rows × 27 columns</p>\n",
       "</div>"
      ],
      "text/plain": [
       "   Type  Age  Gender  MaturitySize  FurLength  Health  Fee  PhotoAmt  Target  \\\n",
       "0     0    3       1             2          2       0  100         1       1   \n",
       "1     0    1       1             1          1       0    0         2       1   \n",
       "2     1    1       1             1          1       0    0         7       1   \n",
       "3     1    4       0             1          2       0  150         8       1   \n",
       "4     1    1       1             1          2       0    0         3       1   \n",
       "\n",
       "   Breed1_0  ...  Color1_0  Color1_1  Color1_2  Color2_0  Color2_1  Color2_2  \\\n",
       "0         0  ...         0         0         1         0         0         1   \n",
       "1         0  ...         0         0         1         0         1         0   \n",
       "2         0  ...         0         1         0         0         0         1   \n",
       "3         0  ...         0         0         1         0         1         0   \n",
       "4         0  ...         0         0         1         0         1         1   \n",
       "\n",
       "   Vaccinated_0  Vaccinated_1  Sterilized_0  Sterilized_1  \n",
       "0             0             1             0             1  \n",
       "1             1             0             1             0  \n",
       "2             1             1             0             1  \n",
       "3             1             1             0             1  \n",
       "4             0             1             0             1  \n",
       "\n",
       "[5 rows x 27 columns]"
      ]
     },
     "execution_count": 18,
     "metadata": {},
     "output_type": "execute_result"
    }
   ],
   "source": [
    "train.head()"
   ]
  },
  {
   "cell_type": "code",
   "execution_count": 19,
   "metadata": {},
   "outputs": [
    {
     "data": {
      "text/plain": [
       "1000"
      ]
     },
     "execution_count": 19,
     "metadata": {},
     "output_type": "execute_result"
    }
   ],
   "source": [
    "len(test)"
   ]
  },
  {
   "cell_type": "markdown",
   "metadata": {},
   "source": [
    "<h2 dir=rtl align=right style=\"line-height:200%;font-family:vazir;color:#0099cc\">\n",
    "<font face=\"vazir\" color=\"#0099cc\">\n",
    "نرمال سازی داده‌ها\n",
    "</font>\n",
    "</h2>\n",
    "\n",
    "<p dir=rtl style=\"direction: rtl; text-align: justify; line-height:200%; font-family:vazir; font-size:medium\">\n",
    "<font face=\"vazir\" size=3>\n",
    " یکی از اعمال مهم پیش‌پردازش، تغییر مقیاس ویژگی‌ها به‌صورت توزیع نرمال است که اصطلاحاً به آن نرمال‌سازی (Normalization) می‌گوییم.\n",
    " نرمال‌سازی به کاهش تغییرات شدید در وزن‌ها کمک کرده و باعث سرعت بالاتر همگرایی مدل می‌شود.\n",
    "برای انجام نرمال‌سازی در این تمرین باید اعداد هر ویژگی را طوری تغییر دهیم که میانگین آن‌ها <code>0</code> شود و واریانس <code>1</code> داشته باشند، این‌کار را می‌توانیم با استفاده از فرمول زیر انجام دهیم.\n",
    "برای سری داده‌ی <code>X</code> (که در اینجا مقادیر هر ستون می‌باشد) به طوری‌که <code>X = [x_1, x_2, ..., x_n]</code>، با کم کردن میانگین از هر نمونه‌ی داده (<code>x_i</code>) و تقسیم آن بر انحراف معیار داده‌ها (سیگما) می‌توانیم سری داده‌ی نرمال‌شده را به‌دست آوریم.\n",
    "</font>\n",
    "</p>\n",
    "\n",
    "$$ Z = \\frac{x_i - \\bar{x}}{\\sigma} $$\n",
    "\n",
    "<p dir=rtl style=\"direction: rtl; text-align: justify; line-height:200%; font-family:vazir; font-size:medium\">\n",
    "<font face=\"vazir\" size=3>\n",
    "دقت داشته باشید، از آنجا که در واقع ما فقط اطلاعات مربوط به مجموعه‌داده‌ی آموزش را در هنگام ساخت مدل داریم، برای نرمال‌سازی نمونه‌های آزمون نیز باید از میانگین و انحراف معیار نمونه‌های آموزش استفاده کنیم. همچنین حتما از تابع میانگین و انحراف معیار کتابخانه <code>pandas</code> استفاده کنید.\n",
    "</font>\n",
    "</p>"
   ]
  },
  {
   "cell_type": "code",
   "execution_count": 20,
   "metadata": {},
   "outputs": [
    {
     "data": {
      "text/html": [
       "<div>\n",
       "<style scoped>\n",
       "    .dataframe tbody tr th:only-of-type {\n",
       "        vertical-align: middle;\n",
       "    }\n",
       "\n",
       "    .dataframe tbody tr th {\n",
       "        vertical-align: top;\n",
       "    }\n",
       "\n",
       "    .dataframe thead th {\n",
       "        text-align: right;\n",
       "    }\n",
       "</style>\n",
       "<table border=\"1\" class=\"dataframe\">\n",
       "  <thead>\n",
       "    <tr style=\"text-align: right;\">\n",
       "      <th></th>\n",
       "      <th>Type</th>\n",
       "      <th>Age</th>\n",
       "      <th>Gender</th>\n",
       "      <th>MaturitySize</th>\n",
       "      <th>FurLength</th>\n",
       "      <th>Health</th>\n",
       "      <th>Fee</th>\n",
       "      <th>PhotoAmt</th>\n",
       "      <th>Breed1_0</th>\n",
       "      <th>Breed1_1</th>\n",
       "      <th>...</th>\n",
       "      <th>Color1_0</th>\n",
       "      <th>Color1_1</th>\n",
       "      <th>Color1_2</th>\n",
       "      <th>Color2_0</th>\n",
       "      <th>Color2_1</th>\n",
       "      <th>Color2_2</th>\n",
       "      <th>Vaccinated_0</th>\n",
       "      <th>Vaccinated_1</th>\n",
       "      <th>Sterilized_0</th>\n",
       "      <th>Sterilized_1</th>\n",
       "    </tr>\n",
       "  </thead>\n",
       "  <tbody>\n",
       "    <tr>\n",
       "      <th>0</th>\n",
       "      <td>0.866680</td>\n",
       "      <td>-0.501042</td>\n",
       "      <td>-0.879677</td>\n",
       "      <td>-0.226574</td>\n",
       "      <td>0.790516</td>\n",
       "      <td>-0.194365</td>\n",
       "      <td>-0.29796</td>\n",
       "      <td>-0.830874</td>\n",
       "      <td>-0.073746</td>\n",
       "      <td>-0.184801</td>\n",
       "      <td>...</td>\n",
       "      <td>-0.521041</td>\n",
       "      <td>-0.861486</td>\n",
       "      <td>0.761850</td>\n",
       "      <td>-0.520158</td>\n",
       "      <td>0.777326</td>\n",
       "      <td>0.637933</td>\n",
       "      <td>-1.151487</td>\n",
       "      <td>0.386892</td>\n",
       "      <td>-0.730867</td>\n",
       "      <td>0.360165</td>\n",
       "    </tr>\n",
       "    <tr>\n",
       "      <th>1</th>\n",
       "      <td>-1.153719</td>\n",
       "      <td>0.015102</td>\n",
       "      <td>-0.879677</td>\n",
       "      <td>-0.226574</td>\n",
       "      <td>-0.845318</td>\n",
       "      <td>4.568489</td>\n",
       "      <td>-0.29796</td>\n",
       "      <td>-0.830874</td>\n",
       "      <td>-0.073746</td>\n",
       "      <td>-0.184801</td>\n",
       "      <td>...</td>\n",
       "      <td>-0.521041</td>\n",
       "      <td>1.160675</td>\n",
       "      <td>-1.312469</td>\n",
       "      <td>1.922312</td>\n",
       "      <td>0.777326</td>\n",
       "      <td>-1.567414</td>\n",
       "      <td>0.868360</td>\n",
       "      <td>-2.584453</td>\n",
       "      <td>1.368109</td>\n",
       "      <td>-2.776244</td>\n",
       "    </tr>\n",
       "    <tr>\n",
       "      <th>2</th>\n",
       "      <td>-1.153719</td>\n",
       "      <td>-0.449427</td>\n",
       "      <td>-0.879677</td>\n",
       "      <td>1.629890</td>\n",
       "      <td>0.790516</td>\n",
       "      <td>-0.194365</td>\n",
       "      <td>-0.29796</td>\n",
       "      <td>-0.512200</td>\n",
       "      <td>-0.073746</td>\n",
       "      <td>-0.184801</td>\n",
       "      <td>...</td>\n",
       "      <td>-0.521041</td>\n",
       "      <td>-0.861486</td>\n",
       "      <td>0.761850</td>\n",
       "      <td>-0.520158</td>\n",
       "      <td>-1.286339</td>\n",
       "      <td>0.637933</td>\n",
       "      <td>-1.151487</td>\n",
       "      <td>0.386892</td>\n",
       "      <td>-0.730867</td>\n",
       "      <td>0.360165</td>\n",
       "    </tr>\n",
       "    <tr>\n",
       "      <th>3</th>\n",
       "      <td>0.866680</td>\n",
       "      <td>-0.501042</td>\n",
       "      <td>-0.879677</td>\n",
       "      <td>-0.226574</td>\n",
       "      <td>-0.845318</td>\n",
       "      <td>-0.194365</td>\n",
       "      <td>-0.29796</td>\n",
       "      <td>0.443820</td>\n",
       "      <td>-0.073746</td>\n",
       "      <td>-0.184801</td>\n",
       "      <td>...</td>\n",
       "      <td>-0.521041</td>\n",
       "      <td>1.160675</td>\n",
       "      <td>0.761850</td>\n",
       "      <td>-0.520158</td>\n",
       "      <td>0.777326</td>\n",
       "      <td>0.637933</td>\n",
       "      <td>0.868360</td>\n",
       "      <td>0.386892</td>\n",
       "      <td>-0.730867</td>\n",
       "      <td>0.360165</td>\n",
       "    </tr>\n",
       "    <tr>\n",
       "      <th>4</th>\n",
       "      <td>0.866680</td>\n",
       "      <td>0.015102</td>\n",
       "      <td>-0.879677</td>\n",
       "      <td>-0.226574</td>\n",
       "      <td>-2.481151</td>\n",
       "      <td>-0.194365</td>\n",
       "      <td>-0.29796</td>\n",
       "      <td>-0.512200</td>\n",
       "      <td>-0.073746</td>\n",
       "      <td>-0.184801</td>\n",
       "      <td>...</td>\n",
       "      <td>1.919052</td>\n",
       "      <td>1.160675</td>\n",
       "      <td>-1.312469</td>\n",
       "      <td>-0.520158</td>\n",
       "      <td>0.777326</td>\n",
       "      <td>0.637933</td>\n",
       "      <td>0.868360</td>\n",
       "      <td>-2.584453</td>\n",
       "      <td>1.368109</td>\n",
       "      <td>-2.776244</td>\n",
       "    </tr>\n",
       "  </tbody>\n",
       "</table>\n",
       "<p>5 rows × 26 columns</p>\n",
       "</div>"
      ],
      "text/plain": [
       "       Type       Age    Gender  MaturitySize  FurLength    Health      Fee  \\\n",
       "0  0.866680 -0.501042 -0.879677     -0.226574   0.790516 -0.194365 -0.29796   \n",
       "1 -1.153719  0.015102 -0.879677     -0.226574  -0.845318  4.568489 -0.29796   \n",
       "2 -1.153719 -0.449427 -0.879677      1.629890   0.790516 -0.194365 -0.29796   \n",
       "3  0.866680 -0.501042 -0.879677     -0.226574  -0.845318 -0.194365 -0.29796   \n",
       "4  0.866680  0.015102 -0.879677     -0.226574  -2.481151 -0.194365 -0.29796   \n",
       "\n",
       "   PhotoAmt  Breed1_0  Breed1_1  ...  Color1_0  Color1_1  Color1_2  Color2_0  \\\n",
       "0 -0.830874 -0.073746 -0.184801  ... -0.521041 -0.861486  0.761850 -0.520158   \n",
       "1 -0.830874 -0.073746 -0.184801  ... -0.521041  1.160675 -1.312469  1.922312   \n",
       "2 -0.512200 -0.073746 -0.184801  ... -0.521041 -0.861486  0.761850 -0.520158   \n",
       "3  0.443820 -0.073746 -0.184801  ... -0.521041  1.160675  0.761850 -0.520158   \n",
       "4 -0.512200 -0.073746 -0.184801  ...  1.919052  1.160675 -1.312469 -0.520158   \n",
       "\n",
       "   Color2_1  Color2_2  Vaccinated_0  Vaccinated_1  Sterilized_0  Sterilized_1  \n",
       "0  0.777326  0.637933     -1.151487      0.386892     -0.730867      0.360165  \n",
       "1  0.777326 -1.567414      0.868360     -2.584453      1.368109     -2.776244  \n",
       "2 -1.286339  0.637933     -1.151487      0.386892     -0.730867      0.360165  \n",
       "3  0.777326  0.637933      0.868360      0.386892     -0.730867      0.360165  \n",
       "4  0.777326  0.637933      0.868360     -2.584453      1.368109     -2.776244  \n",
       "\n",
       "[5 rows x 26 columns]"
      ]
     },
     "execution_count": 20,
     "metadata": {},
     "output_type": "execute_result"
    }
   ],
   "source": [
    "columns = [col for col in train.columns if col != 'Target'] # TODO (All columns except the Target)\n",
    "for column in columns:\n",
    "  mean = train[column].mean() # TODO (Mean of train_data[column])\n",
    "  std = train[column].std() # TODO (Standard Deviation of train_data[column])\n",
    "  train[column] = (train[column]- mean)/std\n",
    "  test[column] = (test[column] - mean)/std\n",
    "\n",
    "test.head()"
   ]
  },
  {
   "cell_type": "code",
   "execution_count": 21,
   "metadata": {},
   "outputs": [
    {
     "data": {
      "text/plain": [
       "26"
      ]
     },
     "execution_count": 21,
     "metadata": {},
     "output_type": "execute_result"
    }
   ],
   "source": [
    "len(columns)"
   ]
  },
  {
   "cell_type": "markdown",
   "metadata": {
    "id": "5DMrZt_VlaTU"
   },
   "source": [
    "<p dir=rtl style=\"direction: rtl; text-align: justify; line-height:200%; font-family:vazir; font-size:medium\">\n",
    "    <ul dir=rtl style=\"direction: rtl; text-align: justify; line-height:200%; font-family:vazir; font-size:medium\">\n",
    "<font face=\"vazir\">\n",
    "همان‌طور که در درسنامه‌های قبلی گفتیم برای ارزیابی و بهبود مدل بخشی از داده‌های آموزش را به‌عنوان داده‌های اعتبارسنجی جدا می‌کنیم. برای این‌کار می‌توانید از تابع <code>train_test_split</code> کتابخانه‌ی <code>sklearn</code> استفاده کنید. مستندات این تابع را می‌توانید در  <a href=https://scikit-learn.org/stable/modules/generated/sklearn.model_selection.train_test_split.html> این لینک </a> پیدا کنید. توجه داشته باشید در این مسئله <code>0.1</code> از داده‌های آموزش را به داده‌های اعتبارسنجی اختصاص می‌دهیم و <code>0.9</code> باقی مانده را برای آموزش مدل استفاده می‌کنیم.\n",
    "\n",
    "</font>\n",
    "</p>\n",
    "\n",
    "\n"
   ]
  },
  {
   "cell_type": "code",
   "execution_count": 22,
   "metadata": {
    "id": "IxvwowoojG9X"
   },
   "outputs": [
    {
     "name": "stdout",
     "output_type": "stream",
     "text": [
      "Train examples: 9483 9483\n",
      "Validation examples: 1054 1054\n",
      "Test examples: 1000\n"
     ]
    }
   ],
   "source": [
    "from sklearn.model_selection import train_test_split\n",
    "\n",
    "X_train, X_valid, y_train, y_valid = train_test_split(train.drop('Target', axis = 1), train['Target'], test_size = 0.1, shuffle=True)\n",
    "\n",
    "print('Train examples:', len(X_train), len(y_train))\n",
    "print('Validation examples:', len(X_valid), len(y_valid))\n",
    "print('Test examples:',  len(test))"
   ]
  },
  {
   "cell_type": "markdown",
   "metadata": {
    "id": "-Ral8_ksf5B2"
   },
   "source": [
    "<h2 dir=rtl align=right style=\"line-height:200%;font-family:vazir;color:#0099cc\">\n",
    "<font face=\"vazir\" color=\"#0099cc\">\n",
    "ساخت شبکه‌ی عصبی\n",
    "</font>\n",
    "</h2>\n",
    "\n",
    "<p dir=rtl style=\"direction: rtl; text-align: justify; line-height:200%; font-family:vazir; font-size:medium\">\n",
    "<font face=\"vazir\">\n",
    "پس از انجام پیش‌پرداز‌های مورد نیاز نوبت به ساخت و آموزش مدل رسیده است.\n",
    "در این مسئله از شما می‌خواهیم ابتدا یک لایه ورودی با ابعاد مناسب مسئله که همان تعداد ویژگی‌های مجموعه‌داده است بسازید. سپس ۳ لایه‌ی متراکم با تعداد نورون‌های ۵۰۰۰، ۱۰۰۰ و ۵۰۰ (به ترتیب از راست به چپ) با تابع‌ فعال‌ساز  <code>relu</code> ایجاد کنید و در نهایت یک لایه‌ی متراکم خروجی با تعداد نورون مناسب و تابع فعال‌ساز  <code>sigmoid</code> اضافه کنید.\n",
    "</font>\n",
    "</p>"
   ]
  },
  {
   "cell_type": "code",
   "execution_count": 23,
   "metadata": {
    "id": "PnNJ6CFG5oR4"
   },
   "outputs": [],
   "source": [
    "model = keras.Sequential() # TODO : define a Sequential model\n",
    "model.add(keras.layers.Input(shape = (X_train.shape[1],))) # TODO : add Input Layer with proper Shape\n",
    "model.add(keras.layers.Dense(5000, activation = 'relu')) # TODO : add Dense Layer with 5000 neurons and relu activation function\n",
    "model.add(keras.layers.Dense(1000, activation='relu')) # TODO : add Dense Layer with 1000 neurons and relu activation function\n",
    "model.add(keras.layers.Dense(500, activation = 'relu')) # TODO : add Dense Layer with 500 neurons and relu activation function\n",
    "model.add(keras.layers.Dense(1, activation = 'sigmoid')) # TODO : add Dense Layer as Output Layer with sigmoid activation function"
   ]
  },
  {
   "cell_type": "code",
   "execution_count": 24,
   "metadata": {},
   "outputs": [
    {
     "data": {
      "text/html": [
       "<pre style=\"white-space:pre;overflow-x:auto;line-height:normal;font-family:Menlo,'DejaVu Sans Mono',consolas,'Courier New',monospace\"><span style=\"font-weight: bold\">Model: \"sequential\"</span>\n",
       "</pre>\n"
      ],
      "text/plain": [
       "\u001b[1mModel: \"sequential\"\u001b[0m\n"
      ]
     },
     "metadata": {},
     "output_type": "display_data"
    },
    {
     "data": {
      "text/html": [
       "<pre style=\"white-space:pre;overflow-x:auto;line-height:normal;font-family:Menlo,'DejaVu Sans Mono',consolas,'Courier New',monospace\">┏━━━━━━━━━━━━━━━━━━━━━━━━━━━━━━━━━━━━━━┳━━━━━━━━━━━━━━━━━━━━━━━━━━━━━┳━━━━━━━━━━━━━━━━━┓\n",
       "┃<span style=\"font-weight: bold\"> Layer (type)                         </span>┃<span style=\"font-weight: bold\"> Output Shape                </span>┃<span style=\"font-weight: bold\">         Param # </span>┃\n",
       "┡━━━━━━━━━━━━━━━━━━━━━━━━━━━━━━━━━━━━━━╇━━━━━━━━━━━━━━━━━━━━━━━━━━━━━╇━━━━━━━━━━━━━━━━━┩\n",
       "│ dense (<span style=\"color: #0087ff; text-decoration-color: #0087ff\">Dense</span>)                        │ (<span style=\"color: #00d7ff; text-decoration-color: #00d7ff\">None</span>, <span style=\"color: #00af00; text-decoration-color: #00af00\">5000</span>)                │         <span style=\"color: #00af00; text-decoration-color: #00af00\">135,000</span> │\n",
       "├──────────────────────────────────────┼─────────────────────────────┼─────────────────┤\n",
       "│ dense_1 (<span style=\"color: #0087ff; text-decoration-color: #0087ff\">Dense</span>)                      │ (<span style=\"color: #00d7ff; text-decoration-color: #00d7ff\">None</span>, <span style=\"color: #00af00; text-decoration-color: #00af00\">1000</span>)                │       <span style=\"color: #00af00; text-decoration-color: #00af00\">5,001,000</span> │\n",
       "├──────────────────────────────────────┼─────────────────────────────┼─────────────────┤\n",
       "│ dense_2 (<span style=\"color: #0087ff; text-decoration-color: #0087ff\">Dense</span>)                      │ (<span style=\"color: #00d7ff; text-decoration-color: #00d7ff\">None</span>, <span style=\"color: #00af00; text-decoration-color: #00af00\">500</span>)                 │         <span style=\"color: #00af00; text-decoration-color: #00af00\">500,500</span> │\n",
       "├──────────────────────────────────────┼─────────────────────────────┼─────────────────┤\n",
       "│ dense_3 (<span style=\"color: #0087ff; text-decoration-color: #0087ff\">Dense</span>)                      │ (<span style=\"color: #00d7ff; text-decoration-color: #00d7ff\">None</span>, <span style=\"color: #00af00; text-decoration-color: #00af00\">1</span>)                   │             <span style=\"color: #00af00; text-decoration-color: #00af00\">501</span> │\n",
       "└──────────────────────────────────────┴─────────────────────────────┴─────────────────┘\n",
       "</pre>\n"
      ],
      "text/plain": [
       "┏━━━━━━━━━━━━━━━━━━━━━━━━━━━━━━━━━━━━━━┳━━━━━━━━━━━━━━━━━━━━━━━━━━━━━┳━━━━━━━━━━━━━━━━━┓\n",
       "┃\u001b[1m \u001b[0m\u001b[1mLayer (type)                        \u001b[0m\u001b[1m \u001b[0m┃\u001b[1m \u001b[0m\u001b[1mOutput Shape               \u001b[0m\u001b[1m \u001b[0m┃\u001b[1m \u001b[0m\u001b[1m        Param #\u001b[0m\u001b[1m \u001b[0m┃\n",
       "┡━━━━━━━━━━━━━━━━━━━━━━━━━━━━━━━━━━━━━━╇━━━━━━━━━━━━━━━━━━━━━━━━━━━━━╇━━━━━━━━━━━━━━━━━┩\n",
       "│ dense (\u001b[38;5;33mDense\u001b[0m)                        │ (\u001b[38;5;45mNone\u001b[0m, \u001b[38;5;34m5000\u001b[0m)                │         \u001b[38;5;34m135,000\u001b[0m │\n",
       "├──────────────────────────────────────┼─────────────────────────────┼─────────────────┤\n",
       "│ dense_1 (\u001b[38;5;33mDense\u001b[0m)                      │ (\u001b[38;5;45mNone\u001b[0m, \u001b[38;5;34m1000\u001b[0m)                │       \u001b[38;5;34m5,001,000\u001b[0m │\n",
       "├──────────────────────────────────────┼─────────────────────────────┼─────────────────┤\n",
       "│ dense_2 (\u001b[38;5;33mDense\u001b[0m)                      │ (\u001b[38;5;45mNone\u001b[0m, \u001b[38;5;34m500\u001b[0m)                 │         \u001b[38;5;34m500,500\u001b[0m │\n",
       "├──────────────────────────────────────┼─────────────────────────────┼─────────────────┤\n",
       "│ dense_3 (\u001b[38;5;33mDense\u001b[0m)                      │ (\u001b[38;5;45mNone\u001b[0m, \u001b[38;5;34m1\u001b[0m)                   │             \u001b[38;5;34m501\u001b[0m │\n",
       "└──────────────────────────────────────┴─────────────────────────────┴─────────────────┘\n"
      ]
     },
     "metadata": {},
     "output_type": "display_data"
    },
    {
     "data": {
      "text/html": [
       "<pre style=\"white-space:pre;overflow-x:auto;line-height:normal;font-family:Menlo,'DejaVu Sans Mono',consolas,'Courier New',monospace\"><span style=\"font-weight: bold\"> Total params: </span><span style=\"color: #00af00; text-decoration-color: #00af00\">5,637,001</span> (21.50 MB)\n",
       "</pre>\n"
      ],
      "text/plain": [
       "\u001b[1m Total params: \u001b[0m\u001b[38;5;34m5,637,001\u001b[0m (21.50 MB)\n"
      ]
     },
     "metadata": {},
     "output_type": "display_data"
    },
    {
     "data": {
      "text/html": [
       "<pre style=\"white-space:pre;overflow-x:auto;line-height:normal;font-family:Menlo,'DejaVu Sans Mono',consolas,'Courier New',monospace\"><span style=\"font-weight: bold\"> Trainable params: </span><span style=\"color: #00af00; text-decoration-color: #00af00\">5,637,001</span> (21.50 MB)\n",
       "</pre>\n"
      ],
      "text/plain": [
       "\u001b[1m Trainable params: \u001b[0m\u001b[38;5;34m5,637,001\u001b[0m (21.50 MB)\n"
      ]
     },
     "metadata": {},
     "output_type": "display_data"
    },
    {
     "data": {
      "text/html": [
       "<pre style=\"white-space:pre;overflow-x:auto;line-height:normal;font-family:Menlo,'DejaVu Sans Mono',consolas,'Courier New',monospace\"><span style=\"font-weight: bold\"> Non-trainable params: </span><span style=\"color: #00af00; text-decoration-color: #00af00\">0</span> (0.00 B)\n",
       "</pre>\n"
      ],
      "text/plain": [
       "\u001b[1m Non-trainable params: \u001b[0m\u001b[38;5;34m0\u001b[0m (0.00 B)\n"
      ]
     },
     "metadata": {},
     "output_type": "display_data"
    }
   ],
   "source": [
    "model.summary()"
   ]
  },
  {
   "cell_type": "markdown",
   "metadata": {
    "id": "9f7XjaQZ9_jx"
   },
   "source": [
    "<h2 dir=rtl align=right style=\"line-height:200%;font-family:vazir;color:#0099cc\">\n",
    "<font face=\"vazir\" color=\"#0099cc\">\n",
    "آموزش شبکه‌ی عصبی\n",
    "</font>\n",
    "</h2>\n",
    "\n",
    "<p dir=rtl style=\"direction: rtl; text-align: justify; line-height:200%; font-family:vazir; font-size:medium\">\n",
    "    <ul dir=rtl style=\"direction: rtl; text-align: justify; line-height:200%; font-family:vazir; font-size:medium\">\n",
    "<font face=\"vazir\">\n",
    "در ادامه شبکه را با تابع هزینه و بهینه‌ساز تعریف‌شده <code>compile</code> می‌کنیم. (درباره‌ی توابع هزینه‌ و بهینه‌سازهای مختلف در فصل بعد کامل صحبت خواهیم کرد)</font>\n",
    "</p>"
   ]
  },
  {
   "cell_type": "code",
   "execution_count": 25,
   "metadata": {
    "id": "JzjykerN9DiH"
   },
   "outputs": [],
   "source": [
    "model.compile(optimizer = 'adam',\n",
    "              loss = keras.losses.BinaryCrossentropy(from_logits=False),\n",
    "              metrics = ['accuracy'])"
   ]
  },
  {
   "cell_type": "markdown",
   "metadata": {
    "id": "VxiehEs0_Ayu"
   },
   "source": [
    "<p dir=rtl style=\"direction: rtl; text-align: justify; line-height:200%; font-family:vazir; font-size:medium\">\n",
    "    <ul dir=rtl style=\"direction: rtl; text-align: justify; line-height:200%; font-family:vazir; font-size:medium\">\n",
    "<font face=\"vazir\">\n",
    "در این مرحله باید مدل ساخته شده را با اندازه‌ی دسته ۱۲۸ (<code>BATCH_SIZE</code>) و به تعداد دور ۱۰ (<code>epochs</code>) آموزش دهید.\n",
    "</font>\n",
    "</p>\n",
    "\n",
    "\n"
   ]
  },
  {
   "cell_type": "code",
   "execution_count": 26,
   "metadata": {},
   "outputs": [
    {
     "name": "stdout",
     "output_type": "stream",
     "text": [
      "(9483, 26)\n",
      "(1054, 26)\n"
     ]
    }
   ],
   "source": [
    "print(X_train.shape)\n",
    "print(X_valid.shape)\n"
   ]
  },
  {
   "cell_type": "code",
   "execution_count": 27,
   "metadata": {
    "id": "0Ots6nr--Lgn"
   },
   "outputs": [
    {
     "name": "stdout",
     "output_type": "stream",
     "text": [
      "Epoch 1/10\n",
      "\u001b[1m75/75\u001b[0m \u001b[32m━━━━━━━━━━━━━━━━━━━━\u001b[0m\u001b[37m\u001b[0m \u001b[1m7s\u001b[0m 78ms/step - accuracy: 0.7236 - loss: 0.5713 - val_accuracy: 0.7372 - val_loss: 0.5125\n",
      "Epoch 2/10\n",
      "\u001b[1m75/75\u001b[0m \u001b[32m━━━━━━━━━━━━━━━━━━━━\u001b[0m\u001b[37m\u001b[0m \u001b[1m6s\u001b[0m 76ms/step - accuracy: 0.7648 - loss: 0.5050 - val_accuracy: 0.7495 - val_loss: 0.5074\n",
      "Epoch 3/10\n",
      "\u001b[1m75/75\u001b[0m \u001b[32m━━━━━━━━━━━━━━━━━━━━\u001b[0m\u001b[37m\u001b[0m \u001b[1m6s\u001b[0m 75ms/step - accuracy: 0.7640 - loss: 0.5001 - val_accuracy: 0.7419 - val_loss: 0.5124\n",
      "Epoch 4/10\n",
      "\u001b[1m75/75\u001b[0m \u001b[32m━━━━━━━━━━━━━━━━━━━━\u001b[0m\u001b[37m\u001b[0m \u001b[1m6s\u001b[0m 79ms/step - accuracy: 0.7727 - loss: 0.4943 - val_accuracy: 0.7296 - val_loss: 0.5124\n",
      "Epoch 5/10\n",
      "\u001b[1m75/75\u001b[0m \u001b[32m━━━━━━━━━━━━━━━━━━━━\u001b[0m\u001b[37m\u001b[0m \u001b[1m6s\u001b[0m 76ms/step - accuracy: 0.7650 - loss: 0.4874 - val_accuracy: 0.7524 - val_loss: 0.5178\n",
      "Epoch 6/10\n",
      "\u001b[1m75/75\u001b[0m \u001b[32m━━━━━━━━━━━━━━━━━━━━\u001b[0m\u001b[37m\u001b[0m \u001b[1m6s\u001b[0m 76ms/step - accuracy: 0.7763 - loss: 0.4754 - val_accuracy: 0.7476 - val_loss: 0.5146\n",
      "Epoch 7/10\n",
      "\u001b[1m75/75\u001b[0m \u001b[32m━━━━━━━━━━━━━━━━━━━━\u001b[0m\u001b[37m\u001b[0m \u001b[1m6s\u001b[0m 75ms/step - accuracy: 0.7830 - loss: 0.4721 - val_accuracy: 0.7524 - val_loss: 0.5138\n",
      "Epoch 8/10\n",
      "\u001b[1m75/75\u001b[0m \u001b[32m━━━━━━━━━━━━━━━━━━━━\u001b[0m\u001b[37m\u001b[0m \u001b[1m7s\u001b[0m 90ms/step - accuracy: 0.7912 - loss: 0.4458 - val_accuracy: 0.7581 - val_loss: 0.5236\n",
      "Epoch 9/10\n",
      "\u001b[1m75/75\u001b[0m \u001b[32m━━━━━━━━━━━━━━━━━━━━\u001b[0m\u001b[37m\u001b[0m \u001b[1m6s\u001b[0m 83ms/step - accuracy: 0.7938 - loss: 0.4484 - val_accuracy: 0.7524 - val_loss: 0.5221\n",
      "Epoch 10/10\n",
      "\u001b[1m75/75\u001b[0m \u001b[32m━━━━━━━━━━━━━━━━━━━━\u001b[0m\u001b[37m\u001b[0m \u001b[1m6s\u001b[0m 85ms/step - accuracy: 0.8000 - loss: 0.4311 - val_accuracy: 0.7514 - val_loss: 0.5238\n"
     ]
    }
   ],
   "source": [
    "epochs = 10 # TODO\n",
    "BATCH_SIZE = 128 # TODO\n",
    "\n",
    "history = model.fit(X_train, y_train,\n",
    "                    batch_size=BATCH_SIZE,\n",
    "                    epochs=epochs,\n",
    "                    validation_data=(X_valid, y_valid)) # TODO\n"
   ]
  },
  {
   "cell_type": "code",
   "execution_count": 28,
   "metadata": {},
   "outputs": [
    {
     "name": "stdout",
     "output_type": "stream",
     "text": [
      "\u001b[1m33/33\u001b[0m \u001b[32m━━━━━━━━━━━━━━━━━━━━\u001b[0m\u001b[37m\u001b[0m \u001b[1m0s\u001b[0m 6ms/step \n"
     ]
    },
    {
     "data": {
      "text/plain": [
       "0.7296084064966283"
      ]
     },
     "execution_count": 28,
     "metadata": {},
     "output_type": "execute_result"
    }
   ],
   "source": [
    "from sklearn.metrics import f1_score\n",
    "score = f1_score(y_valid, model.predict(X_valid) > 0.5, average = 'weighted')\n",
    "score"
   ]
  },
  {
   "cell_type": "markdown",
   "metadata": {
    "id": "t0klJv0t_net"
   },
   "source": [
    "\n",
    "<h2 align=right style=\"line-height:200%;font-family:vazir;color:#0099cc\">\n",
    "<font face=\"vazir\" color=\"#0099cc\">\n",
    "پیش‌بینی برای داده‌های آزمون و خروجی\n",
    "</font>\n",
    "</h2>\n",
    "\n",
    "<p dir=rtl style=\"direction: rtl;text-align: right;line-height:200%;font-family:vazir;font-size:medium\">\n",
    "<font face=\"vazir\" size=3>\n",
    "شبکه‌ی خود را روی مجموعه‌داده‌ی <code>test</code>  آزمایش کنید و خروجی را در یک دیتافریم (<code>dataframe</code>) ذخیره کنید. دقت کنید مقادیر مجاز مقادیر دودویی (<code>False</code>/<code>True</code>) می‌باشد.\n",
    "</font>\n",
    "</p>\n",
    "\n",
    "<h3 dir=rtl align=right style=\"line-height:200%;font-family:vazir;color:#0099cc\">\n",
    "<font face=\"vazir\" color=\"#0099cc\">\n",
    "معیار ارزیابی\n",
    "</font>\n",
    "</h3>\n",
    "\n",
    "<p dir=rtl style=\"direction: rtl; text-align: justify; line-height:200%; font-family:vazir; font-size:medium\">\n",
    "<font face=\"vazir\" size=3>\n",
    "توجه داشته باشید معیار ارزیابی مدل شما در این تمرین معیار <code>F1 score</code> است، که می‌توانید مستندات آن را در <a href = 'https://scikit-learn.org/stable/modules/generated/sklearn.metrics.f1_score.html'>این لینک</a> مطالعه نمایید. لازم به ذکر است که از حالت میانگین‌گیری <code>\"weighted\"</code> این معیار استفاده خواهد شد.\n",
    "</font>\n",
    "</p>\n",
    "\n",
    "\n",
    "<p dir=rtl style=\"direction: rtl; text-align: justify; line-height:200%; font-family:vazir; font-size:medium\">\n",
    "<font color=\"red\"><b color='red'>توجه:</b></font>\n",
    "<font face=\"vazir\" size=3>\n",
    " جهت کسب امتیاز کامل نیاز است تا پاسخ شما حداقل امتیاز <code>70</code> را با توجه به معیار معرفی‌شده کسب نماید.\n",
    "</font>\n",
    "</p>\n",
    "\n",
    "<center>\n",
    "<div dir=rtl style=\"direction: rtl;line-height:200%;font-family:vazir;font-size:medium\">\n",
    "<font face=\"vazir\" size=3>\n",
    "  \n",
    "|ستون|توضیحات|\n",
    "|:------:|:---:|\n",
    "|<code>Target</code>|آیا حیوان‌خانگی خانه جدید پیدا کرده است یا خیر|\n",
    "  \n",
    "</font>\n",
    "</div>\n",
    "</center>"
   ]
  },
  {
   "cell_type": "markdown",
   "metadata": {},
   "source": [
    "<p dir=rtl style=\"direction: rtl;text-align: right;line-height:200%;font-family:vazir;font-size:medium\">\n",
    "<font face=\"vazir\" size=3>\n",
    "    اسم دیتافریم باید <code>submission</code> باشد؛ در غیر این صورت، سامانه داوری نمی‌تواند تلاش‌ شما را ارزیابی کند.\n",
    "    <br>\n",
    "    این دیتافریم تنها شامل ۱ ستون با اسم <code>Target</code> است و ۱۰۰۰ سطر دارد.\n",
    "    <br>\n",
    "    به ازای هر سطر موجود در دیتافریم <code>test</code> شما باید یک مقدار پیش‌بینی‌شده داشته باشید.\n",
    "    <br>\n",
    "    جدول زیر، ۵ سطر ابتدایی دیتافریم <code>submission</code> را نشان می‌دهد. البته در جواب شما، اعداد ستون <code>Target</code> ممکن است متفاوت باشد و این فقط یک مثال است.\n",
    "</font>\n",
    "</p>\n",
    "\n",
    "<center>\n",
    "<div dir=ltr style=\"direction: ltr;line-height:200%;font-family:vazir;font-size:medium\">\n",
    "<font face=\"vazir\" size=3>\n",
    "    \n",
    "||<code>Target</code>|\n",
    "|:----:|:-----:|\n",
    "|0|<code>True</code>|\n",
    "|1|<code>True</code>|\n",
    "|2|<code>False</code>|\n",
    "|3|<code>False</code>|\n",
    "|4|<code>True</code>|\n",
    "\n",
    "</font>\n",
    "</div>\n",
    "</center>"
   ]
  },
  {
   "cell_type": "code",
   "execution_count": 29,
   "metadata": {},
   "outputs": [
    {
     "data": {
      "text/plain": [
       "1000"
      ]
     },
     "execution_count": 29,
     "metadata": {},
     "output_type": "execute_result"
    }
   ],
   "source": [
    "len(test)"
   ]
  },
  {
   "cell_type": "code",
   "execution_count": 30,
   "metadata": {},
   "outputs": [
    {
     "name": "stdout",
     "output_type": "stream",
     "text": [
      "\u001b[1m32/32\u001b[0m \u001b[32m━━━━━━━━━━━━━━━━━━━━\u001b[0m\u001b[37m\u001b[0m \u001b[1m0s\u001b[0m 4ms/step \n"
     ]
    }
   ],
   "source": [
    "result = model.predict(test)"
   ]
  },
  {
   "cell_type": "code",
   "execution_count": 35,
   "metadata": {},
   "outputs": [],
   "source": [
    "prediction_class = (result > 0.5)"
   ]
  },
  {
   "cell_type": "code",
   "execution_count": 32,
   "metadata": {},
   "outputs": [
    {
     "data": {
      "text/plain": [
       "1000"
      ]
     },
     "execution_count": 32,
     "metadata": {},
     "output_type": "execute_result"
    }
   ],
   "source": [
    "len(prediction_class)"
   ]
  },
  {
   "cell_type": "code",
   "execution_count": 33,
   "metadata": {
    "id": "CH7cSHMN-jhi"
   },
   "outputs": [
    {
     "data": {
      "text/html": [
       "<div>\n",
       "<style scoped>\n",
       "    .dataframe tbody tr th:only-of-type {\n",
       "        vertical-align: middle;\n",
       "    }\n",
       "\n",
       "    .dataframe tbody tr th {\n",
       "        vertical-align: top;\n",
       "    }\n",
       "\n",
       "    .dataframe thead th {\n",
       "        text-align: right;\n",
       "    }\n",
       "</style>\n",
       "<table border=\"1\" class=\"dataframe\">\n",
       "  <thead>\n",
       "    <tr style=\"text-align: right;\">\n",
       "      <th></th>\n",
       "      <th>Target</th>\n",
       "    </tr>\n",
       "  </thead>\n",
       "  <tbody>\n",
       "    <tr>\n",
       "      <th>0</th>\n",
       "      <td>True</td>\n",
       "    </tr>\n",
       "    <tr>\n",
       "      <th>1</th>\n",
       "      <td>True</td>\n",
       "    </tr>\n",
       "    <tr>\n",
       "      <th>2</th>\n",
       "      <td>True</td>\n",
       "    </tr>\n",
       "    <tr>\n",
       "      <th>3</th>\n",
       "      <td>True</td>\n",
       "    </tr>\n",
       "    <tr>\n",
       "      <th>4</th>\n",
       "      <td>True</td>\n",
       "    </tr>\n",
       "    <tr>\n",
       "      <th>...</th>\n",
       "      <td>...</td>\n",
       "    </tr>\n",
       "    <tr>\n",
       "      <th>995</th>\n",
       "      <td>True</td>\n",
       "    </tr>\n",
       "    <tr>\n",
       "      <th>996</th>\n",
       "      <td>True</td>\n",
       "    </tr>\n",
       "    <tr>\n",
       "      <th>997</th>\n",
       "      <td>True</td>\n",
       "    </tr>\n",
       "    <tr>\n",
       "      <th>998</th>\n",
       "      <td>True</td>\n",
       "    </tr>\n",
       "    <tr>\n",
       "      <th>999</th>\n",
       "      <td>True</td>\n",
       "    </tr>\n",
       "  </tbody>\n",
       "</table>\n",
       "<p>1000 rows × 1 columns</p>\n",
       "</div>"
      ],
      "text/plain": [
       "     Target\n",
       "0      True\n",
       "1      True\n",
       "2      True\n",
       "3      True\n",
       "4      True\n",
       "..      ...\n",
       "995    True\n",
       "996    True\n",
       "997    True\n",
       "998    True\n",
       "999    True\n",
       "\n",
       "[1000 rows x 1 columns]"
      ]
     },
     "execution_count": 33,
     "metadata": {},
     "output_type": "execute_result"
    }
   ],
   "source": [
    "submission = pd.DataFrame(prediction_class, columns = ['Target'])\n",
    "submission"
   ]
  },
  {
   "cell_type": "markdown",
   "metadata": {
    "id": "hhIUSfLBCWIR"
   },
   "source": [
    "<h2 align=right style=\"line-height:200%;font-family:vazir;color:#0099cc\">\n",
    "<font face=\"vazir\" color=\"#0099cc\">\n",
    "<b>سلول جواب‌ساز</b>\n",
    "</font>\n",
    "</h2>\n",
    "\n",
    "<p dir=rtl style=\"direction: rtl; text-align: justify; line-height:200%; font-family:vazir; font-size:medium\">\n",
    "<font face=\"vazir\" size=3>\n",
    "    برای ساخته‌شدن فایل <code>result.zip</code> سلول زیر را اجرا کنید. توجه داشته باشید که پیش از اجرای سلول زیر تغییرات اعمال شده در نت‌بوک را ذخیره کرده باشید (<code>ctrl+s</code>) تا در صورت نیاز به پشتیبانی امکان بررسی کد شما وجود داشته باشد. همچنین اگر از گوگل کولب استفاده می‌کنید، در صورت نیاز به پشتیبانی حتماً آخرین نسخه از نت‌بوک را به‌صورت دستی دانلود کرده و داخل فایل ارسالی قرار دهید یا لینک کولب را با ما به‌اشتراک بگذارید.\n",
    "</font>\n",
    "</p>"
   ]
  },
  {
   "cell_type": "code",
   "execution_count": 34,
   "metadata": {
    "id": "pPMeti0VA1O7"
   },
   "outputs": [
    {
     "name": "stdout",
     "output_type": "stream",
     "text": [
      "File Paths:\n",
      "['test.csv', 'submission.csv', 'model_info.json', 'new_home.ipynb']\n"
     ]
    }
   ],
   "source": [
    "import zipfile\n",
    "import joblib\n",
    "import numpy as np\n",
    "import json\n",
    "import os\n",
    "\n",
    "if not os.path.exists(os.path.join(os.getcwd(), 'new_home.ipynb')):\n",
    "    %notebook -e new_home.ipynb\n",
    "\n",
    "test.to_csv(\"test.csv\")\n",
    "\n",
    "model_info=[]\n",
    "for layer in model.layers:\n",
    "  if layer.__class__.__name__==\"Dense\":\n",
    "    model_info.append({\n",
    "        \"name\": layer.__class__.__name__,\n",
    "        \"units\":layer.units,\n",
    "        \"activation\":layer.get_config()[\"activation\"]\n",
    "    })\n",
    "  else:\n",
    "    model_info.append({\"name\": layer.__class__.__name__})\n",
    "\n",
    "with open(\"model_info.json\", \"w\") as f:\n",
    "    json.dump(model_info, f)\n",
    "\n",
    "\n",
    "def compress(file_names):\n",
    "    print(\"File Paths:\")\n",
    "    print(file_names)\n",
    "    compression = zipfile.ZIP_DEFLATED\n",
    "    with zipfile.ZipFile(\"result.zip\", mode=\"w\") as zf:\n",
    "        for file_name in file_names:\n",
    "            zf.write('./' + file_name, file_name, compress_type=compression)\n",
    "\n",
    "submission.to_csv('submission.csv', index=False)\n",
    "\n",
    "file_names = [\"test.csv\",'submission.csv', 'model_info.json', 'new_home.ipynb']\n",
    "compress(file_names)"
   ]
  }
 ],
 "metadata": {
  "colab": {
   "provenance": []
  },
  "kernelspec": {
   "display_name": "Python 3 (ipykernel)",
   "language": "python",
   "name": "python3"
  },
  "language_info": {
   "codemirror_mode": {
    "name": "ipython",
    "version": 3
   },
   "file_extension": ".py",
   "mimetype": "text/x-python",
   "name": "python",
   "nbconvert_exporter": "python",
   "pygments_lexer": "ipython3",
   "version": "3.10.6"
  },
  "vscode": {
   "interpreter": {
    "hash": "44e7e1b8fa2096bd5707ed7fd18b1724a2db25f4c565a7673f8b6e7bfc49d25d"
   }
  }
 },
 "nbformat": 4,
 "nbformat_minor": 4
}
