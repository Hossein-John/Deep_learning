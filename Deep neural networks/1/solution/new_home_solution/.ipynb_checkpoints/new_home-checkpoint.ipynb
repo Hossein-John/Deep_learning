{
  "cells": [
    {
      "cell_type": "markdown",
      "metadata": {
        "id": "Vmqpiy5wfbsA"
      },
      "source": [
        "<h1 dir=rtl align=center style=\"line-height:200%;font-family:vazir;color:#0099cc\">\n",
        "<font face=\"vazir\" color=\"#0099cc\">\n",
        "خونه جدید‌؟\n",
        "</font>\n",
        "</h1>\n",
        "\n",
        "<p dir=rtl style=\"direction: rtl; text-align: justify; line-height:200%; font-family:vazir; font-size:medium\">\n",
        "<font face=\"vazir\">\n",
        "در این تمرین می‌خواهیم به‌صورت عملی با نحوه‌ی پیاده‌سازی یک شبکه‌ی عصبی عمیق در <code>keras</code> آشنا شویم. کار خود را با خوانش داده‌ها و تحلیل اکتشافی آن شروع کرده، سپس با استفاده از پیش‌پردازش‌های مختلف، داده‌ها را به‌شکلی که مناسب استفاده در یک مدل یادگیری عمیق باشد آماده می‌کنیم و در نهایت به ساخت و آموزش یک شبکه‌ی عصبی می‌پردازیم. مجموعه‌داده‌ای که از آن استفاده خواهیم کرد شامل اطلاعاتی مربوط به حیوانات خانگی است. هدف این مسئله این است که پیش‌بینی کنیم آیا یک حیوان خانگی برای خود خانه‌ی جدیدی پیدا می‌کند یا خیر.\n",
        "</font>\n",
        "</p>"
      ]
    },
    {
      "cell_type": "code",
      "execution_count": 1,
      "metadata": {
        "id": "4lddftZAf5Bv"
      },
      "outputs": [],
      "source": [
        "import numpy as np\n",
        "import pandas as pd"
      ]
    },
    {
      "cell_type": "code",
      "execution_count": 2,
      "metadata": {
        "colab": {
          "base_uri": "https://localhost:8080/"
        },
        "id": "KCk8pM0ofVvf",
        "outputId": "0faffd7e-6a71-4ee3-dd45-b210189d6b32"
      },
      "outputs": [
        {
          "output_type": "stream",
          "name": "stdout",
          "text": [
            "3.4.1\n"
          ]
        }
      ],
      "source": [
        "import keras\n",
        "print(keras.__version__)"
      ]
    },
    {
      "cell_type": "code",
      "execution_count": null,
      "metadata": {
        "id": "P-aWB6FGicfc"
      },
      "outputs": [],
      "source": [
        "# If you are using a version of Keras lower than 3, you will need to uncomment the following line.\n",
        "# !pip install keras --upgrade"
      ]
    },
    {
      "cell_type": "code",
      "execution_count": 3,
      "metadata": {
        "colab": {
          "base_uri": "https://localhost:8080/"
        },
        "id": "Zv-kzEm_ieGY",
        "outputId": "95bc65a2-be8c-4433-b865-a6625b3e4ab3"
      },
      "outputs": [
        {
          "output_type": "stream",
          "name": "stdout",
          "text": [
            "3.4.1\n"
          ]
        }
      ],
      "source": [
        "import keras\n",
        "print(keras.__version__)"
      ]
    },
    {
      "cell_type": "code",
      "execution_count": 4,
      "metadata": {
        "id": "1asRUUjB3XQ5"
      },
      "outputs": [],
      "source": [
        "import os\n",
        "os.environ[\"KERAS_BACKEND\"] = \"tensorflow\""
      ]
    },
    {
      "cell_type": "markdown",
      "metadata": {
        "id": "v8smqKiD3189"
      },
      "source": [
        "<h2 dir=rtl align=right style=\"line-height:200%;font-family:vazir;color:#0099cc\">\n",
        "<font face=\"vazir\" color=\"#0099cc\">\n",
        "مجموعه‌داده\n",
        "</font>\n",
        "</h2>\n",
        "\n",
        "\n",
        "<p dir=rtl style=\"direction: rtl; text-align: justify; line-height:200%; font-family:vazir; font-size:medium\">\n",
        "<font face=\"vazir\">\n",
        "مشخصات ویژگی‌های مجموعه‌داده‌ای که در دسترس شما قرار گرفته در جداول زیر آمده است.\n",
        "ابتدا مجموعه‌داده‌ی آموزشی و آزمون را از دو فایل <code>csv</code> موجود در پوشه‌ی تمرین بخوانید.\n",
        "<br>\n",
        "    توجه داشته‌باشد در مجموعه‌داده‌ی آزمون، ستون <code>AdoptionSpeed</code> وجود ندارد، زیرا در ادامه از این ستون برای ساخت متغیر هدف مسئله استفاده خواهیم کرد.\n",
        "</font>\n",
        "</p>\n",
        "\n",
        "\n",
        "<center>\n",
        "<div dir=rtl style=\"direction: rtl;line-height:200%;font-family:vazir;font-size:medium\">\n",
        "<font face=\"vazir\" size=3>\n",
        "\n",
        "|ستون|توضیحات|\n",
        "|:------:|:---:|\n",
        "|<code>Type</code>| نوع حیوان|\n",
        "|<code>Age</code>| سن حیوان خانگی (به ماه) هنگام لیست شدن|\n",
        "|<code>Breed1</code>|نژاد اصلی حیوان خانگی|\n",
        "|<code>Gender</code>|جنسیت حیوان خانگی|\n",
        "|<code>Color1</code>|رنگ اصلی حیوان خانگی|\n",
        "|<code>Color2</code>|رنگ دوم حیوان خانگی (در صورت وجود)|\n",
        "|<code>MaturitySize</code>|اندازه|\n",
        "|<code>FurLength</code>|طول خز|\n",
        "|<code>Vaccinated</code>|وضعیت واکسینه شدن|\n",
        "|<code>Sterilized</code>|وضعیت انگل‌زدایی شدن|\n",
        "|<code>Health</code>|وضعیت سلامتی|\n",
        "|<code>Fee</code>|هزینه|\n",
        "|<code>Description</code>|توضیحات|\n",
        "|<code>PhotoAmt</code>|تعداد عکس بارگذاری شده|\n",
        "|<code>AdoptionSpeed</code>|سرعت پذیرش (توضیح این اعداد در ادامه آمده است)|\n",
        "\n",
        "<br>\n",
        "\n",
        "|توضیحات|سرعت پذیرش|\n",
        "|:------:|:---:|\n",
        "|حیوان خانگی در همان روزی که لیست شده به سرپرستی پذیرفته شد.|<code>0</code>|\n",
        "|\tحیوان خانگی بین ۱ تا ۷ روز (هفته اول) پس از لیست شدن به سرپرستی پذیرفته شد.|<code>1</code>|\n",
        "|حیوان خانگی بین ۸ تا ۳۰ روز (ماه اول) پس از لیست شدن به سرپرستی پذیرفته شد.|<code>2</code>|\n",
        "|حیوان خانگی بین ۳۱ تا ۹۰ روز (ماه دوم و سوم) پس از لیست شدن به سرپرستی پذیرفته شد.|<code>3</code>|\n",
        "|پس از ۱۰۰ روز لیست شدن، حیوان خانگی به سرپرستی پذیرفته نشد.|<code>4</code>|\n",
        "\n",
        "</font>\n",
        "</div>\n",
        "</center>"
      ]
    },
    {
      "cell_type": "code",
      "execution_count": 5,
      "metadata": {
        "id": "huIChr-93hDq"
      },
      "outputs": [],
      "source": [
        "# Load the train and test data\n",
        "train = pd.read_csv('./data/petfinder_train.csv')\n",
        "test =  pd.read_csv('./data/petfinder_test.csv')"
      ]
    },
    {
      "cell_type": "code",
      "execution_count": 6,
      "metadata": {
        "colab": {
          "base_uri": "https://localhost:8080/",
          "height": 487
        },
        "id": "tBg8FlMEf5By",
        "outputId": "cbcdfe80-9a8c-4150-ff00-f7fad528986b"
      },
      "outputs": [
        {
          "output_type": "execute_result",
          "data": {
            "text/plain": [
              "  Type  Age                Breed1  Gender Color1    Color2 MaturitySize  \\\n",
              "0  Cat    3                 Tabby    Male  Black     White        Small   \n",
              "1  Cat    1  Domestic Medium Hair    Male  Black     Brown       Medium   \n",
              "2  Dog    1           Mixed Breed    Male  Brown     White       Medium   \n",
              "3  Dog    4           Mixed Breed  Female  Black     Brown       Medium   \n",
              "4  Dog    1           Mixed Breed    Male  Black  No Color       Medium   \n",
              "\n",
              "  FurLength Vaccinated Sterilized   Health  Fee  \\\n",
              "0     Short         No         No  Healthy  100   \n",
              "1    Medium   Not Sure   Not Sure  Healthy    0   \n",
              "2    Medium        Yes         No  Healthy    0   \n",
              "3     Short        Yes         No  Healthy  150   \n",
              "4     Short         No         No  Healthy    0   \n",
              "\n",
              "                                         Description  PhotoAmt  AdoptionSpeed  \n",
              "0  Nibble is a 3+ month old ball of cuteness. He ...         1              2  \n",
              "1  I just found it alone yesterday near my apartm...         2              0  \n",
              "2  Their pregnant mother was dumped by her irresp...         7              3  \n",
              "3  Good guard dog, very alert, active, obedience ...         8              2  \n",
              "4  This handsome yet cute boy is up for adoption....         3              2  "
            ],
            "text/html": [
              "\n",
              "  <div id=\"df-4fe6fb10-f8f3-455a-8045-7d2f0b0f2892\" class=\"colab-df-container\">\n",
              "    <div>\n",
              "<style scoped>\n",
              "    .dataframe tbody tr th:only-of-type {\n",
              "        vertical-align: middle;\n",
              "    }\n",
              "\n",
              "    .dataframe tbody tr th {\n",
              "        vertical-align: top;\n",
              "    }\n",
              "\n",
              "    .dataframe thead th {\n",
              "        text-align: right;\n",
              "    }\n",
              "</style>\n",
              "<table border=\"1\" class=\"dataframe\">\n",
              "  <thead>\n",
              "    <tr style=\"text-align: right;\">\n",
              "      <th></th>\n",
              "      <th>Type</th>\n",
              "      <th>Age</th>\n",
              "      <th>Breed1</th>\n",
              "      <th>Gender</th>\n",
              "      <th>Color1</th>\n",
              "      <th>Color2</th>\n",
              "      <th>MaturitySize</th>\n",
              "      <th>FurLength</th>\n",
              "      <th>Vaccinated</th>\n",
              "      <th>Sterilized</th>\n",
              "      <th>Health</th>\n",
              "      <th>Fee</th>\n",
              "      <th>Description</th>\n",
              "      <th>PhotoAmt</th>\n",
              "      <th>AdoptionSpeed</th>\n",
              "    </tr>\n",
              "  </thead>\n",
              "  <tbody>\n",
              "    <tr>\n",
              "      <th>0</th>\n",
              "      <td>Cat</td>\n",
              "      <td>3</td>\n",
              "      <td>Tabby</td>\n",
              "      <td>Male</td>\n",
              "      <td>Black</td>\n",
              "      <td>White</td>\n",
              "      <td>Small</td>\n",
              "      <td>Short</td>\n",
              "      <td>No</td>\n",
              "      <td>No</td>\n",
              "      <td>Healthy</td>\n",
              "      <td>100</td>\n",
              "      <td>Nibble is a 3+ month old ball of cuteness. He ...</td>\n",
              "      <td>1</td>\n",
              "      <td>2</td>\n",
              "    </tr>\n",
              "    <tr>\n",
              "      <th>1</th>\n",
              "      <td>Cat</td>\n",
              "      <td>1</td>\n",
              "      <td>Domestic Medium Hair</td>\n",
              "      <td>Male</td>\n",
              "      <td>Black</td>\n",
              "      <td>Brown</td>\n",
              "      <td>Medium</td>\n",
              "      <td>Medium</td>\n",
              "      <td>Not Sure</td>\n",
              "      <td>Not Sure</td>\n",
              "      <td>Healthy</td>\n",
              "      <td>0</td>\n",
              "      <td>I just found it alone yesterday near my apartm...</td>\n",
              "      <td>2</td>\n",
              "      <td>0</td>\n",
              "    </tr>\n",
              "    <tr>\n",
              "      <th>2</th>\n",
              "      <td>Dog</td>\n",
              "      <td>1</td>\n",
              "      <td>Mixed Breed</td>\n",
              "      <td>Male</td>\n",
              "      <td>Brown</td>\n",
              "      <td>White</td>\n",
              "      <td>Medium</td>\n",
              "      <td>Medium</td>\n",
              "      <td>Yes</td>\n",
              "      <td>No</td>\n",
              "      <td>Healthy</td>\n",
              "      <td>0</td>\n",
              "      <td>Their pregnant mother was dumped by her irresp...</td>\n",
              "      <td>7</td>\n",
              "      <td>3</td>\n",
              "    </tr>\n",
              "    <tr>\n",
              "      <th>3</th>\n",
              "      <td>Dog</td>\n",
              "      <td>4</td>\n",
              "      <td>Mixed Breed</td>\n",
              "      <td>Female</td>\n",
              "      <td>Black</td>\n",
              "      <td>Brown</td>\n",
              "      <td>Medium</td>\n",
              "      <td>Short</td>\n",
              "      <td>Yes</td>\n",
              "      <td>No</td>\n",
              "      <td>Healthy</td>\n",
              "      <td>150</td>\n",
              "      <td>Good guard dog, very alert, active, obedience ...</td>\n",
              "      <td>8</td>\n",
              "      <td>2</td>\n",
              "    </tr>\n",
              "    <tr>\n",
              "      <th>4</th>\n",
              "      <td>Dog</td>\n",
              "      <td>1</td>\n",
              "      <td>Mixed Breed</td>\n",
              "      <td>Male</td>\n",
              "      <td>Black</td>\n",
              "      <td>No Color</td>\n",
              "      <td>Medium</td>\n",
              "      <td>Short</td>\n",
              "      <td>No</td>\n",
              "      <td>No</td>\n",
              "      <td>Healthy</td>\n",
              "      <td>0</td>\n",
              "      <td>This handsome yet cute boy is up for adoption....</td>\n",
              "      <td>3</td>\n",
              "      <td>2</td>\n",
              "    </tr>\n",
              "  </tbody>\n",
              "</table>\n",
              "</div>\n",
              "    <div class=\"colab-df-buttons\">\n",
              "\n",
              "  <div class=\"colab-df-container\">\n",
              "    <button class=\"colab-df-convert\" onclick=\"convertToInteractive('df-4fe6fb10-f8f3-455a-8045-7d2f0b0f2892')\"\n",
              "            title=\"Convert this dataframe to an interactive table.\"\n",
              "            style=\"display:none;\">\n",
              "\n",
              "  <svg xmlns=\"http://www.w3.org/2000/svg\" height=\"24px\" viewBox=\"0 -960 960 960\">\n",
              "    <path d=\"M120-120v-720h720v720H120Zm60-500h600v-160H180v160Zm220 220h160v-160H400v160Zm0 220h160v-160H400v160ZM180-400h160v-160H180v160Zm440 0h160v-160H620v160ZM180-180h160v-160H180v160Zm440 0h160v-160H620v160Z\"/>\n",
              "  </svg>\n",
              "    </button>\n",
              "\n",
              "  <style>\n",
              "    .colab-df-container {\n",
              "      display:flex;\n",
              "      gap: 12px;\n",
              "    }\n",
              "\n",
              "    .colab-df-convert {\n",
              "      background-color: #E8F0FE;\n",
              "      border: none;\n",
              "      border-radius: 50%;\n",
              "      cursor: pointer;\n",
              "      display: none;\n",
              "      fill: #1967D2;\n",
              "      height: 32px;\n",
              "      padding: 0 0 0 0;\n",
              "      width: 32px;\n",
              "    }\n",
              "\n",
              "    .colab-df-convert:hover {\n",
              "      background-color: #E2EBFA;\n",
              "      box-shadow: 0px 1px 2px rgba(60, 64, 67, 0.3), 0px 1px 3px 1px rgba(60, 64, 67, 0.15);\n",
              "      fill: #174EA6;\n",
              "    }\n",
              "\n",
              "    .colab-df-buttons div {\n",
              "      margin-bottom: 4px;\n",
              "    }\n",
              "\n",
              "    [theme=dark] .colab-df-convert {\n",
              "      background-color: #3B4455;\n",
              "      fill: #D2E3FC;\n",
              "    }\n",
              "\n",
              "    [theme=dark] .colab-df-convert:hover {\n",
              "      background-color: #434B5C;\n",
              "      box-shadow: 0px 1px 3px 1px rgba(0, 0, 0, 0.15);\n",
              "      filter: drop-shadow(0px 1px 2px rgba(0, 0, 0, 0.3));\n",
              "      fill: #FFFFFF;\n",
              "    }\n",
              "  </style>\n",
              "\n",
              "    <script>\n",
              "      const buttonEl =\n",
              "        document.querySelector('#df-4fe6fb10-f8f3-455a-8045-7d2f0b0f2892 button.colab-df-convert');\n",
              "      buttonEl.style.display =\n",
              "        google.colab.kernel.accessAllowed ? 'block' : 'none';\n",
              "\n",
              "      async function convertToInteractive(key) {\n",
              "        const element = document.querySelector('#df-4fe6fb10-f8f3-455a-8045-7d2f0b0f2892');\n",
              "        const dataTable =\n",
              "          await google.colab.kernel.invokeFunction('convertToInteractive',\n",
              "                                                    [key], {});\n",
              "        if (!dataTable) return;\n",
              "\n",
              "        const docLinkHtml = 'Like what you see? Visit the ' +\n",
              "          '<a target=\"_blank\" href=https://colab.research.google.com/notebooks/data_table.ipynb>data table notebook</a>'\n",
              "          + ' to learn more about interactive tables.';\n",
              "        element.innerHTML = '';\n",
              "        dataTable['output_type'] = 'display_data';\n",
              "        await google.colab.output.renderOutput(dataTable, element);\n",
              "        const docLink = document.createElement('div');\n",
              "        docLink.innerHTML = docLinkHtml;\n",
              "        element.appendChild(docLink);\n",
              "      }\n",
              "    </script>\n",
              "  </div>\n",
              "\n",
              "\n",
              "<div id=\"df-2ffefb7e-e47c-4cfb-97e7-966d2d3ea281\">\n",
              "  <button class=\"colab-df-quickchart\" onclick=\"quickchart('df-2ffefb7e-e47c-4cfb-97e7-966d2d3ea281')\"\n",
              "            title=\"Suggest charts\"\n",
              "            style=\"display:none;\">\n",
              "\n",
              "<svg xmlns=\"http://www.w3.org/2000/svg\" height=\"24px\"viewBox=\"0 0 24 24\"\n",
              "     width=\"24px\">\n",
              "    <g>\n",
              "        <path d=\"M19 3H5c-1.1 0-2 .9-2 2v14c0 1.1.9 2 2 2h14c1.1 0 2-.9 2-2V5c0-1.1-.9-2-2-2zM9 17H7v-7h2v7zm4 0h-2V7h2v10zm4 0h-2v-4h2v4z\"/>\n",
              "    </g>\n",
              "</svg>\n",
              "  </button>\n",
              "\n",
              "<style>\n",
              "  .colab-df-quickchart {\n",
              "      --bg-color: #E8F0FE;\n",
              "      --fill-color: #1967D2;\n",
              "      --hover-bg-color: #E2EBFA;\n",
              "      --hover-fill-color: #174EA6;\n",
              "      --disabled-fill-color: #AAA;\n",
              "      --disabled-bg-color: #DDD;\n",
              "  }\n",
              "\n",
              "  [theme=dark] .colab-df-quickchart {\n",
              "      --bg-color: #3B4455;\n",
              "      --fill-color: #D2E3FC;\n",
              "      --hover-bg-color: #434B5C;\n",
              "      --hover-fill-color: #FFFFFF;\n",
              "      --disabled-bg-color: #3B4455;\n",
              "      --disabled-fill-color: #666;\n",
              "  }\n",
              "\n",
              "  .colab-df-quickchart {\n",
              "    background-color: var(--bg-color);\n",
              "    border: none;\n",
              "    border-radius: 50%;\n",
              "    cursor: pointer;\n",
              "    display: none;\n",
              "    fill: var(--fill-color);\n",
              "    height: 32px;\n",
              "    padding: 0;\n",
              "    width: 32px;\n",
              "  }\n",
              "\n",
              "  .colab-df-quickchart:hover {\n",
              "    background-color: var(--hover-bg-color);\n",
              "    box-shadow: 0 1px 2px rgba(60, 64, 67, 0.3), 0 1px 3px 1px rgba(60, 64, 67, 0.15);\n",
              "    fill: var(--button-hover-fill-color);\n",
              "  }\n",
              "\n",
              "  .colab-df-quickchart-complete:disabled,\n",
              "  .colab-df-quickchart-complete:disabled:hover {\n",
              "    background-color: var(--disabled-bg-color);\n",
              "    fill: var(--disabled-fill-color);\n",
              "    box-shadow: none;\n",
              "  }\n",
              "\n",
              "  .colab-df-spinner {\n",
              "    border: 2px solid var(--fill-color);\n",
              "    border-color: transparent;\n",
              "    border-bottom-color: var(--fill-color);\n",
              "    animation:\n",
              "      spin 1s steps(1) infinite;\n",
              "  }\n",
              "\n",
              "  @keyframes spin {\n",
              "    0% {\n",
              "      border-color: transparent;\n",
              "      border-bottom-color: var(--fill-color);\n",
              "      border-left-color: var(--fill-color);\n",
              "    }\n",
              "    20% {\n",
              "      border-color: transparent;\n",
              "      border-left-color: var(--fill-color);\n",
              "      border-top-color: var(--fill-color);\n",
              "    }\n",
              "    30% {\n",
              "      border-color: transparent;\n",
              "      border-left-color: var(--fill-color);\n",
              "      border-top-color: var(--fill-color);\n",
              "      border-right-color: var(--fill-color);\n",
              "    }\n",
              "    40% {\n",
              "      border-color: transparent;\n",
              "      border-right-color: var(--fill-color);\n",
              "      border-top-color: var(--fill-color);\n",
              "    }\n",
              "    60% {\n",
              "      border-color: transparent;\n",
              "      border-right-color: var(--fill-color);\n",
              "    }\n",
              "    80% {\n",
              "      border-color: transparent;\n",
              "      border-right-color: var(--fill-color);\n",
              "      border-bottom-color: var(--fill-color);\n",
              "    }\n",
              "    90% {\n",
              "      border-color: transparent;\n",
              "      border-bottom-color: var(--fill-color);\n",
              "    }\n",
              "  }\n",
              "</style>\n",
              "\n",
              "  <script>\n",
              "    async function quickchart(key) {\n",
              "      const quickchartButtonEl =\n",
              "        document.querySelector('#' + key + ' button');\n",
              "      quickchartButtonEl.disabled = true;  // To prevent multiple clicks.\n",
              "      quickchartButtonEl.classList.add('colab-df-spinner');\n",
              "      try {\n",
              "        const charts = await google.colab.kernel.invokeFunction(\n",
              "            'suggestCharts', [key], {});\n",
              "      } catch (error) {\n",
              "        console.error('Error during call to suggestCharts:', error);\n",
              "      }\n",
              "      quickchartButtonEl.classList.remove('colab-df-spinner');\n",
              "      quickchartButtonEl.classList.add('colab-df-quickchart-complete');\n",
              "    }\n",
              "    (() => {\n",
              "      let quickchartButtonEl =\n",
              "        document.querySelector('#df-2ffefb7e-e47c-4cfb-97e7-966d2d3ea281 button');\n",
              "      quickchartButtonEl.style.display =\n",
              "        google.colab.kernel.accessAllowed ? 'block' : 'none';\n",
              "    })();\n",
              "  </script>\n",
              "</div>\n",
              "    </div>\n",
              "  </div>\n"
            ],
            "application/vnd.google.colaboratory.intrinsic+json": {
              "type": "dataframe",
              "variable_name": "train",
              "summary": "{\n  \"name\": \"train\",\n  \"rows\": 10537,\n  \"fields\": [\n    {\n      \"column\": \"Type\",\n      \"properties\": {\n        \"dtype\": \"category\",\n        \"num_unique_values\": 2,\n        \"samples\": [\n          \"Dog\",\n          \"Cat\"\n        ],\n        \"semantic_type\": \"\",\n        \"description\": \"\"\n      }\n    },\n    {\n      \"column\": \"Age\",\n      \"properties\": {\n        \"dtype\": \"number\",\n        \"std\": 19,\n        \"min\": 0,\n        \"max\": 255,\n        \"num_unique_values\": 105,\n        \"samples\": [\n          20,\n          26\n        ],\n        \"semantic_type\": \"\",\n        \"description\": \"\"\n      }\n    },\n    {\n      \"column\": \"Breed1\",\n      \"properties\": {\n        \"dtype\": \"category\",\n        \"num_unique_values\": 165,\n        \"samples\": [\n          \"Basenji\",\n          \"Weimaraner\"\n        ],\n        \"semantic_type\": \"\",\n        \"description\": \"\"\n      }\n    },\n    {\n      \"column\": \"Gender\",\n      \"properties\": {\n        \"dtype\": \"category\",\n        \"num_unique_values\": 2,\n        \"samples\": [\n          \"Female\",\n          \"Male\"\n        ],\n        \"semantic_type\": \"\",\n        \"description\": \"\"\n      }\n    },\n    {\n      \"column\": \"Color1\",\n      \"properties\": {\n        \"dtype\": \"category\",\n        \"num_unique_values\": 7,\n        \"samples\": [\n          \"Black\",\n          \"Brown\"\n        ],\n        \"semantic_type\": \"\",\n        \"description\": \"\"\n      }\n    },\n    {\n      \"column\": \"Color2\",\n      \"properties\": {\n        \"dtype\": \"category\",\n        \"num_unique_values\": 7,\n        \"samples\": [\n          \"White\",\n          \"Brown\"\n        ],\n        \"semantic_type\": \"\",\n        \"description\": \"\"\n      }\n    },\n    {\n      \"column\": \"MaturitySize\",\n      \"properties\": {\n        \"dtype\": \"category\",\n        \"num_unique_values\": 3,\n        \"samples\": [\n          \"Small\",\n          \"Medium\"\n        ],\n        \"semantic_type\": \"\",\n        \"description\": \"\"\n      }\n    },\n    {\n      \"column\": \"FurLength\",\n      \"properties\": {\n        \"dtype\": \"category\",\n        \"num_unique_values\": 3,\n        \"samples\": [\n          \"Short\",\n          \"Medium\"\n        ],\n        \"semantic_type\": \"\",\n        \"description\": \"\"\n      }\n    },\n    {\n      \"column\": \"Vaccinated\",\n      \"properties\": {\n        \"dtype\": \"category\",\n        \"num_unique_values\": 3,\n        \"samples\": [\n          \"No\",\n          \"Not Sure\"\n        ],\n        \"semantic_type\": \"\",\n        \"description\": \"\"\n      }\n    },\n    {\n      \"column\": \"Sterilized\",\n      \"properties\": {\n        \"dtype\": \"category\",\n        \"num_unique_values\": 3,\n        \"samples\": [\n          \"No\",\n          \"Not Sure\"\n        ],\n        \"semantic_type\": \"\",\n        \"description\": \"\"\n      }\n    },\n    {\n      \"column\": \"Health\",\n      \"properties\": {\n        \"dtype\": \"category\",\n        \"num_unique_values\": 3,\n        \"samples\": [\n          \"Healthy\",\n          \"Minor Injury\"\n        ],\n        \"semantic_type\": \"\",\n        \"description\": \"\"\n      }\n    },\n    {\n      \"column\": \"Fee\",\n      \"properties\": {\n        \"dtype\": \"number\",\n        \"std\": 80,\n        \"min\": 0,\n        \"max\": 2000,\n        \"num_unique_values\": 64,\n        \"samples\": [\n          380,\n          235\n        ],\n        \"semantic_type\": \"\",\n        \"description\": \"\"\n      }\n    },\n    {\n      \"column\": \"Description\",\n      \"properties\": {\n        \"dtype\": \"string\",\n        \"num_unique_values\": 9770,\n        \"samples\": [\n          \"3 puppies siblings found in kepong. Very active friendly and bundle of joy for adoption. Adopter must be willing to spay later puppy needs a loving home.\",\n          \"Active and need to be company, has lost left eye due to fighting. Reason being open for adopt due to he is unable to match with my other dog and I just got new born baby. Feel free contact for more info.\"\n        ],\n        \"semantic_type\": \"\",\n        \"description\": \"\"\n      }\n    },\n    {\n      \"column\": \"PhotoAmt\",\n      \"properties\": {\n        \"dtype\": \"number\",\n        \"std\": 3,\n        \"min\": 0,\n        \"max\": 30,\n        \"num_unique_values\": 31,\n        \"samples\": [\n          22,\n          9\n        ],\n        \"semantic_type\": \"\",\n        \"description\": \"\"\n      }\n    },\n    {\n      \"column\": \"AdoptionSpeed\",\n      \"properties\": {\n        \"dtype\": \"number\",\n        \"std\": 1,\n        \"min\": 0,\n        \"max\": 4,\n        \"num_unique_values\": 5,\n        \"samples\": [\n          0,\n          4\n        ],\n        \"semantic_type\": \"\",\n        \"description\": \"\"\n      }\n    }\n  ]\n}"
            }
          },
          "metadata": {},
          "execution_count": 6
        }
      ],
      "source": [
        "train.head()"
      ]
    },
    {
      "cell_type": "code",
      "execution_count": 7,
      "metadata": {
        "colab": {
          "base_uri": "https://localhost:8080/"
        },
        "id": "nKP7FU753j_L",
        "outputId": "fa37fabe-89ec-41c1-a7ff-ca1a842e997e"
      },
      "outputs": [
        {
          "output_type": "stream",
          "name": "stdout",
          "text": [
            "<class 'pandas.core.frame.DataFrame'>\n",
            "RangeIndex: 10537 entries, 0 to 10536\n",
            "Data columns (total 15 columns):\n",
            " #   Column         Non-Null Count  Dtype \n",
            "---  ------         --------------  ----- \n",
            " 0   Type           10537 non-null  object\n",
            " 1   Age            10537 non-null  int64 \n",
            " 2   Breed1         10537 non-null  object\n",
            " 3   Gender         10537 non-null  object\n",
            " 4   Color1         10537 non-null  object\n",
            " 5   Color2         10537 non-null  object\n",
            " 6   MaturitySize   10537 non-null  object\n",
            " 7   FurLength      10537 non-null  object\n",
            " 8   Vaccinated     10537 non-null  object\n",
            " 9   Sterilized     10537 non-null  object\n",
            " 10  Health         10537 non-null  object\n",
            " 11  Fee            10537 non-null  int64 \n",
            " 12  Description    10528 non-null  object\n",
            " 13  PhotoAmt       10537 non-null  int64 \n",
            " 14  AdoptionSpeed  10537 non-null  int64 \n",
            "dtypes: int64(4), object(11)\n",
            "memory usage: 1.2+ MB\n"
          ]
        }
      ],
      "source": [
        "train.info()"
      ]
    },
    {
      "cell_type": "markdown",
      "metadata": {
        "id": "Cww908ugf5By"
      },
      "source": [
        "<h2 dir=rtl align=right style=\"line-height:200%;font-family:vazir;color:#0099cc\">\n",
        "<font face=\"vazir\" color=\"#0099cc\">\n",
        "پیش‌پردازش داده‌ها\n",
        "</font>\n",
        "</h2>\n",
        "\n",
        "<p dir=rtl style=\"direction: rtl; text-align: justify; line-height:200%; font-family:vazir; font-size:medium\">\n",
        "<font face=\"vazir\">\n",
        "همان‌طور که می‌دانید قبل از ساخت و آموزش مدل، برای آن‌که داده‌ها مناسب ورودی دادن به مدل باشند معمولاً نیاز است تغیراتی را بر روی مجموعه‌داده اعمال کنیم. گام نخست در پیش‌پردازش داده‌ها، بررسی مقادیر گم‌شده در مجموعه‌داده است که طبق خروجی سلول قبل مشاهده کردیم در این مجموعه‌داده، داده‌ی گم‌شده نداریم، بنابراین به سراغ گام‌های بعدی می‌رویم.\n",
        "</font>\n",
        "</p>\n",
        "\n",
        "<p dir=rtl style=\"direction: rtl; text-align: justify; line-height:200%; font-family:vazir; font-size:medium\">\n",
        "<font face=\"vazir\">\n",
        "<span style=\"color:red\"><b>توجه:</b></span> جهت بررسی پیش‌پردازش انجام‌شده‌ بر روی مجموعه‌داده، دیتافرم <code>test</code> نیز مورد بررسی قرار خواهد گرفت، بنابراین لطفاً پیش‌پردازش یا تغییری بیشتر از آن‌چه از شما خواسته شده انجام ندهید.\n",
        "</font>\n",
        "</p>"
      ]
    },
    {
      "cell_type": "markdown",
      "metadata": {
        "id": "v8OjKTFygx2O"
      },
      "source": [
        "<p dir=rtl style=\"direction: rtl; text-align: justify; line-height:200%; font-family:vazir; font-size:medium\">\n",
        "    <ul dir=rtl style=\"direction: rtl; text-align: justify; line-height:200%; font-family:vazir; font-size:medium\">\n",
        "<font face=\"vazir\">\n",
        "همان‌طور که گفتیم هدف این مسئله، پیش‌بینی پذیرش یا عدم پذیرش حیوان خانگی است، بنابراین باید در مجموعه‌داده‌‌ها یک ستون جدید با اسم <code>Target</code> اضافه کنیم تا از آن به‌عنوان متغیر هدف مسئله استفاده کنیم. مقادیر این ستون تنها در صورتی <code>True</code> است که حیوان خانگی پذیرش شده باشد. در این مرحله با استفاده ستون <code>AdoptionSpeed</code> ستون <code>Target</code> را ایجاد کنید.\n",
        "<br>\n",
        "به‌عنوان راهنمایی می‌توانید از دستور <code>np.where</code> استفاده کنید. البته توجه کنید که راه‌های متنوعی برای انجام این کار وجود دارد.\n",
        "</font>\n",
        "</p>\n",
        "\n",
        "\n"
      ]
    },
    {
      "cell_type": "code",
      "execution_count": 8,
      "metadata": {
        "id": "byXI0LWzgxQR"
      },
      "outputs": [],
      "source": [
        "dict = {\n",
        "    0: 1,\n",
        "    1: 1,\n",
        "    2: 1,\n",
        "    3: 1,\n",
        "    4: 0\n",
        "}\n",
        "\n",
        "train['Target']= train['AdoptionSpeed'].replace(dict)"
      ]
    },
    {
      "cell_type": "markdown",
      "metadata": {
        "id": "J7JhI8C_Hlw_"
      },
      "source": [
        "<p dir=rtl style=\"direction: rtl; text-align: justify; line-height:200%; font-family:vazir; font-size:medium\">\n",
        "    <ul dir=rtl style=\"direction: rtl; text-align: justify; line-height:200%; font-family:vazir; font-size:medium\">\n",
        "<font face=\"vazir\">\n",
        "حال می‌توانیم ستون‌هایی که به آن‌ها نیاز نداریم را از دیتافریم حذف کنیم. با توجه به این‌که ستون <code>AdoptionSpeed</code> را به ستون <code>Target</code> تبدیل کردیم، این ستون را حذف می‌کنیم، همچنین در ستون <code>Description</code> اطلاعات متنی داریم که روش پردازش و کار با این نوع داده‌ها را در فصل‌های بعدی بررسی خواهیم کرد، بنابراین این ستون را نیز حذف می‌کنیم.\n",
        "</font>\n",
        "</p>\n",
        "\n"
      ]
    },
    {
      "cell_type": "code",
      "execution_count": 9,
      "metadata": {
        "id": "JwIXEWyQjImO"
      },
      "outputs": [],
      "source": [
        "train.drop(columns = ['AdoptionSpeed','Description'], inplace = True)\n",
        "test.drop(columns = ['Description'], inplace = True)"
      ]
    },
    {
      "cell_type": "markdown",
      "metadata": {
        "id": "hzLtNrxpMnxd"
      },
      "source": [
        "<p dir=rtl style=\"direction: rtl; text-align: justify; line-height:200%; font-family:vazir; font-size:medium\">\n",
        "    <ul dir=rtl style=\"direction: rtl; text-align: justify; line-height:200%; font-family:vazir; font-size:medium\">\n",
        "<font face=\"vazir\">\n",
        "در گام بعد به‌سراغ ویژگی‌های دسته‌ای می‌رویم. ابتدا مجدد نگاهی به جزئیات دیتافریم بی‌اندازیم.\n",
        "</font>\n",
        "</p>\n",
        "\n"
      ]
    },
    {
      "cell_type": "code",
      "execution_count": 10,
      "metadata": {
        "colab": {
          "base_uri": "https://localhost:8080/"
        },
        "id": "KB5V1APOf5B0",
        "outputId": "a422616f-61e8-47e0-a013-50f2d73e68a5"
      },
      "outputs": [
        {
          "output_type": "stream",
          "name": "stdout",
          "text": [
            "<class 'pandas.core.frame.DataFrame'>\n",
            "RangeIndex: 10537 entries, 0 to 10536\n",
            "Data columns (total 14 columns):\n",
            " #   Column        Non-Null Count  Dtype \n",
            "---  ------        --------------  ----- \n",
            " 0   Type          10537 non-null  object\n",
            " 1   Age           10537 non-null  int64 \n",
            " 2   Breed1        10537 non-null  object\n",
            " 3   Gender        10537 non-null  object\n",
            " 4   Color1        10537 non-null  object\n",
            " 5   Color2        10537 non-null  object\n",
            " 6   MaturitySize  10537 non-null  object\n",
            " 7   FurLength     10537 non-null  object\n",
            " 8   Vaccinated    10537 non-null  object\n",
            " 9   Sterilized    10537 non-null  object\n",
            " 10  Health        10537 non-null  object\n",
            " 11  Fee           10537 non-null  int64 \n",
            " 12  PhotoAmt      10537 non-null  int64 \n",
            " 13  Target        10537 non-null  int64 \n",
            "dtypes: int64(4), object(10)\n",
            "memory usage: 1.1+ MB\n"
          ]
        }
      ],
      "source": [
        "train.info()"
      ]
    },
    {
      "cell_type": "markdown",
      "metadata": {
        "id": "_k-o-we8f5B0"
      },
      "source": [
        "<p dir=rtl style=\"direction: rtl; text-align: justify; line-height:200%; font-family:vazir; font-size:medium\">\n",
        "    <ul dir=rtl style=\"direction: rtl; text-align: justify; line-height:200%; font-family:vazir; font-size:medium\">\n",
        "<font face=\"vazir\">\n",
        "در خروجی قطعه‌کد بالا می توان دید که ستون‌های\n",
        "   <code>Fee</code>، <code>PhotoAmt</code> و <code>Age</code> مقادیر عددی دارند و برای باقی ستون‌های مجموعه‌داده نیاز است، پیش‌پردازش لازم برای تبدیل آن‌ها به مقادیر عددی را انجام دهیم. پس به بررسی تعداد دسته‌های هر ویژگی و نوع آن‌ها می‌پردازیم\n",
        "</font>\n",
        "</p>\n"
      ]
    },
    {
      "cell_type": "code",
      "execution_count": 11,
      "metadata": {
        "colab": {
          "base_uri": "https://localhost:8080/"
        },
        "id": "dx9Rzs0vf5B0",
        "outputId": "a668fdad-9abf-483d-80d5-126081270d39"
      },
      "outputs": [
        {
          "output_type": "stream",
          "name": "stdout",
          "text": [
            "column: Type unique_values: 2\n",
            "column: Breed1 unique_values: 165\n",
            "column: Gender unique_values: 2\n",
            "column: Color1 unique_values: 7\n",
            "column: Color2 unique_values: 7\n",
            "column: MaturitySize unique_values: 3\n",
            "column: FurLength unique_values: 3\n",
            "column: Vaccinated unique_values: 3\n",
            "column: Sterilized unique_values: 3\n",
            "column: Health unique_values: 3\n"
          ]
        }
      ],
      "source": [
        "for column in [\"Type\", \"Breed1\", \"Gender\", \"Color1\", \"Color2\", \"MaturitySize\", \"FurLength\", \"Vaccinated\", \"Sterilized\", \"Health\"]:\n",
        "    print(\"column:\", column, \"unique_values:\", len(train[column].unique()))"
      ]
    },
    {
      "cell_type": "markdown",
      "metadata": {
        "id": "TGqvzHKWf5B0"
      },
      "source": [
        "<p dir=rtl style=\"direction: rtl; text-align: justify; line-height:200%; font-family:vazir; font-size:medium\">\n",
        "    <ul dir=rtl style=\"direction: rtl; text-align: justify; line-height:200%; font-family:vazir; font-size:medium\">\n",
        "<font face=\"vazir\">\n",
        " می‌دانیم ستون‌های <code>Health</code>، <code>FurLength</code> و <code>MaturitySize</code> از جنس متغیر‌های دسته‌ای ترتیبی هستند به این معنی که ترتیب خاصی بین مقادیر گروه‌ها وجود دارند. بنابراین می‌توانیم با استفاده از تابع <code>LabelEncoder</code> در کتابخانه‌ی <code>sklearn</code> به‌سادگی و بی‌دغدغه آن‌ها را به داده‌های عددی تبدیل کنیم.\n",
        "</font>\n",
        "</p>\n",
        "\n",
        "<p dir=rtl style=\"direction: rtl; text-align: justify; line-height:200%; font-family:vazir; font-size:medium\">\n",
        "<font face=\"vazir\">\n",
        "<span style=\"color:red\"><b>توجه:</b></span> پیش‌پردازش‌هایی که بر روی نمونه‌های اعتبارسنجی/آزمون اعمال می‌کنید باید طبق آمارها یا اطلاعاتی باشد که از روی نمونه‌های آموزشی به دست آمده است. به‌عنوان مثال اگر می‌خواهید مقادیر گم‌شده‌ی یک ویژگی را با میانگین آن ویژگی پُر کنید، باید از میانگینی که طبق نمونه‌های آموزشی محاسبه‌شده استفاده کنید. به همین دلیل، در کدگذاری نیز برای نمونه‌های اعتبارسنجی/آزمون باید از تابع <code dir=ltr>transform()</code> به‌جای <code dir=ltr>fit_transform()</code> استفاده کنید.\n",
        "</font>\n",
        "</p>"
      ]
    },
    {
      "cell_type": "code",
      "execution_count": 12,
      "metadata": {
        "id": "5KmcCLT_f5B1"
      },
      "outputs": [],
      "source": [
        "from sklearn.preprocessing import LabelEncoder\n",
        "\n",
        "le = LabelEncoder()\n",
        "\n",
        "train['MaturitySize'] = le.fit_transform(train['MaturitySize'])\n",
        "test['MaturitySize'] = le.transform(test['MaturitySize'])\n",
        "\n",
        "train['FurLength'] = le.fit_transform(train['FurLength'])\n",
        "test['FurLength'] = le.transform(test['FurLength'])\n",
        "\n",
        "train['Health'] = le.fit_transform(train['Health'])\n",
        "test['Health'] = le.transform(test['Health'])"
      ]
    },
    {
      "cell_type": "markdown",
      "metadata": {
        "id": "f9UgI8Vqf5B1"
      },
      "source": [
        "<p dir=rtl style=\"direction: rtl; text-align: justify; line-height:200%; font-family:vazir; font-size:medium\">\n",
        "    <ul dir=rtl style=\"direction: rtl; text-align: justify; line-height:200%; font-family:vazir; font-size:medium\">\n",
        "<font face=\"vazir\">\n",
        "اما ستون‌های <code>Type</code>، <code>Breed1</code>، <code>Gender</code>، <code>Color1</code> ،<code>Color2</code> <code>Vaccinated</code> و <code>Sterilized</code>  از جنس متغیر‌های دسته‌ای اسمی هستند، به این معنی که ترتیب خاصی بین مقادیر گروه‌ها وجود ندارد. بنابراین برای این ویژگی‌ها نمی‌توانیم از <code>LabelEncoder</code> استفاده کنیم، زیرا این نوع داده‌ها از نظر ترتیبی تفاوتی با یک‌دیگر ندارند و اگر به‌سادگی به هر کدام از این ویژگی‌ها یک عدد اختصاص دهیم آن‌گاه به‌نوعی بین آن‌ها ترتیب قائل شدیم که نادرست است. برای حل این مسئله از روش کدگذاری دودویی استفاده می‌کنیم، به این معنی که به‌طور مثال به ازای ستون <code>color1</code> که ۷ مقدار یکتا <code dir=ltr>['Black', 'Brown', 'Cream', 'Gray', 'Golden', 'White', 'Yellow']</code> را دارد ۳ ستون اضافه می‌کنیم زیرا در هر ستون می‌توانیم مقدار ۱ و ۰ داشته باشیم و برای این‌که ۷ دسته را پوشش دهیم حداقل به ۳ ستون نیاز داریم (<code dir=ltr>7 < 3^2</code>). حال به هرکدام از این دسته‌ها عددی اختصاص می‌دهیم و ستون‌های مربوط به کد دودویی آن عدد را پر می‌کنیم.\n",
        "<br>\n",
        "    تابع <code>BinaryEncoder</code> از کتابخانه‌ی <code>category_encoders</code> این عملیات را انجام می‌دهد.\n",
        "        <br>\n",
        "    توجه داشته باشید در ستون <code>Gender</code> و <code>Type</code> به علت این‌که فقط ۲ دسته داریم می‌توانیم با تابع <code>LabelEncoder</code> تبدیل را انجام دهیم.\n",
        "    </font>\n",
        "</p>"
      ]
    },
    {
      "cell_type": "code",
      "execution_count": 13,
      "metadata": {
        "id": "bim0mQD9f5B1"
      },
      "outputs": [],
      "source": [
        "train['Type'] = le.fit_transform(train['Type'])\n",
        "test['Type'] = le.transform(test['Type'])\n",
        "\n",
        "train['Gender'] = le.fit_transform(train['Gender'])\n",
        "test['Gender'] = le.transform(test['Gender'])"
      ]
    },
    {
      "cell_type": "code",
      "execution_count": 14,
      "metadata": {
        "colab": {
          "base_uri": "https://localhost:8080/"
        },
        "id": "9R3-iSD5i6sO",
        "outputId": "4c05cd44-5feb-43b1-a0e2-91cc0faaf33d"
      },
      "outputs": [
        {
          "output_type": "stream",
          "name": "stdout",
          "text": [
            "Collecting category_encoders\n",
            "  Downloading category_encoders-2.6.3-py2.py3-none-any.whl.metadata (8.0 kB)\n",
            "Requirement already satisfied: numpy>=1.14.0 in /usr/local/lib/python3.10/dist-packages (from category_encoders) (1.26.4)\n",
            "Requirement already satisfied: scikit-learn>=0.20.0 in /usr/local/lib/python3.10/dist-packages (from category_encoders) (1.3.2)\n",
            "Requirement already satisfied: scipy>=1.0.0 in /usr/local/lib/python3.10/dist-packages (from category_encoders) (1.13.1)\n",
            "Requirement already satisfied: statsmodels>=0.9.0 in /usr/local/lib/python3.10/dist-packages (from category_encoders) (0.14.2)\n",
            "Requirement already satisfied: pandas>=1.0.5 in /usr/local/lib/python3.10/dist-packages (from category_encoders) (2.1.4)\n",
            "Requirement already satisfied: patsy>=0.5.1 in /usr/local/lib/python3.10/dist-packages (from category_encoders) (0.5.6)\n",
            "Requirement already satisfied: python-dateutil>=2.8.2 in /usr/local/lib/python3.10/dist-packages (from pandas>=1.0.5->category_encoders) (2.8.2)\n",
            "Requirement already satisfied: pytz>=2020.1 in /usr/local/lib/python3.10/dist-packages (from pandas>=1.0.5->category_encoders) (2024.1)\n",
            "Requirement already satisfied: tzdata>=2022.1 in /usr/local/lib/python3.10/dist-packages (from pandas>=1.0.5->category_encoders) (2024.1)\n",
            "Requirement already satisfied: six in /usr/local/lib/python3.10/dist-packages (from patsy>=0.5.1->category_encoders) (1.16.0)\n",
            "Requirement already satisfied: joblib>=1.1.1 in /usr/local/lib/python3.10/dist-packages (from scikit-learn>=0.20.0->category_encoders) (1.4.2)\n",
            "Requirement already satisfied: threadpoolctl>=2.0.0 in /usr/local/lib/python3.10/dist-packages (from scikit-learn>=0.20.0->category_encoders) (3.5.0)\n",
            "Requirement already satisfied: packaging>=21.3 in /usr/local/lib/python3.10/dist-packages (from statsmodels>=0.9.0->category_encoders) (24.1)\n",
            "Downloading category_encoders-2.6.3-py2.py3-none-any.whl (81 kB)\n",
            "\u001b[2K   \u001b[90m━━━━━━━━━━━━━━━━━━━━━━━━━━━━━━━━━━━━━━━━\u001b[0m \u001b[32m81.9/81.9 kB\u001b[0m \u001b[31m2.3 MB/s\u001b[0m eta \u001b[36m0:00:00\u001b[0m\n",
            "\u001b[?25hInstalling collected packages: category_encoders\n",
            "Successfully installed category_encoders-2.6.3\n"
          ]
        }
      ],
      "source": [
        "!pip install category_encoders"
      ]
    },
    {
      "cell_type": "code",
      "execution_count": 15,
      "metadata": {
        "id": "ei-Ms7Avf5B1"
      },
      "outputs": [],
      "source": [
        "import category_encoders as ce\n",
        "\n",
        "binary_encoder = ce.BinaryEncoder()\n",
        "\n",
        "train_binary_Breed1 = binary_encoder.fit_transform(train['Breed1'])\n",
        "test_binary_Breed1 = binary_encoder.transform(test['Breed1'])\n",
        "\n",
        "train_binary_Color1 = binary_encoder.fit_transform(train['Color1'])\n",
        "test_binary_Color1 = binary_encoder.transform(test['Color1'])\n",
        "\n",
        "train_binary_Color2 = binary_encoder.fit_transform(train['Color2'])\n",
        "test_binary_Color2 = binary_encoder.transform(test['Color2'])\n",
        "\n",
        "train_binary_Vaccinated = binary_encoder.fit_transform(train['Vaccinated'])\n",
        "test_binary_Vaccinated = binary_encoder.transform(test['Vaccinated'])\n",
        "\n",
        "train_binary_Sterilized = binary_encoder.fit_transform(train['Sterilized'])\n",
        "test_binary_Sterilized = binary_encoder.transform(test['Sterilized'])"
      ]
    },
    {
      "cell_type": "markdown",
      "metadata": {
        "id": "eGOwA1aif5B1"
      },
      "source": [
        "<p dir=rtl style=\"direction: rtl; text-align: justify; line-height:200%; font-family:vazir; font-size:medium\">\n",
        "    <ul dir=rtl style=\"direction: rtl; text-align: justify; line-height:200%; font-family:vazir; font-size:medium\">\n",
        "<font face=\"vazir\">\n",
        "حال ستون‌های ساخته شده برای هر متغیر را به مجموعه‌داده اصلی اضافه می‌کنیم و این ستون‌ها را حذف می‌کنیم.\n",
        "</font>\n",
        "</p>"
      ]
    },
    {
      "cell_type": "code",
      "execution_count": 16,
      "metadata": {
        "colab": {
          "base_uri": "https://localhost:8080/"
        },
        "id": "0rQ9OgZsf5B2",
        "outputId": "137f8bff-817f-473c-c4ae-3c1f7a90edb7"
      },
      "outputs": [
        {
          "output_type": "stream",
          "name": "stdout",
          "text": [
            "<class 'pandas.core.frame.DataFrame'>\n",
            "RangeIndex: 10537 entries, 0 to 10536\n",
            "Data columns (total 27 columns):\n",
            " #   Column        Non-Null Count  Dtype\n",
            "---  ------        --------------  -----\n",
            " 0   Type          10537 non-null  int64\n",
            " 1   Age           10537 non-null  int64\n",
            " 2   Gender        10537 non-null  int64\n",
            " 3   MaturitySize  10537 non-null  int64\n",
            " 4   FurLength     10537 non-null  int64\n",
            " 5   Health        10537 non-null  int64\n",
            " 6   Fee           10537 non-null  int64\n",
            " 7   PhotoAmt      10537 non-null  int64\n",
            " 8   Target        10537 non-null  int64\n",
            " 9   Breed1_0      10537 non-null  int64\n",
            " 10  Breed1_1      10537 non-null  int64\n",
            " 11  Breed1_2      10537 non-null  int64\n",
            " 12  Breed1_3      10537 non-null  int64\n",
            " 13  Breed1_4      10537 non-null  int64\n",
            " 14  Breed1_5      10537 non-null  int64\n",
            " 15  Breed1_6      10537 non-null  int64\n",
            " 16  Breed1_7      10537 non-null  int64\n",
            " 17  Color1_0      10537 non-null  int64\n",
            " 18  Color1_1      10537 non-null  int64\n",
            " 19  Color1_2      10537 non-null  int64\n",
            " 20  Color2_0      10537 non-null  int64\n",
            " 21  Color2_1      10537 non-null  int64\n",
            " 22  Color2_2      10537 non-null  int64\n",
            " 23  Vaccinated_0  10537 non-null  int64\n",
            " 24  Vaccinated_1  10537 non-null  int64\n",
            " 25  Sterilized_0  10537 non-null  int64\n",
            " 26  Sterilized_1  10537 non-null  int64\n",
            "dtypes: int64(27)\n",
            "memory usage: 2.2 MB\n"
          ]
        }
      ],
      "source": [
        "train = pd.concat([train, train_binary_Breed1, train_binary_Color1, train_binary_Color2, train_binary_Vaccinated, train_binary_Sterilized], axis=1)\n",
        "columns = ['Breed1','Color1','Color2','Vaccinated','Sterilized']\n",
        "train.drop(columns = columns, inplace = True)\n",
        "\n",
        "test = pd.concat([test, test_binary_Breed1, test_binary_Color1, test_binary_Color2, test_binary_Vaccinated, test_binary_Sterilized], axis=1)\n",
        "columns = ['Breed1','Color1','Color2','Vaccinated','Sterilized']\n",
        "test.drop(columns = columns, inplace = True)\n",
        "\n",
        "train.info()"
      ]
    },
    {
      "cell_type": "markdown",
      "metadata": {
        "id": "-YEuXHbyJux4"
      },
      "source": [
        "<h2 dir=rtl align=right style=\"line-height:200%;font-family:vazir;color:#0099cc\">\n",
        "<font face=\"vazir\" color=\"#0099cc\">\n",
        "نرمال سازی داده‌ها\n",
        "</font>\n",
        "</h2>\n",
        "\n",
        "<p dir=rtl style=\"direction: rtl; text-align: justify; line-height:200%; font-family:vazir; font-size:medium\">\n",
        "<font face=\"vazir\" size=3>\n",
        " یکی از اعمال مهم پیش‌پردازش، تغییر مقیاس ویژگی‌ها به‌صورت توزیع نرمال است که اصطلاحاً به آن نرمال‌سازی (Normalization) می‌گوییم.\n",
        " نرمال‌سازی به کاهش تغییرات شدید در وزن‌ها کمک کرده و باعث سرعت بالاتر همگرایی مدل می‌شود.\n",
        "برای انجام نرمال‌سازی در این تمرین باید اعداد هر ویژگی را طوری تغییر دهیم که میانگین آن‌ها <code>0</code> شود و واریانس <code>1</code> داشته باشند، این‌کار را می‌توانیم با استفاده از فرمول زیر انجام دهیم.\n",
        "برای سری داده‌ی <code>X</code> (که در اینجا مقادیر هر ستون می‌باشد) به طوری‌که <code>X = [x_1, x_2, ..., x_n]</code>، با کم کردن میانگین از هر نمونه‌ی داده (<code>x_i</code>) و تقسیم آن بر انحراف معیار داده‌ها (سیگما) می‌توانیم سری داده‌ی نرمال‌شده را به‌دست آوریم.\n",
        "</font>\n",
        "</p>\n",
        "\n",
        "$$ Z = \\frac{x_i - \\bar{x}}{\\sigma} $$\n",
        "\n",
        "<p dir=rtl style=\"direction: rtl; text-align: justify; line-height:200%; font-family:vazir; font-size:medium\">\n",
        "<font face=\"vazir\" size=3>\n",
        "دقت داشته باشید، از آنجا که در واقع ما فقط اطلاعات مربوط به مجموعه‌داده‌ی آموزش را در هنگام ساخت مدل داریم، برای نرمال‌سازی نمونه‌های آزمون نیز باید از میانگین و انحراف معیار نمونه‌های آموزش استفاده کنیم. همچنین حتما از تابع میانگین و انحراف معیار کتابخانه <code>pandas</code> استفاده کنید.\n",
        "</font>\n",
        "</p>"
      ]
    },
    {
      "cell_type": "code",
      "execution_count": 17,
      "metadata": {
        "id": "ou4xZDdvJux5"
      },
      "outputs": [],
      "source": [
        "for column in train.drop(columns = ['Target']).columns:\n",
        "  mean = train[column].mean() #To-Do (Mean of train_data[column])\n",
        "  std = train[column].std() #To-Do (Standard Deviation of train_data[column])\n",
        "  train[column] = (train[column]- mean)/std\n",
        "  test[column] = (test[column] - mean)/std"
      ]
    },
    {
      "cell_type": "markdown",
      "metadata": {
        "id": "5DMrZt_VlaTU"
      },
      "source": [
        "<p dir=rtl style=\"direction: rtl; text-align: justify; line-height:200%; font-family:vazir; font-size:medium\">\n",
        "    <ul dir=rtl style=\"direction: rtl; text-align: justify; line-height:200%; font-family:vazir; font-size:medium\">\n",
        "<font face=\"vazir\">\n",
        "همان‌طور که در درسنامه‌های قبلی گفتیم برای ارزیابی و بهبود مدل بخشی از داده‌های آموزش را به‌عنوان داده‌های اعتبارسنجی جدا می‌کنیم. برای این‌کار می‌توانید از تابع <code>train_test_split</code> کتابخانه‌ی <code>sklearn</code> استفاده کنید. مستندات این تابع را می‌توانید در  <a href=https://scikit-learn.org/stable/modules/generated/sklearn.model_selection.train_test_split.html> این لینک </a> پیدا کنید. توجه داشته باشید در این مسئله <code>0.1</code> از داده‌های آموزش را به داده‌های اعتبارسنجی اختصاص می‌دهیم و <code>0.9</code> باقی مانده را برای آموزش مدل استفاده می‌کنیم.\n",
        "\n",
        "</font>\n",
        "</p>\n",
        "\n",
        "\n"
      ]
    },
    {
      "cell_type": "code",
      "execution_count": 18,
      "metadata": {
        "colab": {
          "base_uri": "https://localhost:8080/"
        },
        "id": "IxvwowoojG9X",
        "outputId": "1dc1513c-5127-4aec-f7ef-13f5eab1da84"
      },
      "outputs": [
        {
          "output_type": "stream",
          "name": "stdout",
          "text": [
            "Train examples:  9483 9483\n",
            "Validation examples:  1054 1054\n",
            "Test examples:  1000\n"
          ]
        }
      ],
      "source": [
        "from sklearn.model_selection import train_test_split\n",
        "\n",
        "X_train, X_valid, y_train, y_valid = train_test_split(train.drop(columns = ['Target']), train['Target'], test_size = 0.1)\n",
        "\n",
        "print('Train examples: ', len(X_train), len(y_train))\n",
        "print('Validation examples: ', len(X_valid), len(y_valid))\n",
        "print('Test examples: ',  len(test))"
      ]
    },
    {
      "cell_type": "markdown",
      "metadata": {
        "id": "-Ral8_ksf5B2"
      },
      "source": [
        "<h2 dir=rtl align=right style=\"line-height:200%;font-family:vazir;color:#0099cc\">\n",
        "<font face=\"vazir\" color=\"#0099cc\">\n",
        "ساخت شبکه‌ی عصبی\n",
        "</font>\n",
        "</h2>\n",
        "\n",
        "<p dir=rtl style=\"direction: rtl; text-align: justify; line-height:200%; font-family:vazir; font-size:medium\">\n",
        "<font face=\"vazir\">\n",
        "پس از انجام پیش‌پرداز‌های مورد نیاز نوبت به ساخت و آموزش مدل رسیده است.\n",
        "در این مسئله از شما می‌خواهیم ابتدا یک لایه ورودی با ابعاد مناسب مسئله که همان تعداد ویژگی‌های مجموعه‌داده است بسازید. سپس ۳ لایه‌ی متراکم با تعداد نورون‌های ۵۰۰۰، ۱۰۰۰ و ۵۰۰ (به ترتیب از راست به چپ) با تابع‌ فعال‌ساز  <code>relu</code> ایجاد کنید و در نهایت یک لایه‌ی متراکم خروجی با تعداد نورون مناسب و تابع فعال‌ساز  <code>sigmoid</code> اضافه کنید.\n",
        "</font>\n",
        "</p>"
      ]
    },
    {
      "cell_type": "code",
      "execution_count": 19,
      "metadata": {
        "id": "PnNJ6CFG5oR4"
      },
      "outputs": [],
      "source": [
        "model = keras.models.Sequential()\n",
        "model.add(keras.layers.Input(shape=(26,)))\n",
        "model.add(keras.layers.Dense(5000, activation='relu'))\n",
        "model.add(keras.layers.Dense(1000, activation='relu'))\n",
        "model.add(keras.layers.Dense(500, activation='relu'))\n",
        "model.add(keras.layers.Dense(1, activation='sigmoid'))"
      ]
    },
    {
      "cell_type": "code",
      "execution_count": 20,
      "metadata": {
        "colab": {
          "base_uri": "https://localhost:8080/",
          "height": 257
        },
        "id": "YQSuwL5AiZq-",
        "outputId": "7fa190f6-dabf-49ad-db96-483dbe2ab3c9"
      },
      "outputs": [
        {
          "output_type": "display_data",
          "data": {
            "text/plain": [
              "\u001b[1mModel: \"sequential\"\u001b[0m\n"
            ],
            "text/html": [
              "<pre style=\"white-space:pre;overflow-x:auto;line-height:normal;font-family:Menlo,'DejaVu Sans Mono',consolas,'Courier New',monospace\"><span style=\"font-weight: bold\">Model: \"sequential\"</span>\n",
              "</pre>\n"
            ]
          },
          "metadata": {}
        },
        {
          "output_type": "display_data",
          "data": {
            "text/plain": [
              "┏━━━━━━━━━━━━━━━━━━━━━━━━━━━━━━━━━━━━━━┳━━━━━━━━━━━━━━━━━━━━━━━━━━━━━┳━━━━━━━━━━━━━━━━━┓\n",
              "┃\u001b[1m \u001b[0m\u001b[1mLayer (type)                        \u001b[0m\u001b[1m \u001b[0m┃\u001b[1m \u001b[0m\u001b[1mOutput Shape               \u001b[0m\u001b[1m \u001b[0m┃\u001b[1m \u001b[0m\u001b[1m        Param #\u001b[0m\u001b[1m \u001b[0m┃\n",
              "┡━━━━━━━━━━━━━━━━━━━━━━━━━━━━━━━━━━━━━━╇━━━━━━━━━━━━━━━━━━━━━━━━━━━━━╇━━━━━━━━━━━━━━━━━┩\n",
              "│ dense (\u001b[38;5;33mDense\u001b[0m)                        │ (\u001b[38;5;45mNone\u001b[0m, \u001b[38;5;34m5000\u001b[0m)                │         \u001b[38;5;34m135,000\u001b[0m │\n",
              "├──────────────────────────────────────┼─────────────────────────────┼─────────────────┤\n",
              "│ dense_1 (\u001b[38;5;33mDense\u001b[0m)                      │ (\u001b[38;5;45mNone\u001b[0m, \u001b[38;5;34m1000\u001b[0m)                │       \u001b[38;5;34m5,001,000\u001b[0m │\n",
              "├──────────────────────────────────────┼─────────────────────────────┼─────────────────┤\n",
              "│ dense_2 (\u001b[38;5;33mDense\u001b[0m)                      │ (\u001b[38;5;45mNone\u001b[0m, \u001b[38;5;34m500\u001b[0m)                 │         \u001b[38;5;34m500,500\u001b[0m │\n",
              "├──────────────────────────────────────┼─────────────────────────────┼─────────────────┤\n",
              "│ dense_3 (\u001b[38;5;33mDense\u001b[0m)                      │ (\u001b[38;5;45mNone\u001b[0m, \u001b[38;5;34m1\u001b[0m)                   │             \u001b[38;5;34m501\u001b[0m │\n",
              "└──────────────────────────────────────┴─────────────────────────────┴─────────────────┘\n"
            ],
            "text/html": [
              "<pre style=\"white-space:pre;overflow-x:auto;line-height:normal;font-family:Menlo,'DejaVu Sans Mono',consolas,'Courier New',monospace\">┏━━━━━━━━━━━━━━━━━━━━━━━━━━━━━━━━━━━━━━┳━━━━━━━━━━━━━━━━━━━━━━━━━━━━━┳━━━━━━━━━━━━━━━━━┓\n",
              "┃<span style=\"font-weight: bold\"> Layer (type)                         </span>┃<span style=\"font-weight: bold\"> Output Shape                </span>┃<span style=\"font-weight: bold\">         Param # </span>┃\n",
              "┡━━━━━━━━━━━━━━━━━━━━━━━━━━━━━━━━━━━━━━╇━━━━━━━━━━━━━━━━━━━━━━━━━━━━━╇━━━━━━━━━━━━━━━━━┩\n",
              "│ dense (<span style=\"color: #0087ff; text-decoration-color: #0087ff\">Dense</span>)                        │ (<span style=\"color: #00d7ff; text-decoration-color: #00d7ff\">None</span>, <span style=\"color: #00af00; text-decoration-color: #00af00\">5000</span>)                │         <span style=\"color: #00af00; text-decoration-color: #00af00\">135,000</span> │\n",
              "├──────────────────────────────────────┼─────────────────────────────┼─────────────────┤\n",
              "│ dense_1 (<span style=\"color: #0087ff; text-decoration-color: #0087ff\">Dense</span>)                      │ (<span style=\"color: #00d7ff; text-decoration-color: #00d7ff\">None</span>, <span style=\"color: #00af00; text-decoration-color: #00af00\">1000</span>)                │       <span style=\"color: #00af00; text-decoration-color: #00af00\">5,001,000</span> │\n",
              "├──────────────────────────────────────┼─────────────────────────────┼─────────────────┤\n",
              "│ dense_2 (<span style=\"color: #0087ff; text-decoration-color: #0087ff\">Dense</span>)                      │ (<span style=\"color: #00d7ff; text-decoration-color: #00d7ff\">None</span>, <span style=\"color: #00af00; text-decoration-color: #00af00\">500</span>)                 │         <span style=\"color: #00af00; text-decoration-color: #00af00\">500,500</span> │\n",
              "├──────────────────────────────────────┼─────────────────────────────┼─────────────────┤\n",
              "│ dense_3 (<span style=\"color: #0087ff; text-decoration-color: #0087ff\">Dense</span>)                      │ (<span style=\"color: #00d7ff; text-decoration-color: #00d7ff\">None</span>, <span style=\"color: #00af00; text-decoration-color: #00af00\">1</span>)                   │             <span style=\"color: #00af00; text-decoration-color: #00af00\">501</span> │\n",
              "└──────────────────────────────────────┴─────────────────────────────┴─────────────────┘\n",
              "</pre>\n"
            ]
          },
          "metadata": {}
        },
        {
          "output_type": "display_data",
          "data": {
            "text/plain": [
              "\u001b[1m Total params: \u001b[0m\u001b[38;5;34m5,637,001\u001b[0m (21.50 MB)\n"
            ],
            "text/html": [
              "<pre style=\"white-space:pre;overflow-x:auto;line-height:normal;font-family:Menlo,'DejaVu Sans Mono',consolas,'Courier New',monospace\"><span style=\"font-weight: bold\"> Total params: </span><span style=\"color: #00af00; text-decoration-color: #00af00\">5,637,001</span> (21.50 MB)\n",
              "</pre>\n"
            ]
          },
          "metadata": {}
        },
        {
          "output_type": "display_data",
          "data": {
            "text/plain": [
              "\u001b[1m Trainable params: \u001b[0m\u001b[38;5;34m5,637,001\u001b[0m (21.50 MB)\n"
            ],
            "text/html": [
              "<pre style=\"white-space:pre;overflow-x:auto;line-height:normal;font-family:Menlo,'DejaVu Sans Mono',consolas,'Courier New',monospace\"><span style=\"font-weight: bold\"> Trainable params: </span><span style=\"color: #00af00; text-decoration-color: #00af00\">5,637,001</span> (21.50 MB)\n",
              "</pre>\n"
            ]
          },
          "metadata": {}
        },
        {
          "output_type": "display_data",
          "data": {
            "text/plain": [
              "\u001b[1m Non-trainable params: \u001b[0m\u001b[38;5;34m0\u001b[0m (0.00 B)\n"
            ],
            "text/html": [
              "<pre style=\"white-space:pre;overflow-x:auto;line-height:normal;font-family:Menlo,'DejaVu Sans Mono',consolas,'Courier New',monospace\"><span style=\"font-weight: bold\"> Non-trainable params: </span><span style=\"color: #00af00; text-decoration-color: #00af00\">0</span> (0.00 B)\n",
              "</pre>\n"
            ]
          },
          "metadata": {}
        }
      ],
      "source": [
        "model.summary()"
      ]
    },
    {
      "cell_type": "markdown",
      "metadata": {
        "id": "9f7XjaQZ9_jx"
      },
      "source": [
        "<h2 dir=rtl align=right style=\"line-height:200%;font-family:vazir;color:#0099cc\">\n",
        "<font face=\"vazir\" color=\"#0099cc\">\n",
        "آموزش شبکه‌ی عصبی\n",
        "</font>\n",
        "</h2>\n",
        "\n",
        "<p dir=rtl style=\"direction: rtl; text-align: justify; line-height:200%; font-family:vazir; font-size:medium\">\n",
        "    <ul dir=rtl style=\"direction: rtl; text-align: justify; line-height:200%; font-family:vazir; font-size:medium\">\n",
        "<font face=\"vazir\">\n",
        "در ادامه شبکه را با تابع هزینه و بهینه‌ساز تعریف‌شده <code>compile</code> می‌کنیم. (درباره‌ی توابع هزینه‌ و بهینه‌سازهای مختلف در فصل بعد کامل صحبت خواهیم کرد)</font>\n",
        "</p>"
      ]
    },
    {
      "cell_type": "code",
      "execution_count": 21,
      "metadata": {
        "id": "JzjykerN9DiH"
      },
      "outputs": [],
      "source": [
        "model.compile(optimizer = 'adam',\n",
        "              loss = keras.losses.BinaryCrossentropy(from_logits=False),\n",
        "              metrics = ['accuracy'])"
      ]
    },
    {
      "cell_type": "markdown",
      "metadata": {
        "id": "VxiehEs0_Ayu"
      },
      "source": [
        "<p dir=rtl style=\"direction: rtl; text-align: justify; line-height:200%; font-family:vazir; font-size:medium\">\n",
        "    <ul dir=rtl style=\"direction: rtl; text-align: justify; line-height:200%; font-family:vazir; font-size:medium\">\n",
        "<font face=\"vazir\">\n",
        "در این مرحله باید مدل ساخته شده را با اندازه‌ی دسته ۱۲۸ (<code>BATCH_SIZE</code>) و به تعداد دور ۱۰ (<code>epochs</code>) آموزش دهید.\n",
        "</font>\n",
        "</p>\n",
        "\n",
        "\n"
      ]
    },
    {
      "cell_type": "code",
      "execution_count": 22,
      "metadata": {
        "colab": {
          "base_uri": "https://localhost:8080/"
        },
        "id": "0Ots6nr--Lgn",
        "outputId": "0ad8bd79-0168-4489-f82a-f016f897c5cb"
      },
      "outputs": [
        {
          "output_type": "stream",
          "name": "stdout",
          "text": [
            "Epoch 1/10\n",
            "\u001b[1m75/75\u001b[0m \u001b[32m━━━━━━━━━━━━━━━━━━━━\u001b[0m\u001b[37m\u001b[0m \u001b[1m7s\u001b[0m 43ms/step - accuracy: 0.7358 - loss: 0.5671 - val_accuracy: 0.7315 - val_loss: 0.5318\n",
            "Epoch 2/10\n",
            "\u001b[1m75/75\u001b[0m \u001b[32m━━━━━━━━━━━━━━━━━━━━\u001b[0m\u001b[37m\u001b[0m \u001b[1m5s\u001b[0m 5ms/step - accuracy: 0.7485 - loss: 0.5156 - val_accuracy: 0.7362 - val_loss: 0.5471\n",
            "Epoch 3/10\n",
            "\u001b[1m75/75\u001b[0m \u001b[32m━━━━━━━━━━━━━━━━━━━━\u001b[0m\u001b[37m\u001b[0m \u001b[1m0s\u001b[0m 4ms/step - accuracy: 0.7644 - loss: 0.4977 - val_accuracy: 0.7306 - val_loss: 0.5341\n",
            "Epoch 4/10\n",
            "\u001b[1m75/75\u001b[0m \u001b[32m━━━━━━━━━━━━━━━━━━━━\u001b[0m\u001b[37m\u001b[0m \u001b[1m0s\u001b[0m 4ms/step - accuracy: 0.7680 - loss: 0.4872 - val_accuracy: 0.7372 - val_loss: 0.5461\n",
            "Epoch 5/10\n",
            "\u001b[1m75/75\u001b[0m \u001b[32m━━━━━━━━━━━━━━━━━━━━\u001b[0m\u001b[37m\u001b[0m \u001b[1m0s\u001b[0m 4ms/step - accuracy: 0.7768 - loss: 0.4714 - val_accuracy: 0.7457 - val_loss: 0.5316\n",
            "Epoch 6/10\n",
            "\u001b[1m75/75\u001b[0m \u001b[32m━━━━━━━━━━━━━━━━━━━━\u001b[0m\u001b[37m\u001b[0m \u001b[1m1s\u001b[0m 4ms/step - accuracy: 0.7781 - loss: 0.4718 - val_accuracy: 0.7419 - val_loss: 0.5488\n",
            "Epoch 7/10\n",
            "\u001b[1m75/75\u001b[0m \u001b[32m━━━━━━━━━━━━━━━━━━━━\u001b[0m\u001b[37m\u001b[0m \u001b[1m0s\u001b[0m 4ms/step - accuracy: 0.7724 - loss: 0.4807 - val_accuracy: 0.7343 - val_loss: 0.5328\n",
            "Epoch 8/10\n",
            "\u001b[1m75/75\u001b[0m \u001b[32m━━━━━━━━━━━━━━━━━━━━\u001b[0m\u001b[37m\u001b[0m \u001b[1m0s\u001b[0m 4ms/step - accuracy: 0.7926 - loss: 0.4520 - val_accuracy: 0.7211 - val_loss: 0.5450\n",
            "Epoch 9/10\n",
            "\u001b[1m75/75\u001b[0m \u001b[32m━━━━━━━━━━━━━━━━━━━━\u001b[0m\u001b[37m\u001b[0m \u001b[1m1s\u001b[0m 4ms/step - accuracy: 0.7969 - loss: 0.4476 - val_accuracy: 0.7268 - val_loss: 0.5536\n",
            "Epoch 10/10\n",
            "\u001b[1m75/75\u001b[0m \u001b[32m━━━━━━━━━━━━━━━━━━━━\u001b[0m\u001b[37m\u001b[0m \u001b[1m0s\u001b[0m 4ms/step - accuracy: 0.7925 - loss: 0.4472 - val_accuracy: 0.7391 - val_loss: 0.5594\n"
          ]
        }
      ],
      "source": [
        "epochs = 10\n",
        "BATCH_SIZE = 128\n",
        "\n",
        "history = model.fit(X_train, y_train,\n",
        "                    batch_size=BATCH_SIZE,\n",
        "                    epochs=epochs,\n",
        "                    validation_data=(X_valid, y_valid))"
      ]
    },
    {
      "cell_type": "code",
      "execution_count": 23,
      "metadata": {
        "colab": {
          "base_uri": "https://localhost:8080/"
        },
        "id": "tcOggb5hJux8",
        "outputId": "f095b0db-0668-43f8-9a6e-fcd876ea017f"
      },
      "outputs": [
        {
          "output_type": "stream",
          "name": "stdout",
          "text": [
            "\u001b[1m33/33\u001b[0m \u001b[32m━━━━━━━━━━━━━━━━━━━━\u001b[0m\u001b[37m\u001b[0m \u001b[1m1s\u001b[0m 8ms/step\n"
          ]
        },
        {
          "output_type": "execute_result",
          "data": {
            "text/plain": [
              "0.7258060051945242"
            ]
          },
          "metadata": {},
          "execution_count": 23
        }
      ],
      "source": [
        "from sklearn.metrics import f1_score\n",
        "f1_score(y_valid, model.predict(X_valid) > 0.5, average= 'weighted')"
      ]
    },
    {
      "cell_type": "markdown",
      "metadata": {
        "id": "t0klJv0t_net"
      },
      "source": [
        "\n",
        "<h2 align=right style=\"line-height:200%;font-family:vazir;color:#0099cc\">\n",
        "<font face=\"vazir\" color=\"#0099cc\">\n",
        "پیش‌بینی برای داده‌های آزمون و خروجی\n",
        "</font>\n",
        "</h2>\n",
        "\n",
        "<p dir=rtl style=\"direction: rtl;text-align: right;line-height:200%;font-family:vazir;font-size:medium\">\n",
        "<font face=\"vazir\" size=3>\n",
        "شبکه‌ی خود را روی مجموعه‌داده‌ی <code>test</code>  آزمایش کنید و خروجی را در یک دیتافریم (<code>dataframe</code>) ذخیره کنید. دقت کنید مقادیر مجاز مقادیر دودویی (<code>False</code>/<code>True</code>) می‌باشد.\n",
        "</font>\n",
        "</p>\n",
        "\n",
        "<h3 dir=rtl align=right style=\"line-height:200%;font-family:vazir;color:#0099cc\">\n",
        "<font face=\"vazir\" color=\"#0099cc\">\n",
        "معیار ارزیابی\n",
        "</font>\n",
        "</h3>\n",
        "\n",
        "<p dir=rtl style=\"direction: rtl; text-align: justify; line-height:200%; font-family:vazir; font-size:medium\">\n",
        "<font face=\"vazir\" size=3>\n",
        "توجه داشته باشید معیار ارزیابی مدل شما در این تمرین معیار <code>F1 score</code> است، که می‌توانید مستندات آن را در <a href = 'https://scikit-learn.org/stable/modules/generated/sklearn.metrics.f1_score.html'>این لینک</a> مطالعه نمایید. لازم به ذکر است که از حالت میانگین‌گیری <code>\"weighted\"</code> این معیار استفاده خواهد شد.\n",
        "</font>\n",
        "</p>\n",
        "\n",
        "\n",
        "<p dir=rtl style=\"direction: rtl; text-align: justify; line-height:200%; font-family:vazir; font-size:medium\">\n",
        "<font color=\"red\"><b color='red'>توجه:</b></font>\n",
        "<font face=\"vazir\" size=3>\n",
        " جهت کسب امتیاز کامل نیاز است تا پاسخ شما حداقل امتیاز <code>70</code> را با توجه به معیار معرفی‌شده کسب نماید.\n",
        "</font>\n",
        "</p>\n",
        "\n",
        "<center>\n",
        "<div dir=rtl style=\"direction: rtl;line-height:200%;font-family:vazir;font-size:medium\">\n",
        "<font face=\"vazir\" size=3>\n",
        "  \n",
        "|ستون|توضیحات|\n",
        "|:------:|:---:|\n",
        "|<code>Target</code>|آیا حیوان‌خانگی خانه جدید پیدا کرده است یا خیر|\n",
        "  \n",
        "</font>\n",
        "</div>\n",
        "</center>"
      ]
    },
    {
      "cell_type": "markdown",
      "metadata": {
        "id": "80pRnTHTiZrA"
      },
      "source": [
        "<p dir=rtl style=\"direction: rtl;text-align: right;line-height:200%;font-family:vazir;font-size:medium\">\n",
        "<font face=\"vazir\" size=3>\n",
        "    اسم دیتافریم باید <code>submission</code> باشد؛ در غیر این صورت، سامانه داوری نمی‌تواند تلاش‌ شما را ارزیابی کند.\n",
        "    <br>\n",
        "    این دیتافریم تنها شامل ۱ ستون با اسم <code>Target</code> است و ۱۰۰۰ سطر دارد.\n",
        "    <br>\n",
        "    به ازای هر سطر موجود در دیتافریم <code>test</code> شما باید یک مقدار پیش‌بینی‌شده داشته باشید.\n",
        "    <br>\n",
        "    جدول زیر، ۵ سطر ابتدایی دیتافریم <code>submission</code> را نشان می‌دهد. البته در جواب شما، اعداد ستون <code>Target</code> ممکن است متفاوت باشد و این فقط یک مثال است.\n",
        "</font>\n",
        "</p>\n",
        "\n",
        "<center>\n",
        "<div dir=ltr style=\"direction: ltr;line-height:200%;font-family:vazir;font-size:medium\">\n",
        "<font face=\"vazir\" size=3>\n",
        "    \n",
        "||<code>Target</code>|\n",
        "|:----:|:-----:|\n",
        "|0|<code>True</code>|\n",
        "|1|<code>True</code>|\n",
        "|2|<code>False</code>|\n",
        "|3|<code>False</code>|\n",
        "|4|<code>True</code>|\n",
        "\n",
        "</font>\n",
        "</div>\n",
        "</center>"
      ]
    },
    {
      "cell_type": "code",
      "execution_count": 24,
      "metadata": {
        "colab": {
          "base_uri": "https://localhost:8080/",
          "height": 441
        },
        "id": "CH7cSHMN-jhi",
        "outputId": "00c098b5-e4ce-4da5-9b0f-80204875d62d"
      },
      "outputs": [
        {
          "output_type": "stream",
          "name": "stdout",
          "text": [
            "\u001b[1m32/32\u001b[0m \u001b[32m━━━━━━━━━━━━━━━━━━━━\u001b[0m\u001b[37m\u001b[0m \u001b[1m0s\u001b[0m 10ms/step\n"
          ]
        },
        {
          "output_type": "execute_result",
          "data": {
            "text/plain": [
              "     Target\n",
              "0      True\n",
              "1     False\n",
              "2      True\n",
              "3      True\n",
              "4      True\n",
              "..      ...\n",
              "995    True\n",
              "996    True\n",
              "997    True\n",
              "998    True\n",
              "999    True\n",
              "\n",
              "[1000 rows x 1 columns]"
            ],
            "text/html": [
              "\n",
              "  <div id=\"df-6652c500-dc1e-4dc6-b7e5-bfdd8017a6e2\" class=\"colab-df-container\">\n",
              "    <div>\n",
              "<style scoped>\n",
              "    .dataframe tbody tr th:only-of-type {\n",
              "        vertical-align: middle;\n",
              "    }\n",
              "\n",
              "    .dataframe tbody tr th {\n",
              "        vertical-align: top;\n",
              "    }\n",
              "\n",
              "    .dataframe thead th {\n",
              "        text-align: right;\n",
              "    }\n",
              "</style>\n",
              "<table border=\"1\" class=\"dataframe\">\n",
              "  <thead>\n",
              "    <tr style=\"text-align: right;\">\n",
              "      <th></th>\n",
              "      <th>Target</th>\n",
              "    </tr>\n",
              "  </thead>\n",
              "  <tbody>\n",
              "    <tr>\n",
              "      <th>0</th>\n",
              "      <td>True</td>\n",
              "    </tr>\n",
              "    <tr>\n",
              "      <th>1</th>\n",
              "      <td>False</td>\n",
              "    </tr>\n",
              "    <tr>\n",
              "      <th>2</th>\n",
              "      <td>True</td>\n",
              "    </tr>\n",
              "    <tr>\n",
              "      <th>3</th>\n",
              "      <td>True</td>\n",
              "    </tr>\n",
              "    <tr>\n",
              "      <th>4</th>\n",
              "      <td>True</td>\n",
              "    </tr>\n",
              "    <tr>\n",
              "      <th>...</th>\n",
              "      <td>...</td>\n",
              "    </tr>\n",
              "    <tr>\n",
              "      <th>995</th>\n",
              "      <td>True</td>\n",
              "    </tr>\n",
              "    <tr>\n",
              "      <th>996</th>\n",
              "      <td>True</td>\n",
              "    </tr>\n",
              "    <tr>\n",
              "      <th>997</th>\n",
              "      <td>True</td>\n",
              "    </tr>\n",
              "    <tr>\n",
              "      <th>998</th>\n",
              "      <td>True</td>\n",
              "    </tr>\n",
              "    <tr>\n",
              "      <th>999</th>\n",
              "      <td>True</td>\n",
              "    </tr>\n",
              "  </tbody>\n",
              "</table>\n",
              "<p>1000 rows × 1 columns</p>\n",
              "</div>\n",
              "    <div class=\"colab-df-buttons\">\n",
              "\n",
              "  <div class=\"colab-df-container\">\n",
              "    <button class=\"colab-df-convert\" onclick=\"convertToInteractive('df-6652c500-dc1e-4dc6-b7e5-bfdd8017a6e2')\"\n",
              "            title=\"Convert this dataframe to an interactive table.\"\n",
              "            style=\"display:none;\">\n",
              "\n",
              "  <svg xmlns=\"http://www.w3.org/2000/svg\" height=\"24px\" viewBox=\"0 -960 960 960\">\n",
              "    <path d=\"M120-120v-720h720v720H120Zm60-500h600v-160H180v160Zm220 220h160v-160H400v160Zm0 220h160v-160H400v160ZM180-400h160v-160H180v160Zm440 0h160v-160H620v160ZM180-180h160v-160H180v160Zm440 0h160v-160H620v160Z\"/>\n",
              "  </svg>\n",
              "    </button>\n",
              "\n",
              "  <style>\n",
              "    .colab-df-container {\n",
              "      display:flex;\n",
              "      gap: 12px;\n",
              "    }\n",
              "\n",
              "    .colab-df-convert {\n",
              "      background-color: #E8F0FE;\n",
              "      border: none;\n",
              "      border-radius: 50%;\n",
              "      cursor: pointer;\n",
              "      display: none;\n",
              "      fill: #1967D2;\n",
              "      height: 32px;\n",
              "      padding: 0 0 0 0;\n",
              "      width: 32px;\n",
              "    }\n",
              "\n",
              "    .colab-df-convert:hover {\n",
              "      background-color: #E2EBFA;\n",
              "      box-shadow: 0px 1px 2px rgba(60, 64, 67, 0.3), 0px 1px 3px 1px rgba(60, 64, 67, 0.15);\n",
              "      fill: #174EA6;\n",
              "    }\n",
              "\n",
              "    .colab-df-buttons div {\n",
              "      margin-bottom: 4px;\n",
              "    }\n",
              "\n",
              "    [theme=dark] .colab-df-convert {\n",
              "      background-color: #3B4455;\n",
              "      fill: #D2E3FC;\n",
              "    }\n",
              "\n",
              "    [theme=dark] .colab-df-convert:hover {\n",
              "      background-color: #434B5C;\n",
              "      box-shadow: 0px 1px 3px 1px rgba(0, 0, 0, 0.15);\n",
              "      filter: drop-shadow(0px 1px 2px rgba(0, 0, 0, 0.3));\n",
              "      fill: #FFFFFF;\n",
              "    }\n",
              "  </style>\n",
              "\n",
              "    <script>\n",
              "      const buttonEl =\n",
              "        document.querySelector('#df-6652c500-dc1e-4dc6-b7e5-bfdd8017a6e2 button.colab-df-convert');\n",
              "      buttonEl.style.display =\n",
              "        google.colab.kernel.accessAllowed ? 'block' : 'none';\n",
              "\n",
              "      async function convertToInteractive(key) {\n",
              "        const element = document.querySelector('#df-6652c500-dc1e-4dc6-b7e5-bfdd8017a6e2');\n",
              "        const dataTable =\n",
              "          await google.colab.kernel.invokeFunction('convertToInteractive',\n",
              "                                                    [key], {});\n",
              "        if (!dataTable) return;\n",
              "\n",
              "        const docLinkHtml = 'Like what you see? Visit the ' +\n",
              "          '<a target=\"_blank\" href=https://colab.research.google.com/notebooks/data_table.ipynb>data table notebook</a>'\n",
              "          + ' to learn more about interactive tables.';\n",
              "        element.innerHTML = '';\n",
              "        dataTable['output_type'] = 'display_data';\n",
              "        await google.colab.output.renderOutput(dataTable, element);\n",
              "        const docLink = document.createElement('div');\n",
              "        docLink.innerHTML = docLinkHtml;\n",
              "        element.appendChild(docLink);\n",
              "      }\n",
              "    </script>\n",
              "  </div>\n",
              "\n",
              "\n",
              "<div id=\"df-e7ca8af9-d6de-4aed-969d-3fbdc6130e5c\">\n",
              "  <button class=\"colab-df-quickchart\" onclick=\"quickchart('df-e7ca8af9-d6de-4aed-969d-3fbdc6130e5c')\"\n",
              "            title=\"Suggest charts\"\n",
              "            style=\"display:none;\">\n",
              "\n",
              "<svg xmlns=\"http://www.w3.org/2000/svg\" height=\"24px\"viewBox=\"0 0 24 24\"\n",
              "     width=\"24px\">\n",
              "    <g>\n",
              "        <path d=\"M19 3H5c-1.1 0-2 .9-2 2v14c0 1.1.9 2 2 2h14c1.1 0 2-.9 2-2V5c0-1.1-.9-2-2-2zM9 17H7v-7h2v7zm4 0h-2V7h2v10zm4 0h-2v-4h2v4z\"/>\n",
              "    </g>\n",
              "</svg>\n",
              "  </button>\n",
              "\n",
              "<style>\n",
              "  .colab-df-quickchart {\n",
              "      --bg-color: #E8F0FE;\n",
              "      --fill-color: #1967D2;\n",
              "      --hover-bg-color: #E2EBFA;\n",
              "      --hover-fill-color: #174EA6;\n",
              "      --disabled-fill-color: #AAA;\n",
              "      --disabled-bg-color: #DDD;\n",
              "  }\n",
              "\n",
              "  [theme=dark] .colab-df-quickchart {\n",
              "      --bg-color: #3B4455;\n",
              "      --fill-color: #D2E3FC;\n",
              "      --hover-bg-color: #434B5C;\n",
              "      --hover-fill-color: #FFFFFF;\n",
              "      --disabled-bg-color: #3B4455;\n",
              "      --disabled-fill-color: #666;\n",
              "  }\n",
              "\n",
              "  .colab-df-quickchart {\n",
              "    background-color: var(--bg-color);\n",
              "    border: none;\n",
              "    border-radius: 50%;\n",
              "    cursor: pointer;\n",
              "    display: none;\n",
              "    fill: var(--fill-color);\n",
              "    height: 32px;\n",
              "    padding: 0;\n",
              "    width: 32px;\n",
              "  }\n",
              "\n",
              "  .colab-df-quickchart:hover {\n",
              "    background-color: var(--hover-bg-color);\n",
              "    box-shadow: 0 1px 2px rgba(60, 64, 67, 0.3), 0 1px 3px 1px rgba(60, 64, 67, 0.15);\n",
              "    fill: var(--button-hover-fill-color);\n",
              "  }\n",
              "\n",
              "  .colab-df-quickchart-complete:disabled,\n",
              "  .colab-df-quickchart-complete:disabled:hover {\n",
              "    background-color: var(--disabled-bg-color);\n",
              "    fill: var(--disabled-fill-color);\n",
              "    box-shadow: none;\n",
              "  }\n",
              "\n",
              "  .colab-df-spinner {\n",
              "    border: 2px solid var(--fill-color);\n",
              "    border-color: transparent;\n",
              "    border-bottom-color: var(--fill-color);\n",
              "    animation:\n",
              "      spin 1s steps(1) infinite;\n",
              "  }\n",
              "\n",
              "  @keyframes spin {\n",
              "    0% {\n",
              "      border-color: transparent;\n",
              "      border-bottom-color: var(--fill-color);\n",
              "      border-left-color: var(--fill-color);\n",
              "    }\n",
              "    20% {\n",
              "      border-color: transparent;\n",
              "      border-left-color: var(--fill-color);\n",
              "      border-top-color: var(--fill-color);\n",
              "    }\n",
              "    30% {\n",
              "      border-color: transparent;\n",
              "      border-left-color: var(--fill-color);\n",
              "      border-top-color: var(--fill-color);\n",
              "      border-right-color: var(--fill-color);\n",
              "    }\n",
              "    40% {\n",
              "      border-color: transparent;\n",
              "      border-right-color: var(--fill-color);\n",
              "      border-top-color: var(--fill-color);\n",
              "    }\n",
              "    60% {\n",
              "      border-color: transparent;\n",
              "      border-right-color: var(--fill-color);\n",
              "    }\n",
              "    80% {\n",
              "      border-color: transparent;\n",
              "      border-right-color: var(--fill-color);\n",
              "      border-bottom-color: var(--fill-color);\n",
              "    }\n",
              "    90% {\n",
              "      border-color: transparent;\n",
              "      border-bottom-color: var(--fill-color);\n",
              "    }\n",
              "  }\n",
              "</style>\n",
              "\n",
              "  <script>\n",
              "    async function quickchart(key) {\n",
              "      const quickchartButtonEl =\n",
              "        document.querySelector('#' + key + ' button');\n",
              "      quickchartButtonEl.disabled = true;  // To prevent multiple clicks.\n",
              "      quickchartButtonEl.classList.add('colab-df-spinner');\n",
              "      try {\n",
              "        const charts = await google.colab.kernel.invokeFunction(\n",
              "            'suggestCharts', [key], {});\n",
              "      } catch (error) {\n",
              "        console.error('Error during call to suggestCharts:', error);\n",
              "      }\n",
              "      quickchartButtonEl.classList.remove('colab-df-spinner');\n",
              "      quickchartButtonEl.classList.add('colab-df-quickchart-complete');\n",
              "    }\n",
              "    (() => {\n",
              "      let quickchartButtonEl =\n",
              "        document.querySelector('#df-e7ca8af9-d6de-4aed-969d-3fbdc6130e5c button');\n",
              "      quickchartButtonEl.style.display =\n",
              "        google.colab.kernel.accessAllowed ? 'block' : 'none';\n",
              "    })();\n",
              "  </script>\n",
              "</div>\n",
              "    </div>\n",
              "  </div>\n"
            ],
            "application/vnd.google.colaboratory.intrinsic+json": {
              "type": "dataframe",
              "variable_name": "submission",
              "summary": "{\n  \"name\": \"submission\",\n  \"rows\": 1000,\n  \"fields\": [\n    {\n      \"column\": \"Target\",\n      \"properties\": {\n        \"dtype\": \"boolean\",\n        \"num_unique_values\": 2,\n        \"samples\": [\n          false,\n          true\n        ],\n        \"semantic_type\": \"\",\n        \"description\": \"\"\n      }\n    }\n  ]\n}"
            }
          },
          "metadata": {},
          "execution_count": 24
        }
      ],
      "source": [
        "submission = pd.DataFrame(model.predict(test) > 0.5, columns = ['Target'])\n",
        "submission"
      ]
    },
    {
      "cell_type": "markdown",
      "metadata": {
        "id": "hhIUSfLBCWIR"
      },
      "source": [
        "<h2 align=right style=\"line-height:200%;font-family:vazir;color:#0099cc\">\n",
        "<font face=\"vazir\" color=\"#0099cc\">\n",
        "<b>سلول جواب‌ساز</b>\n",
        "</font>\n",
        "</h2>\n",
        "\n",
        "<p dir=rtl style=\"direction: rtl; text-align: justify; line-height:200%; font-family:vazir; font-size:medium\">\n",
        "<font face=\"vazir\" size=3>\n",
        "    برای ساخته‌شدن فایل <code>result.zip</code> سلول زیر را اجرا کنید. توجه داشته باشید که پیش از اجرای سلول زیر تغییرات اعمال شده در نت‌بوک را ذخیره کرده باشید (<code>ctrl+s</code>) تا در صورت نیاز به پشتیبانی امکان بررسی کد شما وجود داشته باشد. همچنین اگر از گوگل کولب استفاده می‌کنید، در صورت نیاز به پشتیبانی حتماً آخرین نسخه از نت‌بوک را به‌صورت دستی دانلود کرده و داخل فایل ارسالی قرار دهید یا لینک کولب را با ما به‌اشتراک بگذارید.\n",
        "</font>\n",
        "</p>"
      ]
    },
    {
      "cell_type": "code",
      "execution_count": 25,
      "metadata": {
        "colab": {
          "base_uri": "https://localhost:8080/"
        },
        "id": "pPMeti0VA1O7",
        "outputId": "3a4d8924-75b3-4bf2-de5e-8d76efc6d29c"
      },
      "outputs": [
        {
          "output_type": "stream",
          "name": "stdout",
          "text": [
            "File Paths:\n",
            "['test.csv', 'submission.csv', 'model_info.json', 'new_home.ipynb']\n"
          ]
        }
      ],
      "source": [
        "import zipfile\n",
        "import joblib\n",
        "import numpy as np\n",
        "import json\n",
        "import os\n",
        "\n",
        "if not os.path.exists(os.path.join(os.getcwd(), 'new_home.ipynb')):\n",
        "    %notebook -e new_home.ipynb\n",
        "\n",
        "test.to_csv(\"test.csv\")\n",
        "\n",
        "model_info=[]\n",
        "for layer in model.layers:\n",
        "  if layer.__class__.__name__==\"Dense\":\n",
        "    model_info.append({\n",
        "        \"name\": layer.__class__.__name__,\n",
        "        \"units\":layer.units,\n",
        "        \"activation\":layer.get_config()[\"activation\"]\n",
        "    })\n",
        "  else:\n",
        "    model_info.append({\"name\": layer.__class__.__name__})\n",
        "\n",
        "with open(\"model_info.json\", \"w\") as f:\n",
        "    json.dump(model_info, f)\n",
        "\n",
        "\n",
        "def compress(file_names):\n",
        "    print(\"File Paths:\")\n",
        "    print(file_names)\n",
        "    compression = zipfile.ZIP_DEFLATED\n",
        "    with zipfile.ZipFile(\"result.zip\", mode=\"w\") as zf:\n",
        "        for file_name in file_names:\n",
        "            zf.write('./' + file_name, file_name, compress_type=compression)\n",
        "\n",
        "submission.to_csv('submission.csv', index=False)\n",
        "\n",
        "file_names = [\"test.csv\",'submission.csv', 'model_info.json', 'new_home.ipynb']\n",
        "compress(file_names)"
      ]
    }
  ],
  "metadata": {
    "accelerator": "GPU",
    "colab": {
      "gpuType": "T4",
      "provenance": []
    },
    "kernelspec": {
      "display_name": "Python 3",
      "name": "python3"
    },
    "language_info": {
      "codemirror_mode": {
        "name": "ipython",
        "version": 3
      },
      "file_extension": ".py",
      "mimetype": "text/x-python",
      "name": "python",
      "nbconvert_exporter": "python",
      "pygments_lexer": "ipython3",
      "version": "3.9.6"
    },
    "vscode": {
      "interpreter": {
        "hash": "44e7e1b8fa2096bd5707ed7fd18b1724a2db25f4c565a7673f8b6e7bfc49d25d"
      }
    }
  },
  "nbformat": 4,
  "nbformat_minor": 0
}