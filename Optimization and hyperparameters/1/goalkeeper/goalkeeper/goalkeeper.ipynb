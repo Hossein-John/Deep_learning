{
 "cells": [
  {
   "cell_type": "code",
   "execution_count": 1,
   "id": "b229d4d7",
   "metadata": {},
   "outputs": [],
   "source": [
    "plt_decision_boundaries(model_dropout, -0.7, 0.3, -0.7, 0.7, 50)\n",
    "colors = ['red' if label == 0 else 'blue' for label in data_train_y.ravel()]\n",
    "plt.scatter(data_train_x[:, 0], data_train_x[:, 1], c=colors, s=4)\n",
    "plt.show()"
   ]
  },
  {
   "cell_type": "code",
   "execution_count": 2,
   "id": "5dea721b",
   "metadata": {},
   "outputs": [],
   "source": [
    "import numpy as np\n",
    "import matplotlib.pyplot as plt\n",
    "\n",
    "data_train_x = np.load('data_X.npy')\n",
    "data_train_y =np.load('data_y.npy') # TODO: load data_y.npy\n",
    "data_eval_x = np.load('data_Xval.npy') # TODO: load data_Xval.npy\n",
    "data_eval_y = np.load('data_yval.npy') # TODO: load data_yval.npy\n",
    "\n",
    "print(data_train_x.shape, data_train_y.shape, data_eval_x.shape, data_eval_y.shape)"
   ]
  },
  {
   "cell_type": "code",
   "execution_count": 3,
   "id": "e6756203",
   "metadata": {},
   "outputs": [],
   "source": [
    "import numpy as np\n",
    "import json\n",
    "\n",
    "def get_kernel_regularizer_info(layer):\n",
    "  try:\n",
    "      con = layer.get_config()['kernel_regularizer']\n",
    "      con['config']['l1']=round(con['config']['l1'], 6)\n",
    "      con['config']['l2']=round(con['config']['l2'], 6)\n",
    "      return str(con)\n",
    "  except:\n",
    "      return \"\"\n",
    "\n",
    "model_l1l2_info=[]\n",
    "for layer in model_l1l2.layers:\n",
    "  if layer.__class__.__name__==\"Dense\":\n",
    "    model_l1l2_info.append({\n",
    "        \"name\": layer.__class__.__name__,\n",
    "        \"units\":layer.units,\n",
    "        \"activation\":layer.get_config()[\"activation\"],\n",
    "        \"kernel_regularizer\": get_kernel_regularizer_info(layer)\n",
    "    })\n",
    "  elif layer.__class__.__name__==\"Dropout\":\n",
    "    model_l1l2_info.append({\n",
    "        \"name\": layer.__class__.__name__,\n",
    "        \"trainable\":layer.get_config()[\"trainable\"],\n",
    "        \"rate\": layer.get_config()[\"rate\"],\n",
    "    })\n",
    "  else:\n",
    "    model_l1l2_info.append({\"name\": layer.__class__.__name__})\n",
    "\n",
    "with open(\"model_l1l2_info.json\", \"w\") as f:\n",
    "    json.dump(model_l1l2_info, f)\n",
    "\n",
    "model_dropout_info=[]\n",
    "for layer in model_dropout.layers:\n",
    "  if layer.__class__.__name__==\"Dense\":\n",
    "    model_dropout_info.append({\n",
    "        \"name\": layer.__class__.__name__,\n",
    "        \"units\":layer.units,\n",
    "        \"activation\":layer.get_config()[\"activation\"],\n",
    "        \"kernel_regularizer\": get_kernel_regularizer_info(layer)\n",
    "    })\n",
    "  elif layer.__class__.__name__==\"Dropout\":\n",
    "    model_dropout_info.append({\n",
    "        \"name\": layer.__class__.__name__,\n",
    "        \"trainable\":layer.get_config()[\"trainable\"],\n",
    "        \"rate\": layer.get_config()[\"rate\"],\n",
    "    })\n",
    "  else:\n",
    "    model_dropout_info.append({\"name\": layer.__class__.__name__})\n",
    "\n",
    "with open(\"model_dropout_info.json\", \"w\") as f:\n",
    "    json.dump(model_dropout_info, f)"
   ]
  },
  {
   "cell_type": "code",
   "execution_count": 4,
   "id": "fed395a7",
   "metadata": {},
   "outputs": [],
   "source": [
    "import numpy as np\n",
    "import matplotlib.pyplot as plt\n",
    "\n",
    "data_train_x = np.load('data_X.npy')\n",
    "data_train_y =np.load('data_y.npy') # TODO: load data_y.npy\n",
    "data_eval_x = np.load('data_Xval.npy') # TODO: load data_Xval.npy\n",
    "data_eval_y = np.load('data_yval.npy') # TODO: load data_yval.npy\n",
    "\n",
    "print(data_train_x.shape, data_train_y.shape, data_eval_x.shape, data_eval_y.shape)"
   ]
  },
  {
   "cell_type": "code",
   "execution_count": 5,
   "id": "d83c6ea8",
   "metadata": {},
   "outputs": [],
   "source": [
    "colors = ['red' if label == 0 else 'blue' for label in data_train_y.ravel()]\n",
    "plt.scatter(data_train_x[:, 0], data_train_x[:, 1], c=colors)"
   ]
  },
  {
   "cell_type": "code",
   "execution_count": 6,
   "id": "2bc691fc",
   "metadata": {},
   "outputs": [],
   "source": [
    "# !pip install keras --upgrade\n",
    "# uncomment the above line if you don't have keras 3 installed"
   ]
  },
  {
   "cell_type": "code",
   "execution_count": 7,
   "id": "7f1daccf",
   "metadata": {},
   "outputs": [],
   "source": [
    "import os\n",
    "os.environ[\"KERAS_BACKEND\"] = \"tensorflow\""
   ]
  },
  {
   "cell_type": "code",
   "execution_count": 8,
   "id": "3ac50efd",
   "metadata": {},
   "outputs": [],
   "source": [
    "import keras\n",
    "\n",
    "model = keras.Sequential([\n",
    "    keras.layers.Input(shape=(2,)),\n",
    "    keras.layers.Dense(5000, activation='relu'),\n",
    "    keras.layers.Dense(5000, activation='relu'),\n",
    "    keras.layers.Dense(5000, activation='relu'),\n",
    "    keras.layers.Dense(1, activation='sigmoid')])"
   ]
  },
  {
   "cell_type": "code",
   "execution_count": 9,
   "id": "6001ed54",
   "metadata": {},
   "outputs": [],
   "source": [
    "model.compile(optimizer=\"adam\",\n",
    "              loss='binary_crossentropy',\n",
    "              metrics=['accuracy'])"
   ]
  },
  {
   "cell_type": "code",
   "execution_count": 10,
   "id": "9cc423cb",
   "metadata": {},
   "outputs": [],
   "source": [
    "history = model.fit(data_train_x, data_train_y,\n",
    "                    epochs=500, batch_size=32,\n",
    "                    validation_data=(data_eval_x, data_eval_y))"
   ]
  },
  {
   "cell_type": "code",
   "execution_count": 11,
   "id": "10deaf9e",
   "metadata": {},
   "outputs": [],
   "source": [
    "def plot_loss_acc(history):\n",
    "    train_loss = history.history['loss']\n",
    "    val_loss = history.history['val_loss']\n",
    "    train_acc = history.history['accuracy']\n",
    "    val_acc = history.history['val_accuracy']\n",
    "\n",
    "    epochs = range(1, len(train_loss) + 1)\n",
    "\n",
    "    fig, axs = plt.subplots(2, figsize=(10, 7))\n",
    "    fig.suptitle('Training and Validation Metrics')\n",
    "\n",
    "    # Loss plot\n",
    "    axs[0].plot(epochs, train_loss, label='Training loss', c='red')\n",
    "    axs[0].plot(epochs, val_loss, label='Validation loss', c='blue')\n",
    "    axs[0].set_title('Loss')\n",
    "    axs[0].set_xlabel('Epochs')\n",
    "    axs[0].set_ylabel('Loss')\n",
    "    axs[0].legend()\n",
    "    axs[0].set_ylim([0, 1.5])\n",
    "\n",
    "    # Accuracy plot\n",
    "    axs[1].plot(epochs, train_acc, label='Training accuracy', c='red')\n",
    "    axs[1].plot(epochs, val_acc, label='Validation accuracy', c='blue')\n",
    "    axs[1].set_title('Accuracy')\n",
    "    axs[1].set_xlabel('Epochs')\n",
    "    axs[1].set_ylabel('Accuracy')\n",
    "    axs[1].legend()\n",
    "\n",
    "    plt.subplots_adjust(hspace=0.5)\n",
    "    plt.show()"
   ]
  },
  {
   "cell_type": "code",
   "execution_count": 12,
   "id": "b3f58f99",
   "metadata": {},
   "outputs": [],
   "source": [
    "plot_loss_acc(history)"
   ]
  },
  {
   "cell_type": "code",
   "execution_count": 13,
   "id": "6c70108b",
   "metadata": {},
   "outputs": [],
   "source": [
    "import numpy as np\n",
    "import matplotlib\n",
    "import matplotlib.pyplot as plt\n",
    "from sklearn.inspection import DecisionBoundaryDisplay\n",
    "\n",
    "def get_decision_boundaries(model, xmin, xmax, ymin, ymax, steps):\n",
    "  x_span = np.linspace(xmin, xmax, steps)\n",
    "  y_span = np.linspace(ymin, ymax, steps)\n",
    "  xx, yy = np.meshgrid(x_span, y_span)\n",
    "  points = (np.stack([xx.ravel(), yy.ravel()], axis=1).astype(np.float32))\n",
    "\n",
    "  z = (model.predict(np.c_[xx.ravel(), yy.ravel()])>0.5).reshape(xx.shape)\n",
    "\n",
    "  return xx, yy, z\n",
    "\n",
    "def plt_decision_boundaries(model, x_min, x_max, y_min, y_max, steps):\n",
    "  plt.figure(figsize=(6, 4))\n",
    "  xx, yy, z = get_decision_boundaries(model, x_min, x_max, y_min, y_max, steps)\n",
    "  plt.contourf(xx, yy, z, alpha=0.2, cmap=matplotlib.colors.ListedColormap([\"C1\", \"C0\"]));"
   ]
  },
  {
   "cell_type": "code",
   "execution_count": 14,
   "id": "bd23d1c6",
   "metadata": {},
   "outputs": [],
   "source": [
    "plt_decision_boundaries(model, -0.7, 0.3, -0.7, 0.7, 50)\n",
    "colors = ['red' if label == 0 else 'blue' for label in data_train_y.ravel()]\n",
    "plt.scatter(data_train_x[:, 0], data_train_x[:, 1], c=colors, s=4)\n",
    "plt.show()"
   ]
  },
  {
   "cell_type": "code",
   "execution_count": 15,
   "id": "8da0bf6b",
   "metadata": {},
   "outputs": [],
   "source": [
    "model_dropout = keras.Sequential([\n",
    "    keras.layers.Input(shape=(2,)),\n",
    "    keras.layers.Dense(5000, activation='relu'),\n",
    "    keras.layers.Dropout(0.6),\n",
    "    # TODO: add dropout layer with 0.6 dropout rate\n",
    "    keras.layers.Dense(5000, activation='relu'),\n",
    "    keras.layers.Dropout(0.6),\n",
    "    # TODO: add dropout layer with 0.6 dropout rate\n",
    "    keras.layers.Dense(5000, activation='relu'),\n",
    "    keras.layers.Dropout(0.6),\n",
    "    # TODO: add dropout layer with 0.6 dropout rate\n",
    "    keras.layers.Dense(1, activation='sigmoid')])"
   ]
  },
  {
   "cell_type": "code",
   "execution_count": 16,
   "id": "5feb6c57",
   "metadata": {},
   "outputs": [],
   "source": [
    "model_dropout.compile(optimizer=\"adam\",\n",
    "              loss='binary_crossentropy',\n",
    "              metrics=['accuracy'])"
   ]
  },
  {
   "cell_type": "code",
   "execution_count": 17,
   "id": "1072f0c9",
   "metadata": {},
   "outputs": [],
   "source": [
    "history = model_dropout.fit(data_train_x, data_train_y,\n",
    "                            epochs=500, batch_size=32,\n",
    "                            validation_data=(data_eval_x, data_eval_y))"
   ]
  },
  {
   "cell_type": "code",
   "execution_count": 18,
   "id": "af5621a9",
   "metadata": {},
   "outputs": [],
   "source": [
    "train_loss = history.history['loss']\n",
    "val_loss = history.history['val_loss']\n",
    "train_acc = history.history['accuracy']\n",
    "val_acc = history.history['val_accuracy']"
   ]
  },
  {
   "cell_type": "code",
   "execution_count": 19,
   "id": "9c7e5be0",
   "metadata": {},
   "outputs": [],
   "source": [
    "plot_loss_acc(history)"
   ]
  },
  {
   "cell_type": "code",
   "execution_count": 20,
   "id": "1ea26242",
   "metadata": {},
   "outputs": [],
   "source": [
    "plt_decision_boundaries(model_dropout, -0.7, 0.3, -0.7, 0.7, 50)\n",
    "colors = ['red' if label == 0 else 'blue' for label in data_train_y.ravel()]\n",
    "plt.scatter(data_train_x[:, 0], data_train_x[:, 1], c=colors, s=4)\n",
    "plt.show()"
   ]
  },
  {
   "cell_type": "code",
   "execution_count": 21,
   "id": "e2652eab",
   "metadata": {},
   "outputs": [],
   "source": [
    "model_l1l2 = keras.Sequential([\n",
    "    keras.layers.Input(shape=(2,)),\n",
    "    keras.layers.Dense(5000, activation='relu', kernel_regularizer=None), # TODO: add L1L2 regularizer\n",
    "    keras.layers.Dense(5000, activation='relu', kernel_regularizer=None), # TODO: add L1L2 regularizer\n",
    "    keras.layers.Dense(5000, activation='relu', kernel_regularizer=None), # TODO: add L1L2 regularizer\n",
    "    keras.layers.Dense(1, activation='sigmoid', kernel_regularizer=None) # TODO: add L1L2 regularizer\n",
    "    ])"
   ]
  },
  {
   "cell_type": "code",
   "execution_count": 22,
   "id": "c0fc7e46",
   "metadata": {},
   "outputs": [],
   "source": [
    "model_l1l2.compile(optimizer=\"adam\",\n",
    "              loss='binary_crossentropy',\n",
    "              metrics=['accuracy'])"
   ]
  },
  {
   "cell_type": "code",
   "execution_count": 23,
   "id": "4cdb5953",
   "metadata": {},
   "outputs": [],
   "source": [
    "history = model_l1l2.fit(data_train_x, data_train_y,\n",
    "                         epochs=500, batch_size=32,\n",
    "                         validation_data=(data_eval_x, data_eval_y))"
   ]
  },
  {
   "cell_type": "code",
   "execution_count": 24,
   "id": "2265b982",
   "metadata": {},
   "outputs": [],
   "source": [
    "plot_loss_acc(history)"
   ]
  },
  {
   "cell_type": "code",
   "execution_count": 25,
   "id": "eb448036",
   "metadata": {},
   "outputs": [],
   "source": [
    "plt_decision_boundaries(model_l1l2, -0.7, 0.3, -0.7, 0.7, 50)\n",
    "colors = ['red' if label == 0 else 'blue' for label in data_train_y.ravel()]\n",
    "plt.scatter(data_train_x[:, 0], data_train_x[:, 1], c=colors, s=4)\n",
    "plt.show()"
   ]
  },
  {
   "cell_type": "code",
   "execution_count": 26,
   "id": "d1645a47",
   "metadata": {},
   "outputs": [],
   "source": [
    "import numpy as np\n",
    "import json\n",
    "\n",
    "def get_kernel_regularizer_info(layer):\n",
    "  try:\n",
    "      con = layer.get_config()['kernel_regularizer']\n",
    "      con['config']['l1']=round(con['config']['l1'], 6)\n",
    "      con['config']['l2']=round(con['config']['l2'], 6)\n",
    "      return str(con)\n",
    "  except:\n",
    "      return \"\"\n",
    "\n",
    "model_l1l2_info=[]\n",
    "for layer in model_l1l2.layers:\n",
    "  if layer.__class__.__name__==\"Dense\":\n",
    "    model_l1l2_info.append({\n",
    "        \"name\": layer.__class__.__name__,\n",
    "        \"units\":layer.units,\n",
    "        \"activation\":layer.get_config()[\"activation\"],\n",
    "        \"kernel_regularizer\": get_kernel_regularizer_info(layer)\n",
    "    })\n",
    "  elif layer.__class__.__name__==\"Dropout\":\n",
    "    model_l1l2_info.append({\n",
    "        \"name\": layer.__class__.__name__,\n",
    "        \"trainable\":layer.get_config()[\"trainable\"],\n",
    "        \"rate\": layer.get_config()[\"rate\"],\n",
    "    })\n",
    "  else:\n",
    "    model_l1l2_info.append({\"name\": layer.__class__.__name__})\n",
    "\n",
    "with open(\"model_l1l2_info.json\", \"w\") as f:\n",
    "    json.dump(model_l1l2_info, f)\n",
    "\n",
    "model_dropout_info=[]\n",
    "for layer in model_dropout.layers:\n",
    "  if layer.__class__.__name__==\"Dense\":\n",
    "    model_dropout_info.append({\n",
    "        \"name\": layer.__class__.__name__,\n",
    "        \"units\":layer.units,\n",
    "        \"activation\":layer.get_config()[\"activation\"],\n",
    "        \"kernel_regularizer\": get_kernel_regularizer_info(layer)\n",
    "    })\n",
    "  elif layer.__class__.__name__==\"Dropout\":\n",
    "    model_dropout_info.append({\n",
    "        \"name\": layer.__class__.__name__,\n",
    "        \"trainable\":layer.get_config()[\"trainable\"],\n",
    "        \"rate\": layer.get_config()[\"rate\"],\n",
    "    })\n",
    "  else:\n",
    "    model_dropout_info.append({\"name\": layer.__class__.__name__})\n",
    "\n",
    "with open(\"model_dropout_info.json\", \"w\") as f:\n",
    "    json.dump(model_dropout_info, f)"
   ]
  }
 ],
 "metadata": {},
 "nbformat": 4,
 "nbformat_minor": 5
}
